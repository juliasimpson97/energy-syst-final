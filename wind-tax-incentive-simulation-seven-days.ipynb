{
 "cells": [
  {
   "cell_type": "markdown",
   "id": "edde43b0-72cf-48ad-a21b-1ef1ba889773",
   "metadata": {},
   "source": [
    "# Final Project: Wind Integration in ISO New England\n",
    "**Eliza Cohn and Julia Simpson**\n",
    "\n",
    "**EEEL 4220 Fall 2023**"
   ]
  },
  {
   "cell_type": "markdown",
   "id": "b232f9a0-14aa-4f10-a9fc-3098eed10cf2",
   "metadata": {},
   "source": [
    "<font color='blue'>**Key information in blue**</font>"
   ]
  },
  {
   "cell_type": "markdown",
   "id": "41f690fb-f834-4188-bf52-c26baeab09fe",
   "metadata": {},
   "source": [
    "# Directions"
   ]
  },
  {
   "cell_type": "markdown",
   "id": "e5a8f9e0-3435-41b3-a8cd-2ef654af2e52",
   "metadata": {},
   "source": [
    "## Introduction\n",
    "You take the position of a policy maker to provide policy suggestions to decarbonize ISO New England and are given the attached one-bus system model and. Details about this system model are explained in the attached paper. Note the model in this paper has 8 buses with no transmission limits, so it is equivalent to a single-bus model (ISO New England has minor congestion issues).\n",
    "ISONE expects to install a total wind generation capacity of 12,000 MW by 2030 and would like to study how to best integrate wind generation. You are provided with one week (168 hours) of data including wind generation capacity factors and demand. The wind generator capacity factor is a normalized value between zero to one representation ratio between the actual wind generation and the installed wind capacity over each hour."
   ]
  },
  {
   "cell_type": "markdown",
   "id": "3cffc489-4afa-4843-92cf-9eee213c0ffe",
   "metadata": {},
   "source": [
    "## Project Objective\n",
    "\n",
    "Please finish a report summarizing how to best integrate **up to 12,000 MW of wind generation** into the system and how the wind generation **would impact the system operating cost**. You should explore three levels of wind capacity:\n",
    "- Low: 2,000 MW\n",
    "- Medium: 6,000 MW \n",
    "- High: 12,000 MW\n",
    "\n",
    "You need to implement a unit commitment simulation and explore approaches that could improve the wind integration ratio, these approaches include but are not limited to\n",
    "- Add carbon tax that increases the cost of traditional generators. You can use the EIA website1 to look up emission factors of different fuel types.\n",
    "- Add tax incentives for wind integration, in this case, you should add a negative cost of wind generation wt to the objective function.\n",
    "- Retirement of coal power plants.\n",
    "\n",
    "At each scenario, use the following indexes to compare the system performance\n",
    "- The total generation cost.\n",
    "- The wind curtailment ratio - the ratio between the wind that was not integrated into the system\n",
    "(Wt − wt) to the total wind capacity available (Wt).\n",
    "- Profits received by generators.\n",
    "- The average electricity price.\n",
    "\n",
    "Finally, your project and report should conclude your recommendation of the best solution that balances electricity cost, system-wide carbon emission, and generator revenue. Note that there will not be a unique solution, and you should use your own judgements about which one you think is the best."
   ]
  },
  {
   "cell_type": "markdown",
   "id": "ae638a8e-6c06-4ebd-971f-219f76c898a9",
   "metadata": {},
   "source": [
    "## Directions\n",
    "1. The major effort in this project is to program a unit commitment model. **Wind generation should be modeled as a zero marginal cost resource (or negative marginal cost if it has tax credits) and can be curtailed**, i.e., wt ≤ WAt, where W are installed wind capacity, At is the time-variant capacity factor given in the data, and wt is the actual wind power integrated into the grid. w should be included in the nodal power balance as a generator. For the rest, please refer to the complete unit commitment formulation in the attachment.\n",
    "2. You are given a full week’s profile but performing a unit commitment with 168 hours might be overwhelming for your computer. Instead, you should perform sequential daily unit commitments of 24 hours, and pass decision variables as the starting point (in which they become coefficients) for your next unit commitment. These will include $g_{i,t}$ and $u_{i,t}$. You must also update $SU_i$, and $SD_i$ accordingly based on the start-up/down status. For your first operating day, you can assume all generators have been off long enough and set these parameters.\n",
    "3. The generator cost data includes a quadratic term and a linear term. **You can either use mixed- integer quadratic programming to solve it directly or apply piece-wise linear (five segments per generator max) to the cost curve and convert the problem into MILP.**\n",
    "4. You can assume all generators are off at the start of each scenario with a zero must-down time, i.e., you can start any generators at the start of the horizon.\n",
    "5. After implementing a functional unit commitment model, please adjust the installed wind power capacity and other intervention methods, observe the result from each scenario, and summarize the results in your report."
   ]
  },
  {
   "cell_type": "markdown",
   "id": "d4fe00e0",
   "metadata": {},
   "source": [
    "## Wind Tax Incentive"
   ]
  },
  {
   "cell_type": "markdown",
   "id": "7df536cc",
   "metadata": {},
   "source": [
    "\"To receive the full production tax credit amount of 2.6 cents per kilowatt-hour or full investment tax credit of 30%, projects over 1 megawatt must satisfy apprenticeship and prevailing wage requirements. Facilities of under 1 MW are exempt from these requirements. The base credit amount for larger projects that do not meet the wage and apprenticeship requirements is 20% of the full credit amount.\"\n",
    "\n",
    "*Source*\n",
    "- U.S. Department of Energy’s Wind Energy Technologies Office. (n.d.). Production Tax Credit and Investment Tax Credit for Wind Energy. WINDExchange. https://windexchange.energy.gov/projects/tax-credits\n",
    "\n",
    "**All scenarios (2000MW, 6000 MW, 12000 MW) well over 1MW, so assume projects satisfy apprenticeship and wage requirements such that they're eligible for the full production tax credit of 2.6 cents per kWh – as opposed to taking advantage of the investment tax credit of 30%, since this analysis examines policy impacts on generation costs, not investment costs.**\n",
    "\n",
    "Objective function in terms of MWh:\n",
    "$$\\frac{2.6 cents}{kWh}\\frac{\\$}{100 cents}\\frac{10^3 kWh}{1MWh} = $26/MWh$$\n",
    "\n",
    "-<font color='red'>Check: is $w_t$ in MWh or MW? If in MW, need to multiply by the number of hours generating (1 week? or called value?) --> In MW, so need hours. \n",
    "\n",
    "Each credit will applied over <font color='red'>1 hr<font color='black'> the relevant wind production, NOT the installed capacity, since it is a production tax credit:\n",
    "$$\\frac{\\$26}{MWh}*1 hr = \\$26 per MW$$\n",
    "\n",
    "Since objective function in $\\$$:\n",
    "$$\\frac{\\$26}{MW} => \\$26*w_t[MW]$$\n",
    "\n",
    "-<font color='red'>Assume hr, since previous approach results in negative operating cost in the millions. Makes sense because objective function summed over all t in hours."
   ]
  },
  {
   "cell_type": "markdown",
   "id": "d5a1d5f2-d135-4855-9515-7c4024c488c5",
   "metadata": {},
   "source": [
    "### Objective Function including Wind Tax Incentive"
   ]
  },
  {
   "cell_type": "markdown",
   "id": "015c8da7-8559-4d04-9e04-469b9c3adea7",
   "metadata": {},
   "source": [
    "$$ min \\sum\\limits_{t} \\sum\\limits_{i} (QC_ig_{i,t}^2 +LC_ig_{i,t} + NLC_iu_{i,t} +SUC_iv_{i,t}) + (9000)s_t - (26)w_t$$"
   ]
  },
  {
   "cell_type": "markdown",
   "id": "8e181166-ebd0-41e2-bdae-401db1ddaa3f",
   "metadata": {},
   "source": [
    "### Constraints"
   ]
  },
  {
   "cell_type": "markdown",
   "id": "6cf30f74-f733-48b4-8ce5-63875c602913",
   "metadata": {},
   "source": [
    "Power balance, the dual variable $\\lambda_t$ associated with this constraint is the system price\n",
    "$$ (1) \\sum\\limits_{i} g_{i,t} + w_t + s_t = D_t : \\lambda_t $$ "
   ]
  },
  {
   "cell_type": "markdown",
   "id": "0f64107f-68dd-4523-8563-5a9690629f4e",
   "metadata": {},
   "source": [
    "Generation limit constraint $ (i ∈ {1,2,...,I}, t ∈ {1,2,...,T}) $ \n",
    "$$ \\text{(2)  } Gmin_iu_{i,t} \\leq g_{i,t} \\leq Gmax_iu_{i,t}$$"
   ]
  },
  {
   "cell_type": "markdown",
   "id": "3a2a282f-b871-404f-b7c1-54cbda73eb72",
   "metadata": {},
   "source": [
    "Wind generation limit\n",
    "$$ \\text{(3)  } w_t \\leq \\alpha_tW $$"
   ]
  },
  {
   "cell_type": "markdown",
   "id": "ebf81c05-4fa9-45c3-ba5b-37525d7ea5a6",
   "metadata": {},
   "source": [
    "Generation ramp constraint, the minimum generation limit adds to the ramp-up limit when the generator is turned on or off $(i ∈ {1,2,...,I}, t ∈ {1,2,...,T}) $\n",
    "\n",
    "$$ \\text{(4)  } −Gmin_iz_{i,t} − RR_i ≤ g_{i,t} − g_{i,t−1} ≤ RR_i + Gmin_iv_{i,t} $$"
   ]
  },
  {
   "cell_type": "markdown",
   "id": "d0486912-a14b-48f9-a276-85f1b3241986",
   "metadata": {},
   "source": [
    "Generator start-up and shut-down logic $(i ∈ {1,2,...,I}, t ∈ {1,2,...,T})$\n",
    "$$ \\text{(5)  } v_{i,t} − z_{i,t} = u_{i,t} − u_{i,t−1} $$\n",
    "$$ \\text{(6)  } v_{i,t} + z_{i,t} ≤ 1 $$"
   ]
  },
  {
   "cell_type": "markdown",
   "id": "4a8c603e-4ee4-4e6d-98e1-6506b774cd22",
   "metadata": {},
   "source": [
    "System reserve (3+5 rule: hourly reserve amount must equal to 3% of demand and 5% of integrated wind)\n",
    "$$ \\text{(7)  } \\sum\\limits_{i} r_{i,t} \\geq (3\\%) D_t + (5\\%)w_t $$\n",
    "$$ \\text{(8)  } r_{i,t} \\leq  Gmax_iu_{i,t} − g_{i,t} $$\n",
    "$$ \\text{(9)  } r_{i,t} \\leq RR_i $$"
   ]
  },
  {
   "cell_type": "markdown",
   "id": "afb3adb5",
   "metadata": {},
   "source": [
    "#### Min Up/Down Time"
   ]
  },
  {
   "cell_type": "markdown",
   "id": "ea8f98bc-5543-4224-84ed-794eca25c55f",
   "metadata": {},
   "source": [
    "Generator minimum up time constraint, note the use of the alternative time index τ , and the constraint only accounts for periods beyond the required must on or off time since the start of the optimization horizon $(i ∈ {1,2,...,I})$\n",
    "$$ \\text{(10)  } \\sum\\limits_{\\tau=max{t−Tup_i+1,1}}^t v_{i,τ} ≤ u_{i,t},t ∈ {SU_i,...,T}$$ \n",
    "$$ \\text{(11)  } \\sum\\limits_{\\tau=max{t−Tdn_i+1,1}}^t z_{i,τ} ≤ 1-u_{i,t},t ∈ {SD_i,...,T}$$ "
   ]
  },
  {
   "cell_type": "markdown",
   "id": "790ff573",
   "metadata": {},
   "source": [
    "\n",
    "$$ \\text{(12)  } \\sum\\limits_{t=1}^{SU_i} u_{i,t} = SU_i $$\n",
    "$$ \\text{(13)  } \\sum\\limits_{t=1}^{SD_i} u_{i,t} = 0 $$"
   ]
  },
  {
   "cell_type": "markdown",
   "id": "2102c5e4",
   "metadata": {},
   "source": [
    "#### Calculate SU & SD for Next Day"
   ]
  },
  {
   "cell_type": "markdown",
   "id": "437a4f30",
   "metadata": {},
   "source": [
    "$$ SU_i = max(Tup_i - \\sum_{v_i[\\tau] = 1}^t u_{i,t},0)$$\n",
    "$$\\text{Let } v_i[\\tau] = 1 \\text{ be the time of most recent turn on}$$\n",
    "$$$$\n",
    "$$ SD_i = max(Tdn_i - \\sum_{z_i[\\tau] = 1}^t(1 - u_{i,t}),0) $$\n",
    "$$\\text{Let } z_i[\\tau] = 1 \\text{ be the time of most recent turn off}$$"
   ]
  },
  {
   "cell_type": "code",
   "execution_count": 1,
   "id": "143e2f53",
   "metadata": {},
   "outputs": [],
   "source": [
    "def fuel_to_energy(fuel):\n",
    "    if fuel in ['NUC ',' NUC ']:\n",
    "        return 'Nuclear' \n",
    "    if fuel in [' BIT ', ' SUB ']:\n",
    "        return 'Coal' \n",
    "    if fuel in [' RFO ']:\n",
    "        return 'Petroleum' \n",
    "    if fuel in [' NGLN ', ' NGA4 ', ' NGA1 ', ' NGTN ', ' NGMN ', ' NGIR ', ' NGPN ', ' NGT2 ',' NGT4 ', ' NGT1 ']:\n",
    "        return 'Natural Gas' \n",
    "    return None"
   ]
  },
  {
   "cell_type": "code",
   "execution_count": 2,
   "id": "7082568b",
   "metadata": {},
   "outputs": [],
   "source": [
    "def EF(energy):\n",
    "    if energy in ['Nuclear']:\n",
    "        return 0\n",
    "    if energy in ['Coal']:\n",
    "        return 26.077\n",
    "    if energy in ['Petroleum']:\n",
    "        return 26.984\n",
    "    if energy in ['Natural Gas']:\n",
    "        return 10.998\n",
    "    return None"
   ]
  },
  {
   "cell_type": "code",
   "execution_count": 3,
   "id": "cd33b76d",
   "metadata": {},
   "outputs": [],
   "source": [
    "## TOTAL GENERATOR STATUS\n",
    "def weekly_plot(g, w, s, LOAD, D, T, days, W):\n",
    "    # Time axis\n",
    "    x = np.linspace(0, (D+1)*T-1, (D+1)*T) \n",
    "\n",
    "    plt.plot(x, g, label = 'Sum of Generator Output')\n",
    "    plt.plot(x, w, label='Wind Generation', color='g')\n",
    "    plt.plot(x, s, label='Load Shedding (slack)', color='r')\n",
    "    plt.plot(x, LOAD, label='Demand', color='b')\n",
    "\n",
    "    # Adding labels and title\n",
    "    plt.xlim(0,(D+1)*T-1)\n",
    "    plt.xticks(np.arange(0, (D+1)*T+1, 12, dtype=int))  # Only integer x ticks\n",
    "    plt.ylim(0, max(LOAD)+1000)\n",
    "    plt.xlabel('Time (hours)')\n",
    "    plt.ylabel('Generation (MW)')\n",
    "    plt.title(f'Generation, Wind, and Demand for {days} Days')\n",
    "    # plt.text(0.1, max(LOAD), f'Active Generators: {len(nonzero_gens)}', verticalalignment='center', horizontalalignment='left')\n",
    "\n",
    "    # Adding a legend\n",
    "    plt.legend(loc='upper right', bbox_to_anchor=(1.5, 1))\n",
    "    \n",
    "    plt.savefig(f'images/wind-tax-incentive-{W}-integration.png', bbox_inches='tight')\n",
    "\n",
    "    # Display the plot\n",
    "    plt.show()"
   ]
  },
  {
   "cell_type": "code",
   "execution_count": 4,
   "id": "4f0044d3",
   "metadata": {},
   "outputs": [],
   "source": [
    "def wind_curtailment_ratio(D, T, W, w):\n",
    "    Wt = sum(load.WindCF[0:T*(D+1)]*W)\n",
    "    wt = sum(w)\n",
    "    return round((Wt-wt)/Wt,2)"
   ]
  },
  {
   "cell_type": "markdown",
   "id": "3186c7dc-9ac6-4070-9717-f1df3f1fd456",
   "metadata": {},
   "source": [
    "## Data Import"
   ]
  },
  {
   "cell_type": "code",
   "execution_count": 5,
   "id": "9a17257f-90df-40b8-8488-7cbbbb84c55f",
   "metadata": {},
   "outputs": [
    {
     "name": "stdout",
     "output_type": "stream",
     "text": [
      "Intel MKL WARNING: Support of Intel(R) Streaming SIMD Extensions 4.2 (Intel(R) SSE4.2) enabled only processors has been deprecated. Intel oneAPI Math Kernel Library 2025.0 will require Intel(R) Advanced Vector Extensions (Intel(R) AVX) instructions.\n",
      "Intel MKL WARNING: Support of Intel(R) Streaming SIMD Extensions 4.2 (Intel(R) SSE4.2) enabled only processors has been deprecated. Intel oneAPI Math Kernel Library 2025.0 will require Intel(R) Advanced Vector Extensions (Intel(R) AVX) instructions.\n"
     ]
    }
   ],
   "source": [
    "import cvxpy as cp\n",
    "import numpy as np\n",
    "import gurobipy\n",
    "import pandas as pd\n",
    "import matplotlib.pyplot as plt\n",
    "import time\n",
    "\n",
    "# Disable SettingWithCopyWarning\n",
    "pd.set_option('mode.chained_assignment', None)\n",
    "\n",
    "gen = pd.read_csv('generator_data.csv')\n",
    "load = pd.read_csv('wind_and_demand.csv')\n",
    "\n",
    "## Emission Cost\n",
    "gen['Energy Source'] = gen['Fuel Type']\n",
    "for index in np.arange(0,len(gen)):\n",
    "    gen['Energy Source'][index]=fuel_to_energy(gen['Fuel Type'][index])\n",
    "    \n",
    "gen['Emission Factor'] = gen['Energy Source']\n",
    "for index in np.arange(0,len(gen)):\n",
    "    gen['Emission Factor'][index]=EF(gen['Energy Source'][index])\n",
    "    \n",
    "EF = np.array(gen['Emission Factor'].to_list())\n",
    "\n",
    "## Parameter Load\n",
    "QC      = gen['Dispatch Cost Quadratic\\nCoefficient b \\n($/MW^2h)'].ravel() # quadratic gen cost \n",
    "LC      = gen['Dispatch Cost Linear\\nCoefficient a \\n($/MWh)'].ravel()  # marginal generator cost\n",
    "NLC     = gen['NoLoad\\nCost ($)'].ravel()  # no load cost\n",
    "SUC     = gen['StartUp \\nCost ($)'].ravel() # start up cost\n",
    "GMin    = gen['Minimum generation (MW)'].ravel()  # minium generation\n",
    "GMax    = gen['Capacity \\n(MW)'].ravel()  # maximum generation\n",
    "RR      = gen['Ramp Rate\\n(MW/hr)'].ravel()\n",
    "Tup     = gen['MinUp\\nTime (hr)'].ravel()\n",
    "Tdn     = gen['MinDown \\nTime (hr)'].ravel()\n",
    "\n",
    "I = gen.shape[0] # number of generators\n",
    "T = 24; # number of hours\n",
    "\n",
    "## Variable Definition\n",
    "g = cp.Variable((I,T), nonneg = True)   # generator dispatch\n",
    "r = cp.Variable((I,T), nonneg = True)   # hourly reserve generator\n",
    "w = cp.Variable((T), nonneg = True)   # wind power dispatch\n",
    "s = cp.Variable((T), nonneg = True)   # slack variable for load shedding\n",
    "\n",
    "u = cp.Variable((I,T), boolean = True)   # commitment status\n",
    "v = cp.Variable((I,T), boolean = True)   # start-up status\n",
    "z = cp.Variable((I,T), boolean = True)   # inverse of start-up status"
   ]
  },
  {
   "cell_type": "markdown",
   "id": "85d3f241",
   "metadata": {},
   "source": [
    "## Full Week Simulation"
   ]
  },
  {
   "cell_type": "code",
   "execution_count": 6,
   "id": "75e5b11c",
   "metadata": {},
   "outputs": [
    {
     "name": "stdout",
     "output_type": "stream",
     "text": [
      "Calculating Generation for Day 1!\n",
      "Generating Constraints...\n",
      "Solving...\n",
      "Set parameter Username\n",
      "Academic license - for non-commercial use only - expires 2024-12-10\n",
      "Time to solve: 1 minutes\n",
      "Problem Status: optimal\n",
      "Total operating cost: 5.42$ Million\n",
      "Generating Next Day Report...\n",
      "Day Complete \n",
      "\n",
      "Calculating Generation for Day 2!\n",
      "Generating Constraints...\n",
      "Solving...\n",
      "Time to solve: 10 minutes\n",
      "Problem Status: optimal\n",
      "Total operating cost: 5.27$ Million\n",
      "Generating Next Day Report...\n",
      "Day Complete \n",
      "\n",
      "Calculating Generation for Day 3!\n",
      "Generating Constraints...\n",
      "Solving...\n",
      "Time to solve: 1 minutes\n",
      "Problem Status: optimal\n",
      "Total operating cost: 4.99$ Million\n",
      "Generating Next Day Report...\n",
      "Day Complete \n",
      "\n",
      "Calculating Generation for Day 4!\n",
      "Generating Constraints...\n",
      "Solving...\n",
      "Time to solve: 7 minutes\n",
      "Problem Status: optimal\n",
      "Total operating cost: 5.3$ Million\n",
      "Generating Next Day Report...\n",
      "Day Complete \n",
      "\n",
      "Calculating Generation for Day 5!\n",
      "Generating Constraints...\n",
      "Solving...\n",
      "Time to solve: 1 minutes\n",
      "Problem Status: optimal\n",
      "Total operating cost: 11.29$ Million\n",
      "Generating Next Day Report...\n",
      "Day Complete \n",
      "\n",
      "Calculating Generation for Day 6!\n",
      "Generating Constraints...\n",
      "Solving...\n",
      "Time to solve: 1 minutes\n",
      "Problem Status: optimal\n",
      "Total operating cost: 11.06$ Million\n",
      "Generating Next Day Report...\n",
      "Day Complete \n",
      "\n",
      "Calculating Generation for Day 7!\n",
      "Generating Constraints...\n",
      "Solving...\n",
      "Time to solve: 1 minutes\n",
      "Problem Status: optimal\n",
      "Total operating cost: 9.89$ Million\n",
      "Generating Next Day Report...\n",
      "Day Complete \n",
      "\n",
      "--WEEKLY REPORT--\n",
      "Installed Wind Capacity: 12000\n",
      "Total Generation Cost: 53.23 $ Million\n",
      "Wind Curtailment Ratio: 0.0\n"
     ]
    },
    {
     "data": {
      "image/png": "[encoded data removed]",
      "text/plain": [
       "<Figure size 640x480 with 1 Axes>"
      ]
     },
     "metadata": {},
     "output_type": "display_data"
    }
   ],
   "source": [
    "days = 7\n",
    "total_cost = 0\n",
    "total_gen = np.array([])\n",
    "total_wind = np.array([])\n",
    "total_slack = np.array([])\n",
    "weekly_u = np.array([])\n",
    "weekly_v = np.array([])\n",
    "weekly_z = np.array([])\n",
    "\n",
    "W = 12000 # Vary Wind Capacty[2000, 6000, 12000]\n",
    "\n",
    "for D in np.arange(0,days):\n",
    "    print(\"Calculating Generation for Day \" + str(D+1) + \"!\")\n",
    "    \n",
    "    ## Parameter Definition \n",
    "    if D == 0:\n",
    "        u0      = np.zeros(I)  \n",
    "        g0      = np.zeros(I)  \n",
    "        SU0     = np.zeros(I)\n",
    "        SD0     = np.zeros(I)\n",
    "    else: \n",
    "        report = pd.read_excel(f'report_wind_tax_incentive_{W}.xlsx')\n",
    "        report = report.drop('Unnamed: 0', axis=1)\n",
    "        g0      = report['Generator Output EOD ' + str(D-1)]\n",
    "        u0      = report['Committment Status EOD ' + str(D-1)]\n",
    "        SU0     = report['SU EOD ' + str(D-1)]\n",
    "        SD0     = report['SD EOD ' + str(D-1)]\n",
    "\n",
    "    SU      = np.zeros(I)  # Defined at end of day and saved \n",
    "    SD      = np.zeros(I)  # Defined at end of day and saved \n",
    "    LOAD    = load.Demand[D*T:T*(D+1)] # Indexing based on run day\n",
    "    LOAD    = LOAD.reset_index(drop=True)\n",
    "\n",
    "    alpha = load.WindCF[D*T:T*(D+1)]\n",
    "    alpha = alpha.reset_index(drop=True)\n",
    "    \n",
    "    ## Objective Function\n",
    "    obj_WIT = cp.Minimize(sum(QC @ g**2 + (LC+EF) @ g + NLC @ u + SUC @ v + 9000*s - 26*w))\n",
    "    # obj = cp.Minimize(sum(QC @ g**2 + LC @ g + NLC @ u + SUC @ v + 9000*s)) \n",
    "    \n",
    "    ## Constraints\n",
    "    print(\"Generating Constraints...\")\n",
    "    con_set = [] \n",
    "    for t in range(T): \n",
    "        con_set.append(LOAD[t] == sum(g[:, t])+ w[t] + s[t])      # (1) Demand balance constraint \n",
    "        con_set.append( w[t] <= alpha[t]*W )                      # (3) Available wind\n",
    "        con_set.append(sum(r[:,t]) >= 0.03*LOAD[t] + 0.05*w[t])   # (7) Reserve capacity \n",
    "\n",
    "        for i in range(I): # go through each generator\n",
    "            con_set.append(g[i][t] <= GMax[i] * u[i][t])  # (2) Maximum generation limits\n",
    "            con_set.append(g[i][t] >= GMin[i] * u[i][t])  # (2) Minimum generation limits\n",
    "\n",
    "            con_set.append(v[i][t] + z[i][t] <= 1)        # (6) Start-up and shut-down logic\n",
    "\n",
    "            con_set.append(r[i][t] <= GMax[i]*u[i][t] - g[i][t])   # (8) Available reserve \n",
    "            con_set.append(r[i][t] <= RR[i])                       # (9) Available reserve ramp rate\n",
    "            \n",
    "            if t >= SU0[i]:                               # (10) Min Up Time \n",
    "                tau = max(t-Tup[i]+1,1)\n",
    "                con_set.append(sum(v[i][tau:t]) <= u[i][t])\n",
    "\n",
    "            if t >= SD0[i]:                               # (11) Min Down Time\n",
    "                tau = max(t-Tdn[i]+1,1)\n",
    "                con_set.append(sum(z[i][tau:t]) <= 1 - u[i][t])\n",
    "\n",
    "            if t==0: \n",
    "                con_set.append(v[i][0] - z[i][0] == u[i][0] - u0[i])          # (5) Generator startup-shutdown logic\n",
    "                con_set.append(g[i][0] - g0[i] <= RR[i] + GMin[i] * v[i][0])  # (4) Assume g0 = g[i][-1] state from previous day \n",
    "                con_set.append(g[i][0] - g0[i] >= -GMin[i] * z[i][0] - RR[i]) # (4) Assume g0 = g[i][-1] state from previous day turned on or off\n",
    "            else:\n",
    "                con_set.append(v[i][t] - z[i][t] == u[i][t] - u[i][t-1])          # (5) Generator startup-shutdown logic\n",
    "                con_set.append(g[i][t] - g[i][t-1] <= RR[i] + GMin[i] * v[i][t])  # (4) Max gen limit added to ramp limit when generator turned on or off\n",
    "                con_set.append(g[i][t] - g[i][t-1] >= -GMin[i] * z[i][t] - RR[i]) # (4) Max gen limit added to ramp limit when generator turned on or off\n",
    "                \n",
    "    for i in range(I): \n",
    "        if SU0[i]:      # (12) Min Up Time \n",
    "            for t in range(int(SU[i])):\n",
    "                con_set.append(u[i][t] == 1)\n",
    "        if SD0[i]:      # (13) Min Up Time \n",
    "            sd = int(SD[i])\n",
    "            if sd > T: \n",
    "                SD[i] = sd - T \n",
    "                sd = T \n",
    "            for t in range(sd):\n",
    "                con_set.append(u[i][t] == 0)\n",
    "                \n",
    "    ## Solve and Check Results\n",
    "    print(\"Solving...\")\n",
    "    t = time.time()\n",
    "    prob = cp.Problem(obj_WIT, con_set)\n",
    "    prob.solve(solver = \"GUROBI\",MIPGap=0.01)\n",
    "    prob.solve();\n",
    "    elapsed = time.time() - t\n",
    "    print(\"Time to solve: \" + str(round(elapsed/60)) + \" minutes\")\n",
    "    print(\"Problem Status: \" + prob.status)\n",
    "    print(\"Total operating cost: \" + str(round(obj_WIT.value/1e6,2)) + \"$ Million\")\n",
    "    \n",
    "    ## End of Day Accounting\n",
    "    for i in range(I):\n",
    "        if np.any(v[i].value): # if it has been turned on \n",
    "            turnon_time = np.where(v[i].value)[0][-1] \n",
    "            SU[i] = max(Tup[i] - sum(u[i][turnon_time:].value),0) \n",
    "        else: \n",
    "            SU[i] = 0\n",
    "\n",
    "        if np.any(z[i].value): # if it has been turned off\n",
    "            turnoff_time = np.where(z[i].value)[0][-1]\n",
    "            SD[i] = max(Tdn[i] - sum(1 - u[i][turnoff_time:].value),0)\n",
    "        else:\n",
    "            SD[i] = 0\n",
    "      \n",
    "    ## Report for Next Day\n",
    "    print(\"Generating Next Day Report...\")\n",
    "    report_eod = pd.DataFrame({\n",
    "    'Generator Output EOD ' + str(D): pd.Series(g.value[:,T-1]), # end of day final values\n",
    "    'Committment Status EOD ' + str(D): pd.Series(u.value[:,T-1]),\n",
    "    'SU EOD ' + str(D): pd.Series(SU),\n",
    "    'SD EOD ' + str(D): pd.Series(SD)\n",
    "    })\n",
    "    \n",
    "    if D == 0: \n",
    "        result = report_eod\n",
    "        weekly_u = u.value\n",
    "        weekly_v = v.value\n",
    "        weekly_z = z.value\n",
    "    else: \n",
    "        result = pd.concat([report, report_eod], axis=1) \n",
    "        weekly_u = np.concatenate((weekly_u, u.value), axis = 1)\n",
    "        weekly_v = np.concatenate((weekly_v, v.value), axis = 1)\n",
    "        weekly_z = np.concatenate((weekly_z, z.value), axis = 1)\n",
    "        \n",
    "    result.to_excel(f'report_wind_tax_incentive_{W}.xlsx')\n",
    "    total_cost += obj_WIT.value\n",
    "    total_gen = np.concatenate((total_gen, sum(g.value[:])))\n",
    "    total_wind = np.concatenate((total_wind, w.value))\n",
    "    total_slack = np.concatenate((total_slack, s.value))\n",
    "    print(\"Day Complete \\n\")\n",
    "    \n",
    "\n",
    "print(\"--WEEKLY REPORT--\")\n",
    "print(f\"Installed Wind Capacity: {W}\")\n",
    "print(f\"Total Generation Cost: {round(total_cost/1e6,2)} $ Million\")\n",
    "print(f\"Wind Curtailment Ratio: {wind_curtailment_ratio(D, T, W, total_wind)}\")\n",
    "\n",
    "## Plots\n",
    "weekly_plot(total_gen, total_wind, total_slack, load.Demand[:(D+1)*T], D, T, days, W)"
   ]
  },
  {
   "cell_type": "markdown",
   "id": "28195c6e",
   "metadata": {},
   "source": [
    "## Marginal Price (Fix Binary Indicators)"
   ]
  },
  {
   "cell_type": "code",
   "execution_count": null,
   "id": "5f0420a7",
   "metadata": {},
   "outputs": [],
   "source": [
    "days = 7\n",
    "total_cost = []\n",
    "total_marginalprice = []\n",
    "\n",
    "total_gen = np.array([])\n",
    "total_wind = np.array([])\n",
    "total_slack = np.array([])\n",
    "\n",
    "for D in np.arange(0,days):\n",
    "    print(\"Calculating Generation for Day \" + str(D+1) + \"!\")\n",
    "    \n",
    "    u = weekly_u[:,D*T:T*(D+1)]\n",
    "    v = weekly_v[:,D*T:T*(D+1)]\n",
    "    z = weekly_z[:,D*T:T*(D+1)]\n",
    "\n",
    "    ## Parameter Definition \n",
    "    if D == 0: \n",
    "        g0      = np.zeros(I)  \n",
    "    else: \n",
    "        report = pd.read_excel(f'report_binary_wind_tax_incentive_{W}.xlsx')\n",
    "        report = report.drop('Unnamed: 0', axis=1)\n",
    "        g0      = report['Generator Output EOD ' + str(D-1)]\n",
    "\n",
    "    LOAD    = load.Demand[D*T:T*(D+1)] # Indexing based on run day\n",
    "    LOAD    = LOAD.reset_index(drop=True)\n",
    "\n",
    "    alpha = load.WindCF[D*T:T*(D+1)]\n",
    "    alpha = alpha.reset_index(drop=True)\n",
    "    \n",
    "    ## Objective Function\n",
    "    obj_WIT = cp.Minimize(sum(QC @ g**2 + (LC+EF) @ g + NLC @ u + SUC @ v + 9000*s - 26*w))\n",
    "    # obj = cp.Minimize(sum(QC @ g**2 + LC @ g + NLC @ u + SUC @ v) + 9000*s) \n",
    "    \n",
    "    ## Constraints\n",
    "    print(\"Generating Constraints...\")\n",
    "    con_set = [] \n",
    "    \n",
    "    for t in range(T): \n",
    "        con_set.append(LOAD[t] == sum(g[:, t])+ w[t] + s[t])    # (1) Demand balance constraint \n",
    "    \n",
    "    for t in range(T): \n",
    "        con_set.append( w[t] <= alpha[t]*W )                    # (3) Available wind\n",
    "        con_set.append(sum(r[:,t]) >= 0.03*LOAD[t] + 0.05*w[t])   # (7) Reserve capacity \n",
    "\n",
    "        for i in range(I): # go through each generator\n",
    "            con_set.append(g[i][t] <= GMax[i] * u[i][t])  # (2) Maximum generation limits\n",
    "            con_set.append(g[i][t] >= GMin[i] * u[i][t])  # (2) Minimum generation limits\n",
    "            con_set.append(r[i][t] <= GMax[i]*u[i][t] - g[i][t])   # (8) Available reserve \n",
    "            con_set.append(r[i][t] <= RR[i])                       # (9) Available reserve ramp rate\n",
    "\n",
    "            if t==0: \n",
    "                con_set.append(g[i][0] - g0[i] <= RR[i] + GMin[i] * v[i][0])  # (4) Assume g0 = g[i][-1] state from previous day \n",
    "                con_set.append(g[i][0] - g0[i] >= -GMin[i] * z[i][0] - RR[i]) # (4) Assume g0 = g[i][-1] state from previous day turned on or off\n",
    "            else:\n",
    "                con_set.append(g[i][t] - g[i][t-1] <= RR[i] + GMin[i] * v[i][t])  # (4) Max gen limit added to ramp limit when generator turned on or off\n",
    "                con_set.append(g[i][t] - g[i][t-1] >= -GMin[i] * z[i][t] - RR[i]) # (4) Max gen limit added to ramp limit when generator turned on or off\n",
    "                \n",
    "    ## Solve and Check Results\n",
    "    print(\"Solving...\")\n",
    "    t = time.time()\n",
    "    prob = cp.Problem(obj_WIT, con_set)\n",
    "    prob.solve(solver = \"GUROBI\")\n",
    "    prob.solve();\n",
    "    elapsed = time.time() - t\n",
    "    print(\"Time to solve: \" + str(round(elapsed/60)) + \" minutes\")\n",
    "    print(\"Problem Status: \" + prob.status)\n",
    "    print(\"Total operating cost: \" + str(round(obj_WIT.value/1e6,2)) + \"$ Million\")\n",
    "      \n",
    "    ## Report for Next Day\n",
    "    print(\"Generating Next Day Report...\")\n",
    "    report_eod = pd.DataFrame({\n",
    "    'Generator Output EOD ' + str(D): pd.Series(g.value[:,T-1]), # end of day final values\n",
    "    })\n",
    "    \n",
    "    if D == 0: \n",
    "        result = report_eod\n",
    "    else: \n",
    "        result = pd.concat([report, report_eod], axis=1) \n",
    "        \n",
    "    result.to_excel(f'report_binary_wind_tax_incentive_{W}.xlsx')\n",
    "    \n",
    "    for i in range(len(con_set)):\n",
    "        if type(con_set[i]) == cp.constraints.zero.Equality:\n",
    "            total_marginalprice.append(-con_set[i].dual_value)\n",
    "\n",
    "    total_cost.append(obj_WIT.value)\n",
    "    total_gen = np.concatenate((total_gen, sum(g.value[:])))\n",
    "    total_wind = np.concatenate((total_wind, w.value))\n",
    "    total_slack = np.concatenate((total_slack, s.value))\n",
    "    print(\"Day Complete \\n\")\n",
    "    \n",
    "\n",
    "print(\"--WEEKLY REPORT--\")\n",
    "print(f\"Installed Wind Capacity: {W}\")\n",
    "print(f\"Total Generation Cost: {round(sum(total_cost)/1e6,2)} $ Million\")\n",
    "print(f\"Wind Curtailment Ratio: {wind_curtailment_ratio(D, T, W, total_wind)}\")"
   ]
  },
  {
   "cell_type": "markdown",
   "id": "983ee9db",
   "metadata": {},
   "source": [
    "## Cost Analysis"
   ]
  },
  {
   "cell_type": "markdown",
   "id": "002eb9e6",
   "metadata": {},
   "source": [
    "$$ \\text{Consumer Cost} = \\sum_{t=0}^{T = 168}\\lambda_tD_t$$\n",
    "$$ \\lambda_t = \\text{Marginal Price at time } t$$"
   ]
  },
  {
   "cell_type": "markdown",
   "id": "549396bf",
   "metadata": {},
   "source": [
    "$$ Profit = \\sum_{t=0}^{T = 168}\\lambda_tD_t - \\sum^7_{d=1}Gen. Cost_d $$"
   ]
  },
  {
   "cell_type": "code",
   "execution_count": null,
   "id": "ad2910db",
   "metadata": {},
   "outputs": [],
   "source": [
    "avg_price = round(np.average(total_marginalprice[1:]),2) #ignoring the outlier at t = 0\n",
    "print(f\"Average Electricity Price: {avg_price} $/MWh\") ## TO DO\n",
    "\n",
    "consumer_cost = np.dot(total_marginalprice, load.Demand[0:(D+1)*T])\n",
    "profit = consumer_cost - sum(total_cost)\n",
    "print(f\"Generator Profit: {round(profit/1e6,2)} $M\") "
   ]
  },
  {
   "cell_type": "code",
   "execution_count": null,
   "id": "f66eb758",
   "metadata": {},
   "outputs": [],
   "source": [
    "plt.title(\"Hourly Marginal Price of Electricity\")\n",
    "plt.xlabel('Time (hr)')\n",
    "plt.ylabel('MP $/MWh')\n",
    "plt.plot(total_marginalprice)\n",
    "plt.savefig(f'images/wind-tax-incentive-{W}-integration-marginalprice.png', bbox_inches='tight')\n",
    "plt.show()"
   ]
  },
  {
   "cell_type": "code",
   "execution_count": null,
   "id": "90be3995",
   "metadata": {},
   "outputs": [],
   "source": [
    "plt.title(\"Daily Operating Costs\")\n",
    "plt.xlabel('Time (hr)')\n",
    "plt.ylabel('MP $/MWh')\n",
    "plt.plot(total_cost)\n",
    "plt.savefig(f'images/wind-tax-incentive-{W}-integration-opcosts.png', bbox_inches='tight')\n",
    "plt.show()"
   ]
  },
  {
   "cell_type": "code",
   "execution_count": null,
   "id": "c06734cf",
   "metadata": {},
   "outputs": [],
   "source": [
    "total_gen_6000 = total_gen\n",
    "total_wind_6000 = total_wind\n",
    "total_slack_6000 = total_slack\n",
    "marginalprice_6000 = total_marginalprice"
   ]
  },
  {
   "cell_type": "code",
   "execution_count": null,
   "id": "82f54dd7",
   "metadata": {},
   "outputs": [],
   "source": [
    "simulation = pd.DataFrame({\n",
    "    'Generator Output': total_gen_6000, \n",
    "    'Wind Output': total_wind_6000,\n",
    "    'Slack Output': total_slack_6000,\n",
    "    'Marginal Price': marginalprice_6000\n",
    "    })\n",
    "simulation.to_excel(f'wind-tax-incentive-{W}-simulation.xlsx')"
   ]
  },
  {
   "cell_type": "code",
   "execution_count": null,
   "id": "d77e5e0d",
   "metadata": {},
   "outputs": [],
   "source": [
    "total_gen_2000 = total_gen\n",
    "total_wind_2000 = total_wind\n",
    "total_slack_2000 = total_slack\n",
    "marginalprice_2000 = total_marginalprice"
   ]
  },
  {
   "cell_type": "code",
   "execution_count": null,
   "id": "c869af27",
   "metadata": {},
   "outputs": [],
   "source": [
    "# Save sim data"
   ]
  },
  {
   "cell_type": "markdown",
   "id": "f99ea72e",
   "metadata": {},
   "source": [
    "## APPENDIX"
   ]
  },
  {
   "cell_type": "code",
   "execution_count": null,
   "id": "d186352d",
   "metadata": {},
   "outputs": [],
   "source": [
    "## INDIVIDUAL GENERATOR STATUS\n",
    "# Return generators that turned on at any time t and their original index\n",
    "nonzero_gens = [(i, row) for i, row in enumerate(g.value) if np.any(row != 0)]\n",
    "\n",
    "# Time axis\n",
    "x = np.linspace(0, T-1, T) \n",
    "\n",
    "# Plotting the active generators\n",
    "I_no0 = len(nonzero_gens)\n",
    "for i in range(I_no0):\n",
    "    plt.plot(x, nonzero_gens[i][1],label=f'Generator {nonzero_gens[i][0]}')\n",
    "    \n",
    "plt.plot(x, w.value, label='Wind Generation', color='g')\n",
    "plt.plot(x, s.value, label='Load Shedding (slack)', color='r')\n",
    "# plt.plot(x, LOAD, label='Demand', color='b')\n",
    "\n",
    "# Adding labels and title\n",
    "plt.xlim(0,T-1)\n",
    "plt.xticks(x)  # Only integer x ticks\n",
    "#plt.ylim(0, max(LOAD)+1000)\n",
    "plt.xlabel('Time (hours)')\n",
    "plt.ylabel('Generation (MW)')\n",
    "plt.title(f'Active Generators, Wind, and Demand for Day {D+1}')\n",
    "plt.text(0.1, 1300, f'Active Generators: {len(nonzero_gens)}', verticalalignment='center', horizontalalignment='left')\n",
    "\n",
    "# Adding a legend\n",
    "plt.legend(loc='upper right', bbox_to_anchor=(1.5, 1))\n",
    "\n",
    "# Display the plot\n",
    "plt.show()"
   ]
  },
  {
   "cell_type": "code",
   "execution_count": null,
   "id": "0b1739b2",
   "metadata": {},
   "outputs": [],
   "source": [
    "# Plot Wind Capacity\n",
    "plt.plot(load.WindCF*W)\n",
    "plt.title('Available Wind Capacity')\n",
    "plt.xlabel('Hours')\n",
    "plt.ylabel('MW')\n",
    "plt.show()"
   ]
  },
  {
   "cell_type": "code",
   "execution_count": null,
   "id": "362deec6",
   "metadata": {},
   "outputs": [],
   "source": []
  },
  {
   "cell_type": "code",
   "execution_count": null,
   "id": "7d8395ba-9265-4261-a95d-3a848586463c",
   "metadata": {},
   "outputs": [],
   "source": []
  }
 ],
 "metadata": {
  "kernelspec": {
   "display_name": "Python 3 (ipykernel)",
   "language": "python",
   "name": "python3"
  },
  "language_info": {
   "codemirror_mode": {
    "name": "ipython",
    "version": 3
   },
   "file_extension": ".py",
   "mimetype": "text/x-python",
   "name": "python",
   "nbconvert_exporter": "python",
   "pygments_lexer": "ipython3",
   "version": "3.11.5"
  }
 },
 "nbformat": 4,
 "nbformat_minor": 5
}
