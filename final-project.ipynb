{
 "cells": [
  {
   "cell_type": "markdown",
   "id": "edde43b0-72cf-48ad-a21b-1ef1ba889773",
   "metadata": {},
   "source": [
    "# Final Project: Wind Integration in ISO New England\n",
    "**Eliza Cohn and Julia Simpson**\n",
    "\n",
    "**EEEL 4220 Fall 2023**"
   ]
  },
  {
   "cell_type": "markdown",
   "id": "b232f9a0-14aa-4f10-a9fc-3098eed10cf2",
   "metadata": {},
   "source": [
    "<font color='blue'>**Key information in blue**</font>"
   ]
  },
  {
   "cell_type": "markdown",
   "id": "41f690fb-f834-4188-bf52-c26baeab09fe",
   "metadata": {},
   "source": [
    "# Directions"
   ]
  },
  {
   "cell_type": "markdown",
   "id": "e5a8f9e0-3435-41b3-a8cd-2ef654af2e52",
   "metadata": {},
   "source": [
    "## Introduction\n",
    "You take the position of a policy maker to provide policy suggestions to decarbonize ISO New England and are given the attached one-bus system model and. Details about this system model are explained in the attached paper. Note the model in this paper has 8 buses with no transmission limits, so it is equivalent to a single-bus model (ISO New England has minor congestion issues).\n",
    "ISONE expects to install a total wind generation capacity of 12,000 MW by 2030 and would like to study how to best integrate wind generation. You are provided with one week (168 hours) of data including wind generation capacity factors and demand. The wind generator capacity factor is a normalized value between zero to one representation ratio between the actual wind generation and the installed wind capacity over each hour."
   ]
  },
  {
   "cell_type": "markdown",
   "id": "3cffc489-4afa-4843-92cf-9eee213c0ffe",
   "metadata": {},
   "source": [
    "## Project Objective\n",
    "\n",
    "Please finish a report summarizing how to best integrate up to 12,000 MW of wind generation into the system and how the wind generation would impact the system operating cost. You should explore three levels of wind capacity:\n",
    "- Low: 2,000 MW\n",
    "- Medium: 6,000 MW • High: 12,000 MW\n",
    "\n",
    "You need to implement a unit commitment simulation and explore approaches that could improve the wind integration ratio, these approaches include but are not limited to\n",
    "- Add carbon tax that increases the cost of traditional generators. You can use the EIA website1 to look up emission factors of different fuel types.\n",
    "- Add tax incentives for wind integration, in this case, you should add a negative cost of wind generation wt to the objective function.\n",
    "- Retirement of coal power plants.\n",
    "\n",
    "At each scenario, use the following indexes to compare the system performance\n",
    "- The total generation cost.\n",
    "- The wind curtailment ratio - the ratio between the wind that was not integrated into the system\n",
    "(Wt − wt) to the total wind capacity available (Wt).\n",
    "- Profits received by generators.\n",
    "- The average electricity price.\n",
    "- The profit received by generators.\n",
    "\n",
    "Finally, your project and report should conclude your recommendation of the best solution that balances electricity cost, system-wide carbon emission, and generator revenue. Note that there will not be a unique solution, and you should use your own judgements about which one you think is the best."
   ]
  },
  {
   "cell_type": "markdown",
   "id": "ae638a8e-6c06-4ebd-971f-219f76c898a9",
   "metadata": {},
   "source": [
    "## Directions\n",
    "1. The major effort in this project is to program a unit commitment model. **Wind generation should be modeled as a zero marginal cost resource (or negative marginal cost if it has tax credits) and can be curtailed**, i.e., wt ≤ WAt, where W are installed wind capacity, At is the time-variant capacity factor given in the data, and wt is the actual wind power integrated into the grid. w should be included in the nodal power balance as a generator. For the rest, please refer to the complete unit commitment formulation in the attachment.\n",
    "2. You are given a full week’s profile but performing a unit commitment with 168 hours might be overwhelming for your computer. Instead, you should perform sequential daily unit commitments of 24 hours, and pass decision variables as the starting point (in which they become coefficients) for your next unit commitment. These will include $g_{i,t}$ and $u_{i,t}$. You must also update $SU_i$, and $SD_i$ accordingly based on the start-up/down status. For your first operating day, you can assume all generators have been off long enough and set these parameters.\n",
    "3. The generator cost data includes a quadratic term and a linear term. **You can either use mixed- integer quadratic programming to solve it directly or apply piece-wise linear (five segments per generator max) to the cost curve and convert the problem into MILP.**\n",
    "4. You can assume all generators are off at the start of each scenario with a zero must-down time, i.e., you can start any generators at the start of the horizon.\n",
    "5. After implementing a functional unit commitment model, please adjust the installed wind power capacity and other intervention methods, observe the result from each scenario, and summarize the results in your report."
   ]
  },
  {
   "cell_type": "markdown",
   "id": "1e76c783-dbc9-41f0-ab26-61297422f883",
   "metadata": {},
   "source": [
    "## Appendix - Unit Commitment Formulation\n",
    "\n",
    "Indexes\n",
    "- $t$: Time period index $t ∈ {1,2,...,T}$, a total of $T$ time periods. \n",
    "- $b$: Bus index $b ∈ {1,2,...,B}$, a total of $B$ buses.\n",
    "- $i$: Generator index $i ∈ {1,2,...,I}$, a total of $I$ generators.\n",
    "- $l$: Line index $l ∈ {1,2,...,L}$, a total of $L$ lines.\n",
    "\n",
    "Cost parameters\n",
    "- $QC_i$: the quadratic generation cost term for generator $i$.\n",
    "- $LC_i$: the linear generation cost term for generator $i$.\n",
    "- $NLC_i$: no load cost for generator $i$.\n",
    "- $SUC_i$: start-up cost for generator $i$.\n",
    "\n",
    "Unit constraints parameters\n",
    "- $Gmax_i$: maximum generation of generator $i$\n",
    "- $Gmin_i$: minimum generation of generator $i$\n",
    "- $Tup_i$: minimum up time of generator $i$\n",
    "- $Tdn_i$: minimum down time of generator $i$\n",
    "- $RR_i$: ramp rate of generator $i$\n",
    "- $SU_i$: number of time periods generator $i$ must stay up since the start of the optimization horizon.\n",
    "- $SD_i$: number of time periods generator $i$ must stay down since the start of the optimization horizon.\n",
    "\n",
    "Demand and renewable parameters\n",
    "- $W$: installed wind capacity\n",
    "- $α_t$: wind capacity factor during time period $t$\n",
    "- $D_t$: system demand during time period $t$\n",
    "\n",
    "Continuous decision variables\n",
    "- $g_{i,t}$: production of generator $i$ during time period $t$\n",
    "- $r_{i,t}$: hourly reserve generator $i$ could provide during time period $t$\n",
    "- $w_t$: wind power generation during time period $t$\n",
    "- $s_t$: slack variable representing cost of load shedding during time period $t$\n",
    "\n",
    "Binary decision variables\n",
    "- $u_{i,t}$: 1 if generator $i$ is on during time period $t$, otherwise zero\n",
    "- $v_{i,t}$: 1 if generator $i$ is turned on at the start of period $t$, otherwise zero \n",
    "- $z_{i,t}$: 1 if generator $i$ is turned off at the start of period $t$, otherwise zero\n",
    "\n",
    "The objective function minimizes total generation costs. Note that the last term is about the slack variable $s_t$ which represents the cost of load shedding which is priced at $9,000\\$/MWh$."
   ]
  },
  {
   "cell_type": "markdown",
   "id": "34a6ea05-17f6-486d-b613-9949f344e2e2",
   "metadata": {},
   "source": [
    "$$ min \\sum\\limits_{t} \\sum\\limits_{i} (QC_ig_{i,t}^2 +LC_ig_{i,t} + NLC_iu_{i,t} +SUC_iv_{i,t}) + (9000)s_t $$\n",
    "\n",
    "Generation limit constraint $ (i ∈ {1,2,...,I}, t ∈ {1,2,...,T}) $ \n",
    "$$ Gmin_iu_{i,t} \\leq g_{i,t} \\leq Gmax_iu_{i,t}$$\n",
    "\n",
    "\n",
    "Generation ramp constraint, the minimum generation limit adds to the ramp-up limit when the generator is turned on or off $(i ∈ {1,2,...,I}, t ∈ {1,2,...,T}) $\n",
    "\n",
    "$$ −Gmin_iz_{i,t} − RR_i ≤ g_{i,t} − g_{i,t}−1 ≤ RR_i + Gmin_iv_{i,t} $$\n",
    "\n",
    "Generator start-up and shut-down logic $(i ∈ {1,2,...,I}, t ∈ {1,2,...,T})$\n",
    "$$ v_{i,t} − z_{i,t} = u_{i,t} − u_{i,t−1} $$\n",
    "$$ v_{i,t} + z_{i,t} ≤ 1 $$\n",
    "\n",
    "Generator minimum up time constraint, note the use of the alternative time index τ , and the constraint only accounts for periods beyond the required must on or off time since the start of the optimization horizon $(i ∈ {1,2,...,I})$\n",
    "<font color='red'>$$ \\sum\\limits_{τ=max{t−Tup_i+1,1}}^t v_{i,τ} ≤ u_{i,t},t ∈ {SU_i,...,T}$$ \n",
    "<font color='red'>$$ \\sum\\limits_{τ=max{t−Tdn_i+1,1}}^t z_{i,τ} ≤ 1-u_{i,t},t ∈ {SD_i,...,T}$$ \n",
    "\n",
    "accompanied by the must-stay on or off constraints, which passes the on/off requirement from the\n",
    "previous day to the current day\n",
    "$$ \\sum\\limits_{t=1}^{SU_i} u_{i,t} = SU_i $$\n",
    "$$ \\sum\\limits_{t=1}^{SD_i} u_{i,t} = 0 $$\n",
    "\n",
    "\n",
    "Power balance, the dual variable λt associated with this constraint is the system price\n",
    "$$ \\sum\\limits_{i} g_{i,t} + w_t + s_t = D_t : \\lambda_t $$ \n",
    "\n",
    "\n",
    "System reserve (3+5 rule: hourly reserve amount must equal to 3% of demand and 5% of integrated wind)\n",
    "$$ \\sum\\limits_{i} r_{i,t} \\geq (3\\%) D_t + (5\\%)w_t $$\n",
    "$$ r_{i,t} \\leq  Gmax_iu_{i,t} − g_{i,t} $$\n",
    "$$ r_{i,t} \\leq RR_i $$\n",
    "\n",
    "Wind generation limit\n",
    "$$ w_t \\leq \\alpha_tW $$"
   ]
  },
  {
   "cell_type": "markdown",
   "id": "3186c7dc-9ac6-4070-9717-f1df3f1fd456",
   "metadata": {},
   "source": [
    "## Data Import"
   ]
  },
  {
   "cell_type": "code",
   "execution_count": 1,
   "id": "9a17257f-90df-40b8-8488-7cbbbb84c55f",
   "metadata": {},
   "outputs": [],
   "source": [
    "import cvxpy as cp\n",
    "import numpy as np\n",
    "import gurobipy\n",
    "import pandas as pd\n",
    "#import matplotlib.pyplot as plt\n",
    "\n",
    "gen = pd.read_csv('generator_data.csv')\n",
    "load = pd.read_csv('wind_and_demand.csv')"
   ]
  },
  {
   "cell_type": "markdown",
   "id": "85d3f241",
   "metadata": {},
   "source": [
    "## Parameter Definition"
   ]
  },
  {
   "cell_type": "code",
   "execution_count": 2,
   "id": "75e5b11c",
   "metadata": {},
   "outputs": [],
   "source": [
    "I = gen.shape[0] # number of generators\n",
    "T = 6 # number of hours\n",
    "D = 0  # To Do: starting day\n",
    "\n",
    "# unit parameters are 1 by 3 vectors for the three generators\n",
    "QC      = gen['Dispatch Cost Quadratic\\nCoefficient b \\n($/MW^2h)'].ravel() # quadratic gen cost \n",
    "LC      = gen['Dispatch Cost Linear\\nCoefficient a \\n($/MWh)'].ravel()  # marginal generator cost\n",
    "NLC     = gen['NoLoad\\nCost ($)'].ravel()  # no load cost\n",
    "SUC     = gen['StartUp \\nCost ($)'].ravel() # start up cost\n",
    "GMin    = gen['Minimum generation (MW)'].ravel()  # minium generation\n",
    "GMax    = gen['Capacity \\n(MW)'].ravel()  # maximum generation\n",
    "RR      = gen['Ramp Rate\\n(MW/hr)'].ravel()\n",
    "Tup     = gen['MinUp\\nTime (hr)'].ravel()\n",
    "Tdn     = gen['MinDown \\nTime (hr)'].ravel()\n",
    "\n",
    "u0      = np.zeros(I)  # To Do: initial commitment status (all turned off for day 1, will get updated at the start of each day)\n",
    "g0      = np.zeros(I)  # To Do: initial generation status (all turned off for day 1, will get updated at the start of each day)\n",
    "SU      = np.zeros(I) # To Do: remaining Tup from the previous day (initially all 0 for day 1)\n",
    "SD      = np.zeros(I) # To Do: remaining Tdown from the previous day (initially all 0 for day 1)\n",
    "LOAD    = load.Demand[D:T] #To Do: reindex for next day "
   ]
  },
  {
   "cell_type": "code",
   "execution_count": 3,
   "id": "08d6408e",
   "metadata": {},
   "outputs": [],
   "source": [
    "W = 2000 #To Do: Vary Wind Capacty[2000, 6000, 12000]\n",
    "alpha = load.WindCF[D:T]"
   ]
  },
  {
   "cell_type": "markdown",
   "id": "a802ee81",
   "metadata": {},
   "source": [
    "## Variable Definition"
   ]
  },
  {
   "cell_type": "code",
   "execution_count": 4,
   "id": "f06d661c",
   "metadata": {},
   "outputs": [],
   "source": [
    "# the first index is generator, the second is period\n",
    "g = cp.Variable((I,T), nonneg = True)   # generator dispatch\n",
    "r = cp.Variable((I,T), nonneg = True)   # hourly reserve generator\n",
    "w = cp.Variable((T), nonneg = True)   # wind power dispatch\n",
    "s = cp.Variable((T), nonneg = True)   # slack variable for load shedding\n",
    "\n",
    "u = cp.Variable((I,T), boolean = True)   # commitment status\n",
    "v = cp.Variable((I,T), boolean = True)   # start-up status\n",
    "z = cp.Variable((I,T), boolean = True)   # inverse of start-up status"
   ]
  },
  {
   "cell_type": "markdown",
   "id": "bba1cb8f",
   "metadata": {},
   "source": [
    "## Carbon Tax "
   ]
  },
  {
   "cell_type": "code",
   "execution_count": 5,
   "id": "59c584f8-5595-407c-8b6a-05bdee94ec5c",
   "metadata": {},
   "outputs": [],
   "source": [
    "def fuel_to_energy(fuel):\n",
    "    if fuel in ['NUC ',' NUC ']:\n",
    "        return 'Nuclear' \n",
    "    if fuel in [' BIT ', ' SUB ']:\n",
    "        return 'Coal' \n",
    "    if fuel in [' RFO ']:\n",
    "        return 'Petroleum' \n",
    "    if fuel in [' NGLN ', ' NGA4 ', ' NGA1 ', ' NGTN ', ' NGMN ', ' NGIR ', ' NGPN ', ' NGT2 ',' NGT4 ', ' NGT1 ']:\n",
    "        return 'Natural Gas' \n",
    "    return None"
   ]
  },
  {
   "cell_type": "code",
   "execution_count": 6,
   "id": "14a8d0c3-b4b6-42e6-940c-d8c9c98b64f4",
   "metadata": {},
   "outputs": [],
   "source": [
    "# NUC: Nuclear, BIT: Bituminous Coal, SUB: Subbituminous Coal, RFO: Petroleum Residual Fuel Oil, anything with NG: Natural Gas"
   ]
  },
  {
   "cell_type": "markdown",
   "id": "f61f52da-391b-4eb2-8ee5-7822ffb21afa",
   "metadata": {},
   "source": [
    "*Source*\n",
    "\n",
    "U.S. Energy Information Administration. (n.d.). Filter Value Definitions - Table of Fuel Codes. EIA. https://www.eia.gov/coal/data/browser/data/termsAndDefs.php?rseAvailable=false&amp;showFilterValues=true&amp;showDetail=false&amp;showTransportationMode=false&amp;showPrimeMovers=false&amp;showPlantFuelTypes=false&amp;showMineType=false&amp;showMineStatus=false&amp;topic=20 "
   ]
  },
  {
   "cell_type": "code",
   "execution_count": 7,
   "id": "0b3f8376-7bfe-4ade-992b-1aab0a24ff48",
   "metadata": {},
   "outputs": [],
   "source": [
    "# Disable SettingWithCopyWarning\n",
    "pd.set_option('mode.chained_assignment', None)"
   ]
  },
  {
   "cell_type": "code",
   "execution_count": 8,
   "id": "ec25a5ad-c7ce-4fa4-b114-a9b45d10ed48",
   "metadata": {},
   "outputs": [],
   "source": [
    "gen['Energy Source'] = gen['Fuel Type']\n",
    "for index in np.arange(0,len(gen)):\n",
    "    gen['Energy Source'][index]=fuel_to_energy(gen['Fuel Type'][index])"
   ]
  },
  {
   "cell_type": "markdown",
   "id": "d29615f8-27bf-4426-99d6-a08bb1cf5945",
   "metadata": {},
   "source": [
    "Emission Factors $EF [\\frac{pounds}{kWh}]$ => convert to a $\\frac{\\$}{MWh}$ so consistent with rest of objective function\n",
    "\n",
    "\n",
    "$25 per metric ton (https://www.cbo.gov/system/files/2021-12/57580-Emissions.pdf)\n",
    "\n",
    "2205 pounds in a metric ton\n",
    "\n",
    "$EF[\\frac{pounds}{kWh}] * 1000[\\frac{kWh}{MWh}] * \\frac{1}{2205}[\\frac{Mton}{pounds}] * 25[\\frac{\\$}{Mton}] = \\frac{\\$}{MWh}$"
   ]
  },
  {
   "cell_type": "markdown",
   "id": "5e4f9646-1abd-4766-93a6-7450f1ec1d79",
   "metadata": {},
   "source": [
    "*Source:*\n",
    "\n",
    "U.S. Energy Information Administration. (2023, November 7). Frequently Asked Questions (FAQs) . EIA. https://www.eia.gov/tools/faqs/faq.php?id=74&t=11 "
   ]
  },
  {
   "cell_type": "markdown",
   "id": "67cfb7ea-eaa8-4ac6-a2b3-a54a4b6dac47",
   "metadata": {},
   "source": [
    "For nuclear:\n",
    "\n",
    "$0[\\frac{pounds}{kWh}] * 1000[\\frac{kWh}{MWh}] * \\frac{1}{2205}[\\frac{Mton}{pounds}] * 25[\\frac{\\$}{Mton}] = 0 \\frac{\\$}{MWh}$\n",
    "\n",
    "For coal:\n",
    "\n",
    "$2.30[\\frac{pounds}{kWh}] * 1000[\\frac{kWh}{MWh}] * \\frac{1}{2205}[\\frac{Mton}{pounds}] * 25[\\frac{\\$}{Mton}] = 26.077 \\frac{\\$}{MWh}$\n",
    "\n",
    "For petroleum:\n",
    "\n",
    "$2.38[\\frac{pounds}{kWh}] * 1000[\\frac{kWh}{MWh}] * \\frac{1}{2205}[\\frac{Mton}{pounds}] * 25[\\frac{\\$}{Mton}] = 26.984 \\frac{\\$}{MWh}$\n",
    "\n",
    "For natural gas:\n",
    "\n",
    "$0.97[\\frac{pounds}{kWh}] * 1000[\\frac{kWh}{MWh}] * \\frac{1}{2205}[\\frac{Mton}{pounds}] * 25[\\frac{\\$}{Mton}] = 10.998 \\frac{\\$}{MWh}$"
   ]
  },
  {
   "cell_type": "code",
   "execution_count": 9,
   "id": "b6c7a572-6de8-4513-8b51-8bcc319be88e",
   "metadata": {},
   "outputs": [],
   "source": [
    "#2.30*1000/2205*25\n",
    "#2.38*1000/2205*25\n",
    "#0.97*1000/2205*25"
   ]
  },
  {
   "cell_type": "code",
   "execution_count": 10,
   "id": "2f7e2279-c14f-4390-8636-b9b6864deb67",
   "metadata": {},
   "outputs": [],
   "source": [
    "def EF(energy):\n",
    "    if energy in ['Nuclear']:\n",
    "        return 0\n",
    "    if energy in ['Coal']:\n",
    "        return 26.077\n",
    "    if energy in ['Petroleum']:\n",
    "        return 26.984\n",
    "    if energy in ['Natural Gas']:\n",
    "        return 10.998\n",
    "    return None"
   ]
  },
  {
   "cell_type": "code",
   "execution_count": 11,
   "id": "fcf0ac76-b999-4601-bdcc-c3de41128390",
   "metadata": {},
   "outputs": [],
   "source": [
    "gen['Emission Factor'] = gen['Energy Source']\n",
    "for index in np.arange(0,len(gen)):\n",
    "    gen['Emission Factor'][index]=EF(gen['Energy Source'][index])"
   ]
  },
  {
   "cell_type": "code",
   "execution_count": 12,
   "id": "6416ba33-8fc1-4671-bb25-68cd689cd2dd",
   "metadata": {},
   "outputs": [],
   "source": [
    "EF = np.array(gen['Emission Factor'].to_list())"
   ]
  },
  {
   "cell_type": "code",
   "execution_count": 13,
   "id": "8d5d8205-a042-431e-82cc-582376c4ac6d",
   "metadata": {},
   "outputs": [],
   "source": [
    "obj_EF = cp.Minimize(sum(sum(QC @ g**2 + LC @ g + EF @ g + NLC @ u + SUC @ v) + 9000*s))\n",
    "\n",
    "# If having running issues, remove quadratic cost to ensure running correctly \n",
    "#obj = cp.Minimize(sum(sum(LC @ g +  EF @ g + NLC @ u + SUC @ v) + 9000*s)) "
   ]
  },
  {
   "cell_type": "markdown",
   "id": "bb745ab2-3071-4d2f-aa76-ff0029d2f6b8",
   "metadata": {},
   "source": [
    "## Defining Objective Function & Constraints"
   ]
  },
  {
   "cell_type": "markdown",
   "id": "d5a1d5f2-d135-4855-9515-7c4024c488c5",
   "metadata": {},
   "source": [
    "### Objective Function"
   ]
  },
  {
   "cell_type": "markdown",
   "id": "015c8da7-8559-4d04-9e04-469b9c3adea7",
   "metadata": {},
   "source": [
    "$$ min \\sum\\limits_{t} \\sum\\limits_{i} (QC_ig_{i,t}^2 +LC_ig_{i,t} + NLC_iu_{i,t} +SUC_iv_{i,t}) + (9000)s_t $$"
   ]
  },
  {
   "cell_type": "code",
   "execution_count": null,
   "id": "80173221-fbaf-419a-85ac-2dfb6e3a33d6",
   "metadata": {},
   "outputs": [],
   "source": [
    "obj = cp.Minimize(sum(sum(QC @ g**2 + LC @ g + NLC @ u + SUC @ v) + 9000*s))\n",
    "\n",
    "# If having running issues, remove quadratic cost to ensure running correctly \n",
    "# obj = cp.Minimize(sum(sum(LC @ g + NLC @ u + SUC @ v) + 9000*s)) "
   ]
  },
  {
   "cell_type": "markdown",
   "id": "8e181166-ebd0-41e2-bdae-401db1ddaa3f",
   "metadata": {},
   "source": [
    "### Constraints"
   ]
  },
  {
   "cell_type": "markdown",
   "id": "6cf30f74-f733-48b4-8ce5-63875c602913",
   "metadata": {},
   "source": [
    "Power balance, the dual variable $\\lambda_t$ associated with this constraint is the system price\n",
    "$$ (1) \\sum\\limits_{i} g_{i,t} + w_t + s_t = D_t : \\lambda_t $$ "
   ]
  },
  {
   "cell_type": "markdown",
   "id": "0f64107f-68dd-4523-8563-5a9690629f4e",
   "metadata": {},
   "source": [
    "Generation limit constraint $ (i ∈ {1,2,...,I}, t ∈ {1,2,...,T}) $ \n",
    "$$ \\text{(2)  } Gmin_iu_{i,t} \\leq g_{i,t} \\leq Gmax_iu_{i,t}$$"
   ]
  },
  {
   "cell_type": "markdown",
   "id": "3a2a282f-b871-404f-b7c1-54cbda73eb72",
   "metadata": {},
   "source": [
    "Wind generation limit\n",
    "$$ \\text{(3)  } w_t \\leq \\alpha_tW $$"
   ]
  },
  {
   "cell_type": "markdown",
   "id": "ebf81c05-4fa9-45c3-ba5b-37525d7ea5a6",
   "metadata": {},
   "source": [
    "Generation ramp constraint, the minimum generation limit adds to the ramp-up limit when the generator is turned on or off $(i ∈ {1,2,...,I}, t ∈ {1,2,...,T}) $\n",
    "\n",
    "$$ \\text{(4)  } −Gmin_iz_{i,t} − RR_i ≤ g_{i,t} − g_{i,t−1} ≤ RR_i + Gmin_iv_{i,t} $$"
   ]
  },
  {
   "cell_type": "markdown",
   "id": "d0486912-a14b-48f9-a276-85f1b3241986",
   "metadata": {},
   "source": [
    "Generator start-up and shut-down logic $(i ∈ {1,2,...,I}, t ∈ {1,2,...,T})$\n",
    "$$ \\text{(5)  } v_{i,t} − z_{i,t} = u_{i,t} − u_{i,t−1} $$\n",
    "$$ \\text{(6)  } v_{i,t} + z_{i,t} ≤ 1 $$"
   ]
  },
  {
   "cell_type": "markdown",
   "id": "4a8c603e-4ee4-4e6d-98e1-6506b774cd22",
   "metadata": {},
   "source": [
    "System reserve (3+5 rule: hourly reserve amount must equal to 3% of demand and 5% of integrated wind)\n",
    "$$ \\text{(7)  } \\sum\\limits_{i} r_{i,t} \\geq (3\\%) D_t + (5\\%)w_t $$\n",
    "$$ \\text{(8)  } r_{i,t} \\leq  Gmax_iu_{i,t} − g_{i,t} $$\n",
    "$$ \\text{(9)  } r_{i,t} \\leq RR_i $$"
   ]
  },
  {
   "cell_type": "code",
   "execution_count": null,
   "id": "0ee1f79b-6ca4-427f-aad2-e2a8fb7dc327",
   "metadata": {},
   "outputs": [],
   "source": [
    "con_set = [] \n",
    "\n",
    "for t in range(T): \n",
    "    con_set.append(LOAD[t] == sum(g[:, t])+ w[t] + s[t])    # (1) Demand balance constraint \n",
    "    con_set.append( w[t] <= alpha[t]*W )                    # (3) Available wind\n",
    "    con_set.append(sum(r[:,t]) >= 0.03*LOAD[t] + 0.05*w[t])   # (7) Reserve capacity \n",
    "    \n",
    "    for i in range(I): # go through each generator\n",
    "        con_set.append(g[i][t] <= GMax[i] * u[i][t])  # (2) Maximum generation limits\n",
    "        con_set.append(g[i][t] >= GMin[i] * u[i][t])  # (2) Minimum generation limits\n",
    "        \n",
    "        con_set.append(v[i][t] + z[i][t] <= 1)        # (6) Start-up and shut-down logic\n",
    "        \n",
    "        con_set.append(r[i][t] <= GMax[i]*u[i][t] - g[i][t])   # (8) Available reserve \n",
    "        con_set.append(r[i][t] <= RR[i])                       # (9) Available reserve ramp rate\n",
    "\n",
    "        if t==0: \n",
    "            con_set.append(v[i][0] - z[i][0] == u[i][0] - u0[i])          # (5) Generator startup-shutdown logic\n",
    "            con_set.append(g[i][0] - g0[i] <= RR[i] + GMin[i] * v[i][0])  # (4) Assume g0 = g[i][-1] state from previous day \n",
    "            con_set.append(g[i][0] - g0[i] >= -GMin[i] * z[i][0] - RR[i]) # (4) Assume g0 = g[i][-1] state from previous day turned on or off\n",
    "        else:\n",
    "            con_set.append(v[i][t] - z[i][t] == u[i][t] - u[i][t-1])          # (5) Generator startup-shutdown logic\n",
    "            con_set.append(g[i][t] - g[i][t-1] <= RR[i] + GMin[i] * v[i][t])  # (4) Max gen limit added to ramp limit when generator turned on or off\n",
    "            con_set.append(g[i][t] - g[i][t-1] >= -GMin[i] * z[i][t] - RR[i]) # (4) Max gen limit added to ramp limit when generator turned on or off"
   ]
  },
  {
   "cell_type": "markdown",
   "id": "afb3adb5",
   "metadata": {},
   "source": [
    "#### Min Up/Down Time"
   ]
  },
  {
   "cell_type": "markdown",
   "id": "ea8f98bc-5543-4224-84ed-794eca25c55f",
   "metadata": {},
   "source": [
    "Generator minimum up time constraint, note the use of the alternative time index τ , and the constraint only accounts for periods beyond the required must on or off time since the start of the optimization horizon $(i ∈ {1,2,...,I})$\n",
    "$$ \\sum\\limits_{\\tau=max{t−Tup_i+1,1}}^t v_{i,τ} ≤ u_{i,t},t ∈ {SU_i,...,T}$$ \n",
    "$$ \\sum\\limits_{\\tau=max{t−Tdn_i+1,1}}^t z_{i,τ} ≤ 1-u_{i,t},t ∈ {SD_i,...,T}$$ "
   ]
  },
  {
   "cell_type": "code",
   "execution_count": null,
   "id": "35e0e1e2",
   "metadata": {},
   "outputs": [],
   "source": [
    "for t in range(T):\n",
    "    for i in range(I):\n",
    "        if t >= SU[i]:\n",
    "            tau = max(t-Tup[i]+1,1)\n",
    "            con_set.append(sum(v[i][tau:t].value) <= u[i][t])\n",
    "\n",
    "        if t >= SD[i]:\n",
    "            tau = max(t-Tdn[i]+1,1)\n",
    "            con_set.append(sum(z[i][tau:t].value) <= 1 - u[i][t])"
   ]
  },
  {
   "cell_type": "markdown",
   "id": "790ff573",
   "metadata": {},
   "source": [
    "\n",
    "$$ \\sum\\limits_{t=1}^{SU_i} u_{i,t} = SU_i $$\n",
    "$$ \\sum\\limits_{t=1}^{SD_i} u_{i,t} = 0 $$"
   ]
  },
  {
   "cell_type": "code",
   "execution_count": null,
   "id": "c4aeeb1d",
   "metadata": {},
   "outputs": [],
   "source": [
    "for i in range(I): \n",
    "    if SU[i]: \n",
    "        for t in range(int(SU[i])):\n",
    "            con_set.append(u[i][t] == 1)\n",
    "    if SD[i]: \n",
    "        for t in range(int(SD[i])):\n",
    "            con_set.append(u[i][t] == 0)"
   ]
  },
  {
   "cell_type": "markdown",
   "id": "ba852e5f",
   "metadata": {},
   "source": [
    "### End of Day Accounting"
   ]
  },
  {
   "cell_type": "markdown",
   "id": "2102c5e4",
   "metadata": {},
   "source": [
    "#### Calculate SU & SD for Next Day"
   ]
  },
  {
   "cell_type": "markdown",
   "id": "437a4f30",
   "metadata": {},
   "source": [
    "$$ SU_i = max(Tup_i - \\sum_{v_i[\\tau] = 1}^t u_{i,t},0)$$\n",
    "$$\\text{Let } v_i[\\tau] = 1 \\text{ be the time of most recent turn on}$$\n",
    "$$$$\n",
    "$$ SD_i = max(Tdn_i - \\sum_{z_i[\\tau] = 1}^t(1 - u_{i,t}),0) $$\n",
    "$$\\text{Let } z_i[\\tau] = 1 \\text{ be the time of most recent turn off}$$"
   ]
  },
  {
   "cell_type": "code",
   "execution_count": null,
   "id": "b85bb591",
   "metadata": {},
   "outputs": [],
   "source": [
    "for i in range(I):\n",
    "    if np.any(v[i].value): # if it has been turned on \n",
    "        turnon_time = np.where(v[i].value)[0][-1] \n",
    "        SU[i] = max(Tup[i] - sum(u[i][turnon_time:].value),0) \n",
    "    else: \n",
    "        SU[i] = 0\n",
    "        \n",
    "    if np.any(z[i].value): # if it has been turned off\n",
    "        turnoff_time = np.where(z[i].value)[0][-1]\n",
    "        SD[i] = max(Tdn[i] - sum(1 - u[i][turnoff_time:].value),0)\n",
    "    else:\n",
    "        SD[i] = 0"
   ]
  },
  {
   "cell_type": "markdown",
   "id": "51c87667",
   "metadata": {},
   "source": [
    "#### To Do: Save Parameters for Next Day"
   ]
  },
  {
   "cell_type": "markdown",
   "id": "2dd8e3d2-7233-4586-ae58-605f5607bd96",
   "metadata": {},
   "source": [
    "## Solve and Check Results"
   ]
  },
  {
   "cell_type": "code",
   "execution_count": null,
   "id": "796ead7f-01c5-4a6f-b135-8884c3bdce9e",
   "metadata": {},
   "outputs": [],
   "source": [
    "# Solve the problem\n",
    "prob = cp.Problem(obj, con_set)\n",
    "prob.solve(solver = \"GUROBI\")\n",
    "prob.solve();"
   ]
  },
  {
   "cell_type": "code",
   "execution_count": null,
   "id": "7a49e0a6",
   "metadata": {},
   "outputs": [],
   "source": [
    "prob.status"
   ]
  },
  {
   "cell_type": "code",
   "execution_count": null,
   "id": "81ee8030",
   "metadata": {},
   "outputs": [],
   "source": [
    "print(\"\\n Total operating cost: %.1f\" % obj.value)"
   ]
  },
  {
   "cell_type": "markdown",
   "id": "57f0a050",
   "metadata": {},
   "source": [
    "### Plots"
   ]
  },
  {
   "cell_type": "code",
   "execution_count": null,
   "id": "3b8c21d8",
   "metadata": {},
   "outputs": [],
   "source": [
    "# Return generators that turned on at any time t and their original index\n",
    "nonzero_gens = [(i, row) for i, row in enumerate(g.value) if np.any(row != 0)]"
   ]
  },
  {
   "cell_type": "code",
   "execution_count": null,
   "id": "af724f5e",
   "metadata": {},
   "outputs": [],
   "source": [
    "## TOTAL GENERATOR STATUS\n",
    "\n",
    "# Time axis\n",
    "x = np.linspace(0, T-1, T) \n",
    "\n",
    "plt.plot(x, sum(g.value[:]), label = 'Sum of Generator Output')\n",
    "plt.plot(x, w.value, label='Wind Generation', color='g')\n",
    "plt.plot(x, s.value, label='Load Shedding (slack)', color='r')\n",
    "plt.plot(x, LOAD, label='Demand', color='b')\n",
    "\n",
    "# Adding labels and title\n",
    "plt.xlim(0,T-1)\n",
    "plt.xticks(x)  # Only integer x ticks\n",
    "plt.ylim(0, max(LOAD)+1000)\n",
    "plt.xlabel('Time (hours)')\n",
    "plt.ylabel('Generation (MW)')\n",
    "plt.title(f'Generation, Wind, and Demand for {T} Hours')\n",
    "plt.text(0.1, max(LOAD), f'Active Generators: {len(nonzero_gens)}', verticalalignment='center', horizontalalignment='left')\n",
    "\n",
    "# Adding a legend\n",
    "plt.legend(loc='upper right', bbox_to_anchor=(1.5, 1))\n",
    "\n",
    "# Display the plot\n",
    "plt.show()"
   ]
  },
  {
   "cell_type": "code",
   "execution_count": null,
   "id": "d186352d",
   "metadata": {},
   "outputs": [],
   "source": [
    "## INDIVIDUAL GENERATOR STATUS\n",
    "\n",
    "# Time axis\n",
    "x = np.linspace(0, T-1, T) \n",
    "\n",
    "# Plotting the active generators\n",
    "I_no0 = len(nonzero_gens)\n",
    "for i in range(I_no0):\n",
    "    plt.plot(x, nonzero_gens[i][1],label=f'Generator {nonzero_gens[i][0]}')\n",
    "    \n",
    "plt.plot(x, w.value, label='Wind Generation', color='g')\n",
    "plt.plot(x, s.value, label='Load Shedding (slack)', color='r')\n",
    "# plt.plot(x, LOAD, label='Demand', color='b')\n",
    "\n",
    "# Adding labels and title\n",
    "plt.xlim(0,T-1)\n",
    "plt.xticks(x)  # Only integer x ticks\n",
    "#plt.ylim(0, max(LOAD)+1000)\n",
    "plt.xlabel('Time (hours)')\n",
    "plt.ylabel('Generation (MW)')\n",
    "plt.title(f'Active Generators, Wind, and Demand for Day {D+1}')\n",
    "plt.text(0.1, 1300, f'Active Generators: {len(nonzero_gens)}', verticalalignment='center', horizontalalignment='left')\n",
    "\n",
    "# Adding a legend\n",
    "plt.legend(loc='upper right', bbox_to_anchor=(1.5, 1))\n",
    "\n",
    "# Display the plot\n",
    "plt.show()"
   ]
  },
  {
   "cell_type": "code",
   "execution_count": null,
   "id": "0b1739b2",
   "metadata": {},
   "outputs": [],
   "source": [
    "# Plot Wind Capacity\n",
    "plt.plot(alpha[:T]*W)\n",
    "plt.title('Available Wind Capacity')\n",
    "plt.show()"
   ]
  },
  {
   "cell_type": "markdown",
   "id": "f99ea72e",
   "metadata": {},
   "source": [
    "## APPENDIX"
   ]
  },
  {
   "cell_type": "markdown",
   "id": "0dc7665a",
   "metadata": {},
   "source": [
    "### Understanding Min Up and Down Time "
   ]
  },
  {
   "cell_type": "markdown",
   "id": "e580948e",
   "metadata": {},
   "source": [
    "#### Equation 10: Defining SU and SD"
   ]
  },
  {
   "cell_type": "markdown",
   "id": "69e3a9df",
   "metadata": {},
   "source": [
    "**Note: Day 0, SU = SD = 0**\n",
    "$$ SU_i = max(Tup_i - \\sum_{v_i[\\tau] = 1}^t u_{i,t},0)$$\n",
    "$$\\text{Let } v_i[\\tau] = 1 \\text{ be the time of most recent turn on}$$\n",
    "$$$$\n",
    "$$ SD_i = max(Tdn_i - \\sum_{z_i[\\tau] = 1}^t(1 - u_{i,t}),0) $$\n",
    "$$\\text{Let } z_i[\\tau] = 1 \\text{ be the time of most recent turn off}$$"
   ]
  },
  {
   "cell_type": "code",
   "execution_count": null,
   "id": "3027c04e",
   "metadata": {},
   "outputs": [],
   "source": [
    "## Step 1: Define SU and SD (Remaining start up/down time for the next day)\n",
    "\n",
    "# If the generator is turned on, and the amount of time left in the day is less than the remaining Tup time, then we need to\n",
    "# pass on how long the generator needs to stay turned on the following day \n",
    "\n",
    "for i in range(I):\n",
    "    if np.any(v[i].value): # if it has been turned on \n",
    "        turnon_time = np.where(v[i].value)[0][-1] # define turn on time\n",
    "        SU[i] = max(Tup[i] - sum(u[i][turnon_time:].value),0) # define the remaining amount of time\n",
    "    else: # we do not have any Tup time left to fulfill for tomorrow\n",
    "        SU[i] = 0\n",
    "        \n",
    "    if np.any(z[i].value): # if it has been turned off\n",
    "        turnoff_time = np.where(z[i].value)[0][-1]\n",
    "        SD[i] = max(Tdn[i] - sum(1 - u[i][turnoff_time:].value),0)\n",
    "    else:\n",
    "        SD[i] = 0"
   ]
  },
  {
   "cell_type": "code",
   "execution_count": null,
   "id": "fbcb4de9",
   "metadata": {},
   "outputs": [],
   "source": [
    "SU"
   ]
  },
  {
   "cell_type": "markdown",
   "id": "d4bfca41",
   "metadata": {},
   "source": [
    "#### Equation 11-12: Passing the on/off requirement from the previous day to the current day"
   ]
  },
  {
   "cell_type": "markdown",
   "id": "7ab0e83a",
   "metadata": {},
   "source": [
    "\n",
    "$$ \\sum\\limits_{t=1}^{SU_i} u_{i,t} = SU_i $$\n",
    "$$ \\sum\\limits_{t=1}^{SD_i} u_{i,t} = 0 $$"
   ]
  },
  {
   "cell_type": "code",
   "execution_count": null,
   "id": "70df7cec",
   "metadata": {},
   "outputs": [],
   "source": [
    "# Step 2: ## ONLY ENFORCE THIS FOR THE DAYS AFTER DAY 0 \n",
    "# If SUi is nonzero, then we know the generator was still on at midnight the previous day and needs to stay for a few \n",
    "# more hours until Tup is satisfied \n",
    "# pretty confident about this block of code\n",
    "\n",
    "# TO DO: Handle case when SDi > 24 \n",
    "\n",
    "for i in range(I):\n",
    "    # for t = 0, ..., SUi make sure generator is turned on \n",
    "    if SU[i]: # check nonzero\n",
    "        for t in range(int(SU[i])):\n",
    "            con_set.append(u[i][t] == 1) #ensure generator stays turned on until Tup time complete\n",
    "    if SD[i]: \n",
    "        for t in range(int(SD[i])):\n",
    "            con_set.append(u[i][t] == 0) #ensure generator stays turned off until Tdown time complete"
   ]
  },
  {
   "cell_type": "code",
   "execution_count": null,
   "id": "f436d372",
   "metadata": {},
   "outputs": [],
   "source": [
    "SD[1] #edge case > 24"
   ]
  },
  {
   "cell_type": "markdown",
   "id": "2781c6f3",
   "metadata": {},
   "source": [
    "#### Equation 13-14: Determining if we can turn on/off later that day"
   ]
  },
  {
   "cell_type": "markdown",
   "id": "2aef5ccc",
   "metadata": {},
   "source": [
    "Generator minimum up time constraint, note the use of the alternative time index τ , and the constraint only accounts for periods beyond the required must on or off time since the start of the optimization horizon $(i ∈ {1,2,...,I})$\n",
    "$$ \\sum\\limits_{\\tau=max{t−Tup_i+1,1}}^t v_{i,τ} ≤ u_{i,t},t ∈ {SU_i,...,T}$$ \n",
    "$$ \\sum\\limits_{\\tau=max{t−Tdn_i+1,1}}^t z_{i,τ} ≤ 1-u_{i,t},t ∈ {SD_i,...,T}$$ "
   ]
  },
  {
   "cell_type": "code",
   "execution_count": null,
   "id": "0f941180",
   "metadata": {},
   "outputs": [],
   "source": [
    "# Step 3: Later that next day, can only start once \n",
    "# After we finished our Tup requirements from the previous day, can we turn on?\n",
    "# is SU = 0, we are considering the entire day. Else, start after Tup from yesterday complete\n",
    "\n",
    "for t in range(T):\n",
    "    for i in range(I):\n",
    "    \n",
    "        # Check feasible time region \n",
    "        if t >= SU[i]:\n",
    "            tau = max(t-Tup[i]+1,1)\n",
    "            con_set.append(sum(v[i][tau:t].value) <= u[i][t])\n",
    "\n",
    "        if t >= SD[i]:\n",
    "            tau = max(t-Tdn[i]+1,1)\n",
    "            con_set.append(sum(z[i][tau:t].value) <= 1 - u[i][t])"
   ]
  },
  {
   "cell_type": "code",
   "execution_count": null,
   "id": "b8fa99ab",
   "metadata": {},
   "outputs": [],
   "source": []
  },
  {
   "cell_type": "markdown",
   "id": "3eaa93bc",
   "metadata": {},
   "source": [
    "#### Sample Example"
   ]
  },
  {
   "cell_type": "code",
   "execution_count": null,
   "id": "36c157fc",
   "metadata": {},
   "outputs": [],
   "source": [
    "# Generator 1 turns on at t = 4\n",
    "v = [False, False, False, True, False, False]\n",
    "u = [False, False, False, True, True, True]\n",
    "Tup = 1 \n",
    "\n",
    "turnon_time = np.where(v)[0][-1] # find the index of when the generator turned on \n",
    "print(turnon_time)\n",
    "\n",
    "# then need the generator to stay on for two more hours tomorrow\n",
    "# expect SU = 2\n",
    "SU = max(Tup - sum(u[turnon_time:]),0)\n",
    "print(SU)"
   ]
  },
  {
   "cell_type": "markdown",
   "id": "db608651",
   "metadata": {},
   "source": [
    "### Misc."
   ]
  },
  {
   "cell_type": "code",
   "execution_count": null,
   "id": "32dd4ae0",
   "metadata": {},
   "outputs": [],
   "source": [
    "g[:,t] # changing to this is more accurate but killed run time "
   ]
  },
  {
   "cell_type": "code",
   "execution_count": null,
   "id": "2dc48fc0",
   "metadata": {},
   "outputs": [],
   "source": [
    "g[t]"
   ]
  },
  {
   "cell_type": "code",
   "execution_count": null,
   "id": "ed67bb74",
   "metadata": {},
   "outputs": [],
   "source": [
    "# Example if SU = 0\n",
    "for t in range(0):\n",
    "    print(\"happy birthday\")"
   ]
  },
  {
   "cell_type": "code",
   "execution_count": null,
   "id": "646bd286",
   "metadata": {},
   "outputs": [],
   "source": [
    "import pandas\n",
    "\n",
    "# define row names and headers\n",
    "row_Names = ['Unit1', 'Unit2', 'Unit3']\n",
    "col_Names = ['Hour 1', 'Hour 2', 'Hour 3', 'Hour 4']"
   ]
  },
  {
   "cell_type": "code",
   "execution_count": null,
   "id": "00bb2214",
   "metadata": {},
   "outputs": [],
   "source": [
    "# print out results\n",
    "print(\"\\n Total operating cost: %.1f\" % obj.value)\n",
    "\n",
    "print(\"\\n Generator dispatch results: \")\n",
    "GT = pandas.DataFrame(g.value,  row_Names, col_Names)\n",
    "print(GT.round(1))\n",
    "\n",
    "print(\"\\n Generator commitment results: \")\n",
    "UT = pandas.DataFrame(u.value,  row_Names, col_Names)\n",
    "print(UT.round(1))\n",
    "\n",
    "print(\"\\n Generator start-up results: \")\n",
    "VT = pandas.DataFrame(v.value,  row_Names, col_Names)\n",
    "print(VT.round(1))"
   ]
  },
  {
   "cell_type": "code",
   "execution_count": null,
   "id": "26c02986",
   "metadata": {},
   "outputs": [],
   "source": [
    "# Sample NumPy array\n",
    "array = np.array([[0, 0, 0],\n",
    "                  [1, 0, 3],\n",
    "                  [4, 5, 6],\n",
    "                  [0, 0, 0]])\n",
    "\n",
    "# Get nonzero rows\n",
    "nonzero_rows = array[np.any(array != 0, axis=1)]\n",
    "\n",
    "print(nonzero_rows)"
   ]
  },
  {
   "cell_type": "code",
   "execution_count": null,
   "id": "2998c9e7",
   "metadata": {},
   "outputs": [],
   "source": []
  }
 ],
 "metadata": {
  "kernelspec": {
   "display_name": "Python 3 (ipykernel)",
   "language": "python",
   "name": "python3"
  },
  "language_info": {
   "codemirror_mode": {
    "name": "ipython",
    "version": 3
   },
   "file_extension": ".py",
   "mimetype": "text/x-python",
   "name": "python",
   "nbconvert_exporter": "python",
   "pygments_lexer": "ipython3",
   "version": "3.11.5"
  }
 },
 "nbformat": 4,
 "nbformat_minor": 5
}
