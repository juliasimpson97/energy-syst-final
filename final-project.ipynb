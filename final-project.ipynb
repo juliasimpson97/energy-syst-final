{
 "cells": [
  {
   "cell_type": "markdown",
   "id": "edde43b0-72cf-48ad-a21b-1ef1ba889773",
   "metadata": {},
   "source": [
    "# Homework 5\n",
    "## EEEL 4220 Fall 2022"
   ]
  },
  {
   "cell_type": "markdown",
   "id": "b232f9a0-14aa-4f10-a9fc-3098eed10cf2",
   "metadata": {},
   "source": [
    "<font color='blue'>**Final answers in blue**</font>"
   ]
  },
  {
   "cell_type": "markdown",
   "id": "e5a8f9e0-3435-41b3-a8cd-2ef654af2e52",
   "metadata": {},
   "source": [
    "### Problem 1 KKT conditoins (30)\n",
    "Consider the following optimization problem\n",
    "$$\n",
    "\\begin{gather}\n",
    "\\min_{x,y} x^2 + 2x + 2y^2 + 5y + z\\\\\n",
    "\\text{s.t.}\\\\\n",
    "2x + z \\geq 0 \\\\\n",
    "x + y + z = 5\n",
    "\\end{gather}\n",
    "$$\n",
    "\n",
    "1. Write out the Lagrangian function (5)\n",
    "2. List the KKT condition (5)\n",
    "3. Solve the optimization problem using the KKT condition (20)\n",
    "\n",
    "**Note:** You can use CVXPY to check your result but do not write code as answer to this queston."
   ]
  },
  {
   "cell_type": "markdown",
   "id": "5388cb29-fc3e-4b81-9a6b-bfd1c770da0d",
   "metadata": {},
   "source": [
    "Clarification on Ed: need to minimize with respect to x,y,z not just x and y"
   ]
  },
  {
   "cell_type": "markdown",
   "id": "568e8e44-1493-4321-b099-a5251b1dcc46",
   "metadata": {},
   "source": [
    "<font color='blue'>**Start of Problem 1 Part 1**</font>"
   ]
  },
  {
   "cell_type": "markdown",
   "id": "5b94fd73-435c-4416-97ea-a2396564fa87",
   "metadata": {},
   "source": [
    "Solution using Lagrangian multipliers from Lecture 4 Slide 89:\n",
    "$$\\ell(x_1,...,x_n,\\lambda_1,...,\\lambda_m,\\mu_1,...,\\mu_p) = f(x_1,...,x_n) + \\Sigma_{i=1}^m \\lambda_i*\\omega(x_1,..,x_n) + \\Sigma_{j=1}^p \\mu_j*g_j(x_1,..,x_n)$$"
   ]
  },
  {
   "cell_type": "markdown",
   "id": "e0c8be2b-0c72-493c-98f2-f55491c201fb",
   "metadata": {},
   "source": [
    "For this case:\n",
    "\n",
    "$$\\ell(x,y,z,\\lambda_1,...,\\lambda_m,\\mu_1,...,\\mu_p) = f(x,y,z) + \\Sigma_{i=1}^m \\lambda_i*\\omega(x,y,z) + \\Sigma_{j=1}^p \\mu_j*g_j(x,y,z)$$"
   ]
  },
  {
   "cell_type": "markdown",
   "id": "f77de44d-2eb4-40da-9581-fea48ecf3b85",
   "metadata": {},
   "source": [
    "Function to be minimized:\n",
    "\n",
    "$$ f(x,y,z) = x^2 + 2x + 2y^2 + 5y + z $$"
   ]
  },
  {
   "cell_type": "markdown",
   "id": "db2fea11-eedc-4a9d-99ed-aaa70bea5e9a",
   "metadata": {},
   "source": [
    "Equality constraint $\\omega$: \n",
    "\n",
    "$$\\omega = 5 - x - y - z $$"
   ]
  },
  {
   "cell_type": "markdown",
   "id": "f015f3c9-35d0-4e96-91cf-7697937a1c27",
   "metadata": {},
   "source": [
    "Also given: \n",
    "\n",
    "$$ 2x + z \\geq 0 $$\n",
    "\n",
    "Rearranging for inequality constraint $g$:\n",
    "$$  -2x - z \\leq 0 $$"
   ]
  },
  {
   "cell_type": "markdown",
   "id": "b2522450-be8a-4227-ac0a-509d4474ef24",
   "metadata": {},
   "source": [
    "Just have the 1 equality constraint $\\omega$, thus only 1 $\\lambda$ or $m$=1:"
   ]
  },
  {
   "cell_type": "markdown",
   "id": "8cac2eb5-9c78-4c82-9da5-2ba0e1006a2b",
   "metadata": {},
   "source": [
    "$$\\ell(x,y,z,\\lambda,\\mu_1,...,\\mu_p) = f(x,y,z) + \\lambda*\\omega(x,y,z) + \\Sigma_{j=1}^p \\mu_j*g_j(x,y,z)$$"
   ]
  },
  {
   "cell_type": "markdown",
   "id": "3ed31144-aa23-4371-8821-9cbc2e588733",
   "metadata": {},
   "source": [
    "Just have the 1 inequality constraint $g$, thus only 1 $\\mu$ or $p$=1:\n",
    "\n",
    "$$\\ell(x,y,z,\\lambda,\\mu) = f(x,y,z) + \\lambda*\\omega(x,y,z) + \\mu*g(x,y,z)$$"
   ]
  },
  {
   "cell_type": "markdown",
   "id": "5c186581-edac-4bb4-82fb-8605597401fa",
   "metadata": {},
   "source": [
    "<font color='blue'>Thus Lagrangian is:\n",
    "\n",
    "<font color='blue'>$$\\ell(x,y,z,\\lambda,\\mu) = x^2 + 2x + 2y^2 + 5y + z + \\lambda*[5 - x - y - z] + \\mu*[-2x - z]$$"
   ]
  },
  {
   "cell_type": "markdown",
   "id": "e9f9dca4-f308-4fb1-bb53-d13e0edc356f",
   "metadata": {},
   "source": [
    "<font color='blue'>**Answer to Problem 1 Part 1**</font>\n",
    "\n",
    "<font color='blue'>$$\\ell(x,y,z,\\lambda,\\mu) = x^2 + 2x + 2y^2 + 5y + z + \\lambda*[5 - x - y - z] + \\mu*[-2x - z]$$"
   ]
  },
  {
   "cell_type": "markdown",
   "id": "1034d8b5-96a2-4eac-8611-ef1ca917413c",
   "metadata": {},
   "source": [
    "<font color='blue'>**Start of Problem 1 Part 2**</font>"
   ]
  },
  {
   "cell_type": "markdown",
   "id": "840568da-337d-40e3-ac2c-d246aea4ef15",
   "metadata": {},
   "source": [
    "from slide 88 of Lecture 4:\n",
    "\n",
    "$$\\ell(x,\\lambda,\\mu) = f(x) + \\Sigma_{i=1}^m \\lambda_i*\\omega_i(x) + \\Sigma_{j=1}^p \\mu_j*g_j(x)$$"
   ]
  },
  {
   "cell_type": "markdown",
   "id": "e5489578-2a90-4163-9a03-6d720d9c5abb",
   "metadata": {},
   "source": [
    "Karush Kuhn Tucker (KKT) condition (also listed on same slide):\n",
    "\n",
    "$$\\frac{\\partial\\ell(x,\\lambda,\\mu)}{\\partial x_i} \\equiv \\frac{\\partial f(x)}{\\partial x_i} +  \\Sigma_{i=1}^m \\lambda_i *\\frac{\\partial \\omega_i(x)}{\\partial x_i} + \\Sigma_{j=1}^p \\mu_j* \\frac{\\partial g_j(x)}{\\partial x_i} = 0$$\n",
    "\n",
    "\n",
    "$$\\frac{\\partial\\ell(x,\\lambda,\\mu)}{\\partial \\lambda_k} \\equiv \\omega_k(x) = 0$$\n",
    "\n",
    "$$ g_j(x) \\leq 0$$"
   ]
  },
  {
   "cell_type": "markdown",
   "id": "26f647b5-e713-4063-9dca-7fa51ab8e044",
   "metadata": {},
   "source": [
    "With complementary slackness conditions:\n",
    "\n",
    "$$ \\mu_j g_j(x) = 0 $$\n",
    "$$ \\mu_j \\geq 0 $$"
   ]
  },
  {
   "cell_type": "markdown",
   "id": "d96685a6-6b90-4a7a-9425-05fa3f62b300",
   "metadata": {},
   "source": [
    "Thus KKT condition is as follows:\n",
    "\n",
    "$$\\frac{\\partial\\ell(x,\\lambda,\\mu)}{\\partial x_i} \\equiv \\frac{\\partial [x^2 + 2x + 2y^2 + 5y + z]}{\\partial x_i} +  \\lambda *\\frac{\\partial [5 - x - y - z]}{\\partial x_i} + \\mu* \\frac{\\partial [ -2x - z ]}{\\partial x_i} = 0$$\n",
    "\n",
    "<font color='blue'>$$\\frac{\\partial\\ell(x,\\lambda,\\mu)}{\\partial \\lambda} \\equiv 5 - x - y - z = 0$$\n",
    "\n",
    "<font color='blue'>$$ g_j(x)\\equiv -2x - z \\leq 0$$"
   ]
  },
  {
   "cell_type": "markdown",
   "id": "29dd6b7b-3fd8-4dc2-baee-218a0c2eedfa",
   "metadata": {},
   "source": [
    "With respect to x:\n",
    "\n",
    "$$\\frac{\\partial\\ell(x,\\lambda,\\mu)}{\\partial x} \\equiv \\frac{\\partial [x^2 + 2x + 2y^2 + 5y + z]}{\\partial x} +  \\lambda *\\frac{\\partial [5 - x - y - z]}{\\partial x} + \\mu* \\frac{\\partial [ -2x - z ]}{\\partial x} = 0$$\n",
    "\n",
    "$$\\frac{\\partial\\ell(x,\\lambda,\\mu)}{\\partial x} \\equiv [2x + 2] +  \\lambda *[-1] + \\mu*[ -2] = 0$$\n",
    "\n",
    "<font color='blue'>$$\\frac{\\partial\\ell(x,\\lambda,\\mu)}{\\partial x} \\equiv 2x + 2 - \\lambda - 2 \\mu = 0$$"
   ]
  },
  {
   "cell_type": "markdown",
   "id": "ba0942d6-6bd7-40d3-bf88-34af2e6c1464",
   "metadata": {},
   "source": [
    "With respect to y:\n",
    "\n",
    "$$\\frac{\\partial\\ell(x,\\lambda,\\mu)}{\\partial y} \\equiv \\frac{\\partial [x^2 + 2x + 2y^2 + 5y + z]}{\\partial y} +  \\lambda *\\frac{\\partial [5 - x - y - z]}{\\partial y} + \\mu* \\frac{\\partial [ -2x - z ]}{\\partial y} = 0$$\n",
    "\n",
    "$$\\frac{\\partial\\ell(x,\\lambda,\\mu)}{\\partial y} \\equiv [2*2y + 5] +  \\lambda *[-1] + \\mu* [0] = 0$$\n",
    "\n",
    "<font color='blue'>$$\\frac{\\partial\\ell(x,\\lambda,\\mu)}{\\partial y} \\equiv 4y + 5 - \\lambda = 0$$"
   ]
  },
  {
   "cell_type": "markdown",
   "id": "4dca79a8-23bd-4948-9ed3-7d4705acc83e",
   "metadata": {},
   "source": [
    "With respect to z:\n",
    "\n",
    "$$\\frac{\\partial\\ell(x,\\lambda,\\mu)}{\\partial z} \\equiv \\frac{\\partial [x^2 + 2x + 2y^2 + 5y + z]}{\\partial z} +  \\lambda *\\frac{\\partial [5 - x - y - z]}{\\partial z} + \\mu* \\frac{\\partial [ -2x - z ]}{\\partial z} = 0$$\n",
    "\n",
    "$$\\frac{\\partial\\ell(x,\\lambda,\\mu)}{\\partial z} \\equiv [1] +  \\lambda * [-1]  + \\mu* [-1] = 0$$\n",
    "\n",
    "<font color='blue'>$$\\frac{\\partial\\ell(x,\\lambda,\\mu)}{\\partial z} \\equiv 1 -  \\lambda  - \\mu = 0$$"
   ]
  },
  {
   "cell_type": "markdown",
   "id": "16aa53e3-bb31-477d-b568-44eadf28f65b",
   "metadata": {},
   "source": [
    "Plugging into complementary slackness conditions:\n",
    "\n",
    "$$ \\mu g(x) = \\mu[-2x - z] = 0 $$\n",
    "\n",
    "<font color='blue'>$$ \\mu g(x) = -2x\\mu - z\\mu = 0 $$\n",
    "\n",
    "<font color='blue'>$$ \\mu \\geq 0 $$"
   ]
  },
  {
   "cell_type": "markdown",
   "id": "64d79945-0d71-483d-8252-9ca1ee3d4e28",
   "metadata": {},
   "source": [
    "<font color='blue'>**Answer to Problem 1 Part 2**</font>"
   ]
  },
  {
   "cell_type": "markdown",
   "id": "d8184138-8651-4918-971b-11fc75464c50",
   "metadata": {},
   "source": [
    "<font color='blue'>**In summary, KKT condition is as follows:**\n",
    "\n",
    "<font color='blue'>$$\\frac{\\partial\\ell(x,\\lambda,\\mu)}{\\partial x} \\equiv 2x + 2 - \\lambda - 2 \\mu = 0$$\n",
    "\n",
    "<font color='blue'>$$\\frac{\\partial\\ell(x,\\lambda,\\mu)}{\\partial y} \\equiv 4y + 5 - \\lambda = 0$$\n",
    "\n",
    "<font color='blue'>$$\\frac{\\partial\\ell(x,\\lambda,\\mu)}{\\partial z} \\equiv 1 -  \\lambda  - \\mu = 0$$\n",
    "\n",
    "<font color='blue'>$$\\frac{\\partial\\ell(x,\\lambda,\\mu)}{\\partial \\lambda} \\equiv 5 - x - y - z = 0$$\n",
    "\n",
    "<font color='blue'>$$ g(x)\\equiv -2x - z \\leq 0$$\n",
    "\n",
    "<font color='blue'>**With complementary slackness conditions:**\n",
    "\n",
    "<font color='blue'>$$ \\mu g(x) = -2x\\mu - z\\mu = 0 $$\n",
    "\n",
    "<font color='blue'>$$ \\mu \\geq 0 $$"
   ]
  },
  {
   "cell_type": "markdown",
   "id": "bfc955ac-ed1b-4d41-8678-d0003359edbb",
   "metadata": {},
   "source": [
    "<font color='blue'>**Start of Problem 1 Part 3**</font>"
   ]
  },
  {
   "cell_type": "markdown",
   "id": "69e736f5-abce-4da4-94d2-87230e2f170d",
   "metadata": {},
   "source": [
    "First assume inequality constraint not binding (slide 94):\n",
    "$$ \\mu = 0 $$"
   ]
  },
  {
   "cell_type": "markdown",
   "id": "740a2b04-f991-4744-a5d4-2070695e6ccf",
   "metadata": {},
   "source": [
    "Plugging into eqn wrt x:\n",
    "\n",
    "$$\\frac{\\partial\\ell(x,\\lambda,\\mu)}{\\partial x} \\equiv 2x + 2 - \\lambda - 2 \\mu = 0$$\n",
    "\n",
    "$$\\frac{\\partial\\ell(x,\\lambda,\\mu)}{\\partial x} \\equiv 2x + 2 - \\lambda - 2 [0] = 0$$\n",
    "\n",
    "$$\\frac{\\partial\\ell(x,\\lambda,\\mu)}{\\partial x} \\equiv 2x + 2 - \\lambda = 0$$\n",
    "\n",
    "Plugging into eqn wrt y:\n",
    "$$\\frac{\\partial\\ell(x,\\lambda,\\mu)}{\\partial y} \\equiv 4y + 5 - \\lambda = 0$$\n",
    "\n",
    "Plugging into eqn wrt z:\n",
    "$$\\frac{\\partial\\ell(x,\\lambda,\\mu)}{\\partial z} \\equiv 1 -  \\lambda  - \\mu = 0$$\n",
    "\n",
    "$$\\frac{\\partial\\ell(x,\\lambda,\\mu)}{\\partial z} \\equiv 1 -  \\lambda  - [0] = 0$$\n",
    "\n",
    "$$\\frac{\\partial\\ell(x,\\lambda,\\mu)}{\\partial z} \\equiv 1 -  \\lambda = 0$$"
   ]
  },
  {
   "cell_type": "markdown",
   "id": "f4a853d9-81be-4e70-b068-f764f7f71197",
   "metadata": {},
   "source": [
    "Solving eqn wrt z:\n",
    "\n",
    "$$\\frac{\\partial\\ell(x,\\lambda,\\mu)}{\\partial z} \\equiv 1 -  \\lambda = 0$$\n",
    "\n",
    "$$ 1 -  \\lambda = 0$$\n",
    "\n",
    "$$ \\lambda = 1$$\n",
    "\n",
    "Solving eqn wrt x:\n",
    "\n",
    "$$\\frac{\\partial\\ell(x,\\lambda,\\mu)}{\\partial x} \\equiv 2x + 2 - \\lambda = 0$$\n",
    "\n",
    "$$ 2x + 2 - [1] = 0$$\n",
    "\n",
    "$$ 2x + 1 = 0$$\n",
    "\n",
    "<font color='blue'>$$ x = -0.5$$\n",
    "\n",
    "Solving eqn wrt y:\n",
    "\n",
    "$$\\frac{\\partial\\ell(x,\\lambda,\\mu)}{\\partial y} \\equiv 4y + 5 - \\lambda = 0$$\n",
    "\n",
    "$$ 4y + 5 - [1] = 0$$\n",
    "\n",
    "$$ 4y + 4 = 0$$\n",
    "\n",
    "<font color='blue'>$$ y = -1$$\n",
    "\n",
    "Find z:\n",
    "\n",
    "$$x + y + z = 5$$\n",
    "\n",
    "$$z = 5 - x - y $$\n",
    "\n",
    "$$z = 5 - (-0.5) - (-1)$$\n",
    "\n",
    "<font color='blue'>$$z = 6.5$$"
   ]
  },
  {
   "cell_type": "markdown",
   "id": "675f5056-ea2e-4822-afb2-a636cb6e81a0",
   "metadata": {},
   "source": [
    "Check feasibility:\n",
    "$$  -2x - z \\leq 0 ?$$\n",
    "\n",
    "$$  -2[-0.5] - [6.5] \\leq 0 ?$$\n",
    "\n",
    "$$  1 - [6.5] \\leq 0 ?$$\n",
    "\n",
    "$$  -5.5 \\leq 0 $$\n",
    "\n",
    "Thus, solution is feasible"
   ]
  },
  {
   "cell_type": "markdown",
   "id": "88225559-7ecb-4d01-9ce5-ffb12660a2b4",
   "metadata": {},
   "source": [
    "Find value of objective function for $x = -0.5$, $y= -1$, $z=6.5$:\n",
    "\n",
    "$$x^2 + 2x + 2y^2 + 5y + z$$\n",
    "\n",
    "$$(-0.5)^2 + 2(-0.5) + 2(-1)^2 + 5(-1) + (6.5)$$\n",
    "\n",
    "$$0.25 -1 + 2 -5 + 6.5$$\n",
    "\n",
    "$$0.25 + 1 + 1.5$$\n",
    "\n",
    "<font color='blue'>$$ 2.75$$"
   ]
  },
  {
   "cell_type": "markdown",
   "id": "7131d5ad-efa7-4af4-a1fb-ea305b55181b",
   "metadata": {},
   "source": [
    "<font color='blue'>**Answer to Problem 1 Part 3**</font>\n",
    "\n",
    "<font color='blue'>$x = -0.5$, $y= -1$, $z=6.5$ for objective function value of $2.75$"
   ]
  },
  {
   "cell_type": "code",
   "execution_count": 120,
   "id": "44ec04cd-eb41-4bf3-9c24-e395eff3eb2f",
   "metadata": {},
   "outputs": [],
   "source": [
    "# check with CVXPY:\n",
    "import cvxpy as cp"
   ]
  },
  {
   "cell_type": "code",
   "execution_count": 121,
   "id": "661d3431-0ee3-499b-a8e5-0801c5f4c353",
   "metadata": {},
   "outputs": [],
   "source": [
    "# Define variables\n",
    "x = cp.Variable(nonneg = False)\n",
    "y = cp.Variable(nonneg = False)\n",
    "z = cp.Variable(nonneg = False)"
   ]
  },
  {
   "cell_type": "code",
   "execution_count": 122,
   "id": "4fc2c2f7-2417-4629-a130-4bd533aee89f",
   "metadata": {},
   "outputs": [],
   "source": [
    "# Create objective function\n",
    "obj = cp.Minimize(x**2 + 2*x + 2*y**2 + 5*y + z)"
   ]
  },
  {
   "cell_type": "code",
   "execution_count": 123,
   "id": "8392b6e1-44fb-4a5b-b9c9-b0e73a5a2fc7",
   "metadata": {},
   "outputs": [],
   "source": [
    "con = [];\n",
    "# Define inequality constraints \n",
    "con += [-2*x - z <= 0];\n",
    "# Define equality constraints \n",
    "con += [5 - x - y -z == 0]"
   ]
  },
  {
   "cell_type": "code",
   "execution_count": 124,
   "id": "c4972ff2-56d6-4b0d-8c4b-4dff91d05bdc",
   "metadata": {},
   "outputs": [],
   "source": [
    "# Solve the problem\n",
    "prob = cp.Problem(obj, con)"
   ]
  },
  {
   "cell_type": "code",
   "execution_count": 125,
   "id": "f49ea220-7b82-4938-a0a5-34353371531c",
   "metadata": {},
   "outputs": [
    {
     "name": "stdout",
     "output_type": "stream",
     "text": [
      "===============================================================================\n",
      "                                     CVXPY                                     \n",
      "                                     v1.3.2                                    \n",
      "===============================================================================\n",
      "(CVXPY) Oct 20 06:53:46 PM: Your problem has 3 variables, 2 constraints, and 0 parameters.\n",
      "(CVXPY) Oct 20 06:53:46 PM: It is compliant with the following grammars: DCP, DQCP\n",
      "(CVXPY) Oct 20 06:53:46 PM: (If you need to solve this problem multiple times, but with different data, consider using parameters.)\n",
      "(CVXPY) Oct 20 06:53:46 PM: CVXPY will first compile your problem; then, it will invoke a numerical solver to obtain a solution.\n",
      "-------------------------------------------------------------------------------\n",
      "                                  Compilation                                  \n",
      "-------------------------------------------------------------------------------\n",
      "(CVXPY) Oct 20 06:53:46 PM: Compiling problem (target solver=OSQP).\n",
      "(CVXPY) Oct 20 06:53:46 PM: Reduction chain: CvxAttr2Constr -> Qp2SymbolicQp -> QpMatrixStuffing -> OSQP\n",
      "(CVXPY) Oct 20 06:53:46 PM: Applying reduction CvxAttr2Constr\n",
      "(CVXPY) Oct 20 06:53:46 PM: Applying reduction Qp2SymbolicQp\n",
      "(CVXPY) Oct 20 06:53:46 PM: Applying reduction QpMatrixStuffing\n",
      "(CVXPY) Oct 20 06:53:46 PM: Applying reduction OSQP\n",
      "(CVXPY) Oct 20 06:53:46 PM: Finished problem compilation (took 1.547e-02 seconds).\n",
      "-------------------------------------------------------------------------------\n",
      "                                Numerical solver                               \n",
      "-------------------------------------------------------------------------------\n",
      "(CVXPY) Oct 20 06:53:46 PM: Invoking solver OSQP  to obtain a solution.\n",
      "-----------------------------------------------------------------\n",
      "           OSQP v0.6.3  -  Operator Splitting QP Solver\n",
      "              (c) Bartolomeo Stellato,  Goran Banjac\n",
      "        University of Oxford  -  Stanford University 2021\n",
      "-----------------------------------------------------------------\n",
      "problem:  variables n = 3, constraints m = 2\n",
      "          nnz(P) + nnz(A) = 7\n",
      "settings: linear system solver = qdldl,\n",
      "          eps_abs = 1.0e-05, eps_rel = 1.0e-05,\n",
      "          eps_prim_inf = 1.0e-04, eps_dual_inf = 1.0e-04,\n",
      "          rho = 1.00e-01 (adaptive),\n",
      "          sigma = 1.00e-06, alpha = 1.60, max_iter = 10000\n",
      "          check_termination: on (interval 25),\n",
      "          scaling: on, scaled_termination: off\n",
      "          warm start: on, polish: on, time_limit: off\n",
      "\n",
      "iter   objective    pri res    dua res    rho        time\n",
      "   1  -1.4833e+00   5.00e+00   2.50e+03   1.00e-01   2.73e-05s\n",
      "  50   2.7500e+00   7.61e-09   3.37e-08   1.00e-01   1.10e-04s\n",
      "plsh   2.7500e+00   0.00e+00   1.57e-15   --------   2.29e-04s\n",
      "\n",
      "status:               solved\n",
      "solution polish:      successful\n",
      "number of iterations: 50\n",
      "optimal objective:    2.7500\n",
      "run time:             2.29e-04s\n",
      "optimal rho estimate: 4.75e-02\n",
      "\n",
      "-------------------------------------------------------------------------------\n",
      "                                    Summary                                    \n",
      "-------------------------------------------------------------------------------\n",
      "(CVXPY) Oct 20 06:53:46 PM: Problem status: optimal\n",
      "(CVXPY) Oct 20 06:53:46 PM: Optimal value: 2.750e+00\n",
      "(CVXPY) Oct 20 06:53:46 PM: Compilation took 1.547e-02 seconds\n",
      "(CVXPY) Oct 20 06:53:46 PM: Solver (including time spent in interface) took 1.114e-03 seconds\n"
     ]
    },
    {
     "data": {
      "text/plain": [
       "2.7500000000000004"
      ]
     },
     "execution_count": 125,
     "metadata": {},
     "output_type": "execute_result"
    }
   ],
   "source": [
    "# call solver to solve the problem\n",
    "prob.solve(verbose = True) # You may specify the solver here, \n",
    "                           # otherwise ECOS is used for LPs by default"
   ]
  },
  {
   "cell_type": "code",
   "execution_count": 126,
   "id": "8ce5127d-027b-428f-9e16-1c970433e60d",
   "metadata": {},
   "outputs": [
    {
     "data": {
      "text/plain": [
       "'optimal'"
      ]
     },
     "execution_count": 126,
     "metadata": {},
     "output_type": "execute_result"
    }
   ],
   "source": [
    "prob.status"
   ]
  },
  {
   "cell_type": "code",
   "execution_count": 127,
   "id": "40b16766-9b96-40f9-a144-43108730b298",
   "metadata": {},
   "outputs": [
    {
     "name": "stdout",
     "output_type": "stream",
     "text": [
      "\u001b[94mOptimal value:  2.75\u001b[0m\n",
      "\u001b[94mOptimal variables:  x=-0.5, y=-1.0, z=6.5\u001b[0m\n"
     ]
    }
   ],
   "source": [
    "#print optimal value and variables\n",
    "print('\\033[94mOptimal value: ', f'{prob.value:.8}' +'\\033[0m')\n",
    "print('\\033[94mOptimal variables: ', f'x={x.value:.5}, y={y.value:.5}, z={z.value:.5}'+'\\033[0m')"
   ]
  },
  {
   "cell_type": "markdown",
   "id": "c3e39bc4-c023-46db-aa4a-dbb9eb7839b3",
   "metadata": {},
   "source": [
    "### Problem 2 Economic dispatch using CVXPY (20)\n",
    "\n",
    "A utility company has three generators with the following cost functions (unit in \\\\$/h):\n",
    "$$\n",
    "\\begin{align}\n",
    "C_1(x_1) &= 0.01 x_1^2 + 20 x_1 + 100 \\\\\n",
    "C_2(x_2) &= 0.02 x_2^2 + 25 x_2 + 200 \\\\\n",
    "C_3(x_3) &= 0.03 x_3^2 + 30 x_3 + 300 \n",
    "\\end{align}\n",
    "$$\n",
    "\n",
    "And the minimum and maximum generator capacity are listed below:\n",
    "<style type=\"text/css\">\n",
    ".tg  {border-collapse:collapse;border-spacing:0;}\n",
    ".tg td{border-color:black;border-style:solid;border-width:1px;font-family:Arial, sans-serif;font-size:14px;\n",
    "  overflow:hidden;padding:10px 5px;word-break:normal;}\n",
    ".tg th{border-color:black;border-style:solid;border-width:1px;font-family:Arial, sans-serif;font-size:14px;\n",
    "  font-weight:normal;overflow:hidden;padding:10px 5px;word-break:normal;}\n",
    ".tg .tg-0pky{border-color:inherit;text-align:left;vertical-align:top}\n",
    "</style>\n",
    "<table class=\"tg\">\n",
    "<thead>\n",
    "  <tr>\n",
    "    <th class=\"tg-0pky\"> </th>\n",
    "    <th class=\"tg-0pky\">Gen Min (MW) </th>\n",
    "    <th class=\"tg-0pky\">Gem Max (MW)</th>\n",
    "  </tr>\n",
    "</thead>\n",
    "<tbody>\n",
    "  <tr>\n",
    "    <td class=\"tg-0pky\">Generator 1</td>\n",
    "    <td class=\"tg-0pky\">100</td>\n",
    "    <td class=\"tg-0pky\">500</td>\n",
    "  </tr>\n",
    "  <tr>\n",
    "    <td class=\"tg-0pky\">Generator 2</td>\n",
    "    <td class=\"tg-0pky\">50</td>\n",
    "    <td class=\"tg-0pky\">300</td>\n",
    "  </tr>\n",
    "  <tr>\n",
    "    <td class=\"tg-0pky\">Generator 3</td>\n",
    "    <td class=\"tg-0pky\">0</td>\n",
    "    <td class=\"tg-0pky\">100</td>\n",
    "  </tr>\n",
    "</tbody>\n",
    "</table>\n"
   ]
  },
  {
   "cell_type": "markdown",
   "id": "68bc56b5-9bf3-4909-8b88-eb40ddea737e",
   "metadata": {},
   "source": [
    "We now practice to solve the optimization using CVXPY. Before we start, load the CVXPY package"
   ]
  },
  {
   "cell_type": "code",
   "execution_count": 83,
   "id": "51422d0b-2313-49c1-b5f1-8d538153f4ef",
   "metadata": {},
   "outputs": [],
   "source": [
    "import cvxpy as cp"
   ]
  },
  {
   "cell_type": "markdown",
   "id": "dfdbe7c4-000b-4cfa-81f8-3e35b1e8967f",
   "metadata": {},
   "source": [
    "First, we need to define variables:"
   ]
  },
  {
   "cell_type": "code",
   "execution_count": 84,
   "id": "172795d7-1fd2-4b29-999a-60066b146cfa",
   "metadata": {},
   "outputs": [],
   "source": [
    "# Define x1 as a variable\n",
    "x1 = cp.Variable(nonneg = True)"
   ]
  },
  {
   "cell_type": "markdown",
   "id": "47858df2-158b-47d9-a37c-ef2722ba6a52",
   "metadata": {},
   "source": [
    "It defines `x1` as a variable under the CVXPY class - `cp.Variable`. Since most of the time we will be dealing with nonnegative variables, it is convenient to simply enforce variables to be positive only with `(nonneg = True)`. \n",
    "\n",
    "1. Now define variables for generator 2 and 3 (5)"
   ]
  },
  {
   "cell_type": "code",
   "execution_count": 85,
   "id": "c8e18908-47be-4bc8-adf6-55bb5d368548",
   "metadata": {},
   "outputs": [],
   "source": [
    "# Define x2 as a variable\n",
    "x2 = cp.Variable(nonneg = True)\n",
    "# Define x3 as a variable\n",
    "x3 = cp.Variable(nonneg = True)"
   ]
  },
  {
   "cell_type": "markdown",
   "id": "e49b5a47-0930-4c7b-81eb-34ab266ab084",
   "metadata": {},
   "source": [
    "Next, define the objective function as a minimization problem, note that the first generator is already given.\n",
    "\n",
    "2. Please fill in the rest two generators into the objective function (5)"
   ]
  },
  {
   "cell_type": "code",
   "execution_count": 95,
   "id": "fc09d851-e06d-4fac-ab54-ae855b71051b",
   "metadata": {},
   "outputs": [],
   "source": [
    "# Fill in cost function for generator two and three\n",
    "obj = cp.Minimize(\n",
    "    0.01*cp.square(x1) + 20 * x1 + 100 + \n",
    "    0.02*cp.square(x2) + 25*x2 + 200 +\n",
    "    0.03*cp.square(x3) + 30*x3 + 300 \n",
    "                 )"
   ]
  },
  {
   "cell_type": "markdown",
   "id": "352b1d95-461f-494f-95ea-8aed5319ea3e",
   "metadata": {},
   "source": [
    "Now define inequality constraints"
   ]
  },
  {
   "cell_type": "code",
   "execution_count": 108,
   "id": "44cde64f-6577-4d48-9f99-72f5f6800044",
   "metadata": {},
   "outputs": [],
   "source": [
    "con = [];\n",
    "con += [x1 >= 100];\n",
    "con += [x1 <= 500];"
   ]
  },
  {
   "cell_type": "markdown",
   "id": "787b393f-bd02-4f52-a7ee-8f0ef958c551",
   "metadata": {},
   "source": [
    "3. Define inequality constraints for generator 2 and 3 (5)"
   ]
  },
  {
   "cell_type": "code",
   "execution_count": 109,
   "id": "1be62783-e578-4d7a-bc60-5d175296d8dc",
   "metadata": {},
   "outputs": [],
   "source": [
    "# Define constraints for generator 2\n",
    "con += [x2 >= 50];\n",
    "con += [x2 <= 300];\n",
    "# Define constraints for generator 3\n",
    "con += [x3 >= 0];\n",
    "con += [x3 <= 100];"
   ]
  },
  {
   "cell_type": "markdown",
   "id": "d03cd230-2ac5-4225-9942-90c5e9a51447",
   "metadata": {},
   "source": [
    "Finally, add the last constraint which enforces the sum of generatoin equals to the demand which is 500 MW. Note that all equality constraints must be defined using `==` instead of `=`.\n",
    "\n",
    "4. Define the demand balance constraint (5)"
   ]
  },
  {
   "cell_type": "code",
   "execution_count": 110,
   "id": "d39d5b52-dbd8-47ab-b7b2-19a8f1db3855",
   "metadata": {},
   "outputs": [],
   "source": [
    "# Define the demand balance constraint\n",
    "con += [500 - x1 - x2 - x3 == 0]"
   ]
  },
  {
   "cell_type": "markdown",
   "id": "143bc3b7-e6a1-462c-a48d-92cbdd796030",
   "metadata": {},
   "source": [
    "So far we have defined the objective `obj` and the constraint set `con`. Now we assemble them together into a **Problem** with name `prob1`"
   ]
  },
  {
   "cell_type": "code",
   "execution_count": 111,
   "id": "b888375e-6790-4f3f-9002-2cb38ec2052e",
   "metadata": {},
   "outputs": [],
   "source": [
    "# Solve the problem\n",
    "prob1 = cp.Problem(obj, con)"
   ]
  },
  {
   "cell_type": "markdown",
   "id": "212d1aa0-da98-46e9-81eb-8b15bd19d16a",
   "metadata": {},
   "source": [
    "Note we call a solver to solve `prob1` for us"
   ]
  },
  {
   "cell_type": "code",
   "execution_count": 112,
   "id": "7d4c1121-2edf-4138-ad29-be8712c8ab78",
   "metadata": {},
   "outputs": [
    {
     "name": "stdout",
     "output_type": "stream",
     "text": [
      "===============================================================================\n",
      "                                     CVXPY                                     \n",
      "                                     v1.3.2                                    \n",
      "===============================================================================\n",
      "(CVXPY) Oct 20 06:52:59 PM: Your problem has 3 variables, 7 constraints, and 0 parameters.\n",
      "(CVXPY) Oct 20 06:52:59 PM: It is compliant with the following grammars: DCP, DQCP\n",
      "(CVXPY) Oct 20 06:52:59 PM: (If you need to solve this problem multiple times, but with different data, consider using parameters.)\n",
      "(CVXPY) Oct 20 06:52:59 PM: CVXPY will first compile your problem; then, it will invoke a numerical solver to obtain a solution.\n",
      "-------------------------------------------------------------------------------\n",
      "                                  Compilation                                  \n",
      "-------------------------------------------------------------------------------\n",
      "(CVXPY) Oct 20 06:52:59 PM: Compiling problem (target solver=OSQP).\n",
      "(CVXPY) Oct 20 06:52:59 PM: Reduction chain: CvxAttr2Constr -> Qp2SymbolicQp -> QpMatrixStuffing -> OSQP\n",
      "(CVXPY) Oct 20 06:52:59 PM: Applying reduction CvxAttr2Constr\n",
      "(CVXPY) Oct 20 06:52:59 PM: Applying reduction Qp2SymbolicQp\n",
      "(CVXPY) Oct 20 06:52:59 PM: Applying reduction QpMatrixStuffing\n",
      "(CVXPY) Oct 20 06:52:59 PM: Applying reduction OSQP\n",
      "(CVXPY) Oct 20 06:52:59 PM: Finished problem compilation (took 1.802e-02 seconds).\n",
      "-------------------------------------------------------------------------------\n",
      "                                Numerical solver                               \n",
      "-------------------------------------------------------------------------------\n",
      "(CVXPY) Oct 20 06:52:59 PM: Invoking solver OSQP  to obtain a solution.\n",
      "-----------------------------------------------------------------\n",
      "           OSQP v0.6.3  -  Operator Splitting QP Solver\n",
      "              (c) Bartolomeo Stellato,  Goran Banjac\n",
      "        University of Oxford  -  Stanford University 2021\n",
      "-----------------------------------------------------------------\n",
      "problem:  variables n = 3, constraints m = 10\n",
      "          nnz(P) + nnz(A) = 15\n",
      "settings: linear system solver = qdldl,\n",
      "          eps_abs = 1.0e-05, eps_rel = 1.0e-05,\n",
      "          eps_prim_inf = 1.0e-04, eps_dual_inf = 1.0e-04,\n",
      "          rho = 1.00e-01 (adaptive),\n",
      "          sigma = 1.00e-06, alpha = 1.60, max_iter = 10000\n",
      "          check_termination: on (interval 25),\n",
      "          scaling: on, scaled_termination: off\n",
      "          warm start: on, polish: on, time_limit: off\n",
      "\n",
      "iter   objective    pri res    dua res    rho        time\n",
      "   1  -9.1509e+00   5.00e+02   1.50e+06   1.00e-01   3.29e-05s\n",
      "  75   1.2292e+04   4.03e-05   1.88e-07   2.86e-04   1.47e-04s\n",
      "plsh   1.2292e+04   2.77e-17   5.40e-12   --------   2.98e-04s\n",
      "\n",
      "status:               solved\n",
      "solution polish:      successful\n",
      "number of iterations: 75\n",
      "optimal objective:    12291.6667\n",
      "run time:             2.98e-04s\n",
      "optimal rho estimate: 1.03e-03\n",
      "\n",
      "-------------------------------------------------------------------------------\n",
      "                                    Summary                                    \n",
      "-------------------------------------------------------------------------------\n",
      "(CVXPY) Oct 20 06:52:59 PM: Problem status: optimal\n",
      "(CVXPY) Oct 20 06:52:59 PM: Optimal value: 1.289e+04\n",
      "(CVXPY) Oct 20 06:52:59 PM: Compilation took 1.802e-02 seconds\n",
      "(CVXPY) Oct 20 06:52:59 PM: Solver (including time spent in interface) took 1.097e-03 seconds\n"
     ]
    },
    {
     "data": {
      "text/plain": [
       "12891.666666666666"
      ]
     },
     "execution_count": 112,
     "metadata": {},
     "output_type": "execute_result"
    }
   ],
   "source": [
    "# call solver to solve the problem\n",
    "prob1.solve(verbose = True) # You may specify the solver here, \n",
    "                           # otherwise ECOS is used for LPs by default"
   ]
  },
  {
   "cell_type": "markdown",
   "id": "9b60e0b2-5a2f-456a-889c-7cf95cfafb44",
   "metadata": {},
   "source": [
    "Now all solutions and status are updated into `prob1`. "
   ]
  },
  {
   "cell_type": "markdown",
   "id": "530eca0c-a839-4122-a3f3-a663b73993e0",
   "metadata": {},
   "source": [
    "Use `prob1.status` to check the optimality"
   ]
  },
  {
   "cell_type": "code",
   "execution_count": 113,
   "id": "48c0ad70-eb42-4266-9664-ed4419aed349",
   "metadata": {},
   "outputs": [
    {
     "data": {
      "text/plain": [
       "'optimal'"
      ]
     },
     "execution_count": 113,
     "metadata": {},
     "output_type": "execute_result"
    }
   ],
   "source": [
    "prob1.status"
   ]
  },
  {
   "cell_type": "markdown",
   "id": "f8fa35c5-55e9-48f9-b143-1ebd1dbcd281",
   "metadata": {},
   "source": [
    "Optimized objective value is stored in `prob1.value`, optimized variables are stored in `x1.value`, and the Lagrange multiplier/dual value results are stored in the field `con[0].dual_value` \n",
    "\n",
    "**Note:**"
   ]
  },
  {
   "cell_type": "markdown",
   "id": "af28dc4a-bbf8-4ea4-b7e5-c3bf329d23c6",
   "metadata": {},
   "source": [
    "Now we can use `print` to print out results with a nice look"
   ]
  },
  {
   "cell_type": "code",
   "execution_count": 114,
   "id": "0f9ed7df",
   "metadata": {},
   "outputs": [
    {
     "name": "stdout",
     "output_type": "stream",
     "text": [
      "\u001b[94mOptimal value:  12891.667\u001b[0m\n",
      "\u001b[94mOptimal variables:  x1=416.67, x2=83.333, x3=0.0\u001b[0m\n",
      "\u001b[94mPrice:  28.3\u001b[0m\n"
     ]
    }
   ],
   "source": [
    "#print optimal value and variables\n",
    "print('\\033[94mOptimal value: ', f'{prob1.value:.8}' +'\\033[0m')\n",
    "print('\\033[94mOptimal variables: ', f'x1={x1.value:.5}, x2={x2.value:.5}, x3={x3.value:.5}'+'\\033[0m')\n",
    "print('\\033[94mPrice: ', f'{con[6].dual_value:.3}'+'\\033[0m')"
   ]
  },
  {
   "cell_type": "markdown",
   "id": "e9a75fd8-4e2f-4c72-bb17-d7bdb6469985",
   "metadata": {},
   "source": [
    "<font color='blue'>**Answer to Problem 2**</font>"
   ]
  },
  {
   "cell_type": "markdown",
   "id": "b6284a7f-9e69-4d38-b0e0-3204df07bd1a",
   "metadata": {},
   "source": [
    "<font color='blue'>Optimal value:  12,892\n",
    "\n",
    "<font color='blue'>Optimal variables:  x1=417, x2=83, x3=0 so generator 1 at 417 MW, generator 2 at 83 MW, and generator 3 not running\n",
    "\n",
    "<font color='blue'>Price:  28.3"
   ]
  },
  {
   "cell_type": "markdown",
   "id": "b8401328-4079-4b12-b436-d42282c75cd8",
   "metadata": {},
   "source": [
    "### Problem 3 Piece-wise linear cost function (50)\n",
    "\n",
    "A utility operates two generators with the following piece-wise linear cost curves:\n",
    "\n",
    "**Generator 1:** The minimal generation is 50 MW and maximum is 200 MW.\n",
    "* 0 MW to 100 MW: 25 \\\\$/MWh\n",
    "* 100 MW to 150 MW: 27 \\\\$/MWh\n",
    "* 150 MW to 200 MW: 30 \\\\$/MWh\n",
    "\n",
    "\n",
    "**Generator 2:** The minimal generation is 30 MW and maximum is 100 MW. \n",
    "* 0 MW to 50 MW: 23 \\\\$/MWh\n",
    "* 50 MW to 80 MW: 25 \\\\$/MWh\n",
    "* 80 MW to 100 MW: 28 \\\\$/MWh\n",
    "\n",
    "\n",
    "The demand to be served is 185 MW.\n",
    "\n",
    "\n",
    "1) Formulate the problem into a linear proramming. Use Latex to write out your solution (refer to Problem 1 Markdown format), explain your variable definition and constraints, **do not** write code for this question. **Hint:** You should define a different variable for each segment. (20)\n",
    "\n",
    "2) Use CVXPY to solve this problem. (20)\n",
    "\n",
    "3) Do we need to model the segment transition logic in this case (i.e., enforce a upper segment to be zero if the lower segment is not \"full\" ), why? (10)"
   ]
  },
  {
   "cell_type": "markdown",
   "id": "69741925-a3b4-4e4d-b99d-b1e29cd98182",
   "metadata": {},
   "source": [
    "<font color='blue'>**Start of Problem 3 Part 1**</font>"
   ]
  },
  {
   "cell_type": "markdown",
   "id": "598d11cf-4ec2-4a41-b842-3617f01543c6",
   "metadata": {},
   "source": [
    "<font color='blue'>**Define variables for generator 1 $p_{1}$, different variables per segment:**\n",
    "\n",
    "$p_{11}$ for 0 MW to 100 MW segment\n",
    "\n",
    "HOWEVER note minimum generation is 50 MW, thus\n",
    "\n",
    "<font color='blue'>$p_{11}$ for 50 MW to 100 MW segment\n",
    "\n",
    "<font color='blue'>$p_{12}$  for 100 MW to 150 MW segment (0 to 50 \"units\")\n",
    "\n",
    "<font color='blue'>$p_{13}$  for 150 MW to 200 MW segment (0 to 50 \"units\")\n",
    "\n",
    "Thus associated constaints, in UNIT form/subtract out max generation from previous segment:\n",
    "\n",
    "<font color='blue'>$p_{11} \\geq 50 $\n",
    "\n",
    "<font color='blue'>$p_{11} \\leq 100 $\n",
    "\n",
    "<font color='blue'>$p_{12} \\geq 0 $\n",
    "\n",
    "<font color='blue'>$p_{12} \\leq 50 $\n",
    "\n",
    "<font color='blue'>$p_{13} \\geq 0 $\n",
    "\n",
    "<font color='blue'>$p_{13}  \\leq 50$\n",
    "\n",
    "With associated costs:\n",
    "\n",
    "<font color='blue'>$c_{11} = 25 \\$/MWh$\n",
    "\n",
    "<font color='blue'>$c_{12} = 27 \\$/MWh$\n",
    "\n",
    "<font color='blue'>$c_{13} = 30 \\$/MWh$"
   ]
  },
  {
   "cell_type": "markdown",
   "id": "a673fa9d-a04e-4b9a-8f81-74b52e51c7cd",
   "metadata": {},
   "source": [
    "<font color='blue'>**For generator 2 $p_{2}$, different variables per segment:**\n",
    "\n",
    "$p_{21}$ for 0 MW to 50 MW segment\n",
    "\n",
    "HOWEVER note minimum generation is 30 MW, thus\n",
    "\n",
    "<font color='blue'>$p_{21}$ for 30 MW to 50 MW segment\n",
    "\n",
    "<font color='blue'>$p_{22}$  for 50 MW to 80 MW segment (0 to 30 \"units\")\n",
    "\n",
    "<font color='blue'>$p_{23}$  for 80 MW to 100 MW segment (0 to 20 \"units\")\n",
    "\n",
    "Thus associated constaints, in UNIT form/subtract out max generation from previous segment:\n",
    "\n",
    "<font color='blue'>$p_{21} \\geq 30 $\n",
    "\n",
    "<font color='blue'>$p_{21} \\leq 50 $\n",
    "\n",
    "<font color='blue'>$p_{22} \\geq 0 $\n",
    "\n",
    "<font color='blue'>$p_{22} \\leq 30 $\n",
    "\n",
    "<font color='blue'>$p_{23} \\geq 0 $\n",
    "\n",
    "<font color='blue'>$p_{23}  \\leq 20 $\n",
    "\n",
    "With associated costs:\n",
    "\n",
    "<font color='blue'>$c_{21} = 23 \\$/MWh$\n",
    "\n",
    "<font color='blue'>$c_{22} = 25 \\$/MWh$\n",
    "\n",
    "<font color='blue'>$c_{23} = 28 \\$/MWh$"
   ]
  },
  {
   "cell_type": "markdown",
   "id": "a038482a-f4a0-4eae-b833-a661c960245b",
   "metadata": {},
   "source": [
    "Total demand constraint:\n",
    "\n",
    "<font color='blue'>$ p_{11} + p_{12} + p_{13} + p_{21} + p_{22} + p_{23} = 185 MW $\n",
    "\n",
    "Or rearranged:\n",
    "\n",
    "<font color='blue'>$ 185 - p_{11} - p_{12} - p_{13} - p_{21} - p_{22} - p_{23} = 0 $"
   ]
  },
  {
   "cell_type": "markdown",
   "id": "48cc4884-47d1-4435-ba04-b239813d1d34",
   "metadata": {},
   "source": [
    "<font color='blue'>**Thus objective function to be minimized is:**\n",
    "$$ 25p_{11} + 27p_{12} + 30p_{13} + 23p_{21} + 25p_{22} + 28p_{23} $$"
   ]
  },
  {
   "cell_type": "markdown",
   "id": "082d3b7b-a2a3-476d-a45c-3ea80e9fa67a",
   "metadata": {},
   "source": [
    "<font color='blue'>**Answer to Problem 3 Part 1: (Summarized from above)**\n",
    "\n",
    "<font color='blue'>**Objective function to be minimized is:**\n",
    "<font color='blue'>$$ 25p_{11} + 27p_{12} + 30p_{13} + 23p_{21} + 25p_{22} + 28p_{23} $$\n",
    "\n",
    "<font color='blue'>**Subject to constraints:**\n",
    "\n",
    "<font color='blue'>$ 185 - p_{11} - p_{12} - p_{13} - p_{21} - p_{22} - p_{23} = 0 $\n",
    "\n",
    "<font color='blue'>$p_{11} \\geq 50 $\n",
    "\n",
    "<font color='blue'>$p_{11} \\leq 100 $\n",
    "\n",
    "<font color='blue'>$p_{12} \\geq 0 $\n",
    "\n",
    "<font color='blue'>$p_{12} \\leq 50 $\n",
    "\n",
    "<font color='blue'>$p_{13} \\geq 0 $\n",
    "\n",
    "<font color='blue'>$p_{13}  \\leq 50$\n",
    "\n",
    "<font color='blue'>$p_{21} \\geq 30 $\n",
    "\n",
    "<font color='blue'>$p_{21} \\leq 50 $\n",
    "\n",
    "<font color='blue'>$p_{22} \\geq 0 $\n",
    "\n",
    "<font color='blue'>$p_{22} \\leq 30 $\n",
    "\n",
    "<font color='blue'>$p_{23} \\geq 0 $\n",
    "\n",
    "<font color='blue'>$p_{23}  \\leq 20 $"
   ]
  },
  {
   "cell_type": "markdown",
   "id": "dd24cdc9-c675-4c7c-9872-604d35e2e33d",
   "metadata": {},
   "source": [
    "<font color='blue'>**Start of Problem 3 Part 2**</font>"
   ]
  },
  {
   "cell_type": "code",
   "execution_count": 163,
   "id": "a3ee298a-37c6-45b6-a0d6-7182e87ed545",
   "metadata": {},
   "outputs": [],
   "source": [
    "# Define variables\n",
    "p11 = cp.Variable(nonneg = True) #because won't have negative generation, not physically possible\n",
    "p12 = cp.Variable(nonneg = True)\n",
    "p13 = cp.Variable(nonneg = True)\n",
    "p21 = cp.Variable(nonneg = True)\n",
    "p22 = cp.Variable(nonneg = True)\n",
    "p23 = cp.Variable(nonneg = True)"
   ]
  },
  {
   "cell_type": "code",
   "execution_count": 164,
   "id": "80706b20-4087-4933-870b-85f1316c5883",
   "metadata": {},
   "outputs": [],
   "source": [
    "# Create objective function\n",
    "obj3 = cp.Minimize(25*p11 + 27*p12 + 30*p13 + 23*p21 + 25*p22 + 28*p23)"
   ]
  },
  {
   "cell_type": "code",
   "execution_count": 165,
   "id": "a1a2d791-3372-43cb-8896-5acd26f61b63",
   "metadata": {},
   "outputs": [],
   "source": [
    "con3 = [];\n",
    "\n",
    "# Define constraints for generator 1\n",
    "con3 += [p11 >= 50];\n",
    "con3 += [p11 <= 100];\n",
    "con3 += [p12 >= 0];\n",
    "con3 += [p12 <= 50];\n",
    "con3 += [p13 >= 0];\n",
    "con3 += [p13 <= 50];\n",
    "# Define constraints for generator 2\n",
    "con3 += [p21 >= 30];\n",
    "con3 += [p21 <= 50];\n",
    "con3 += [p22 >= 0];\n",
    "con3 += [p22 <= 30];\n",
    "con3 += [p23 >= 0];\n",
    "con3 += [p23 <= 20];\n",
    "# Define demand balance constraint\n",
    "con3 += [185 - p11 - p12 - p13 - p21 - p22 - p23 == 0]"
   ]
  },
  {
   "cell_type": "code",
   "execution_count": 166,
   "id": "6119395a-2e90-4796-aa98-b1ce3cd1c2e2",
   "metadata": {},
   "outputs": [],
   "source": [
    "# Solve the problem\n",
    "prob3 = cp.Problem(obj3, con3)"
   ]
  },
  {
   "cell_type": "code",
   "execution_count": 167,
   "id": "8d4588c6-e9fd-4d1c-8feb-31e5b3e749f3",
   "metadata": {},
   "outputs": [
    {
     "data": {
      "text/plain": [
       "4535.000000478926"
      ]
     },
     "execution_count": 167,
     "metadata": {},
     "output_type": "execute_result"
    }
   ],
   "source": [
    "# call solver to solve the problem\n",
    "prob3.solve() # You may specify the solver here, \n",
    "                           # otherwise ECOS is used for LPs by default"
   ]
  },
  {
   "cell_type": "code",
   "execution_count": 168,
   "id": "b212ab86-2f81-4cba-83b8-801349f29be9",
   "metadata": {},
   "outputs": [
    {
     "data": {
      "text/plain": [
       "'optimal'"
      ]
     },
     "execution_count": 168,
     "metadata": {},
     "output_type": "execute_result"
    }
   ],
   "source": [
    "prob3.status"
   ]
  },
  {
   "cell_type": "code",
   "execution_count": 176,
   "id": "2292fb69-138e-428e-bb8c-d138d08d0064",
   "metadata": {},
   "outputs": [
    {
     "name": "stdout",
     "output_type": "stream",
     "text": [
      "\u001b[94mOptimal value:  4535.0\u001b[0m\n",
      "\u001b[94mOptimal variables:  p11=100.0, p12=5.0, p13=3.8448e-08,p21=50.0,p22=30.0,p23=2.1812e-07\u001b[0m\n",
      "\u001b[94mPrice:  27.0\u001b[0m\n"
     ]
    }
   ],
   "source": [
    "#print optimal value and variables\n",
    "print('\\033[94mOptimal value: ', f'{prob3.value:.8}' +'\\033[0m')\n",
    "print('\\033[94mOptimal variables: ', f'p11={p11.value:.5}, p12={p12.value:.5}, p13={p13.value:.5},p21={p21.value:.5},p22={p22.value:.5},p23={p23.value:.5}'+'\\033[0m')\n",
    "print('\\033[94mPrice: ', f'{con3[-1].dual_value:.3}'+'\\033[0m')"
   ]
  },
  {
   "cell_type": "code",
   "execution_count": 173,
   "id": "adcd88e5-09a4-4bae-8fd7-f1bd1425bee2",
   "metadata": {},
   "outputs": [
    {
     "data": {
      "text/plain": [
       "184.99999999999997"
      ]
     },
     "execution_count": 173,
     "metadata": {},
     "output_type": "execute_result"
    }
   ],
   "source": [
    "#Check: \n",
    "p11.value + p12.value + p13.value + p21.value + p22.value + p23.value"
   ]
  },
  {
   "cell_type": "code",
   "execution_count": 174,
   "id": "c6f620ad-74e2-43e5-90f1-e87eced51acc",
   "metadata": {},
   "outputs": [
    {
     "data": {
      "text/plain": [
       "104.99999980940304"
      ]
     },
     "execution_count": 174,
     "metadata": {},
     "output_type": "execute_result"
    }
   ],
   "source": [
    "#Thus, generator 1 will run:\n",
    "p11.value + p12.value + p13.value "
   ]
  },
  {
   "cell_type": "code",
   "execution_count": 175,
   "id": "f7115789-b03a-4c8a-a954-3d208790bf94",
   "metadata": {},
   "outputs": [
    {
     "data": {
      "text/plain": [
       "80.00000019059692"
      ]
     },
     "execution_count": 175,
     "metadata": {},
     "output_type": "execute_result"
    }
   ],
   "source": [
    "#Thus, generator 2 will run:\n",
    "p21.value + p22.value + p23.value"
   ]
  },
  {
   "cell_type": "markdown",
   "id": "def05eda-53fb-4781-a663-a01be272dbfa",
   "metadata": {},
   "source": [
    "<font color='blue'>**Answer to Problem 2 Part 2**</font>"
   ]
  },
  {
   "cell_type": "markdown",
   "id": "86d756a6-2e88-4fbf-acf6-ac880ab48a88",
   "metadata": {},
   "source": [
    "<font color='blue'>**Generator 1 would total $105 MW$, generator 2 would total $80 MW$. Price would be $\\$27/MWh$, which makes sense as we'd get into the second segment of generator 1 ($\\$27/MWh$) and the second segment of generator 2 ($\\$25/MWh$) thus generator 1 would set the price. Breakdown of values by segment printed above and summarized below.**\n",
    "\n",
    "<font color='blue'>p11=100.0\n",
    "\n",
    "<font color='blue'>p12=5.0\n",
    "\n",
    "<font color='blue'>p13=0\n",
    "\n",
    "<font color='blue'>p21=50.0\n",
    "\n",
    "<font color='blue'>p22=30.0\n",
    "\n",
    "<font color='blue'>p23=0"
   ]
  },
  {
   "cell_type": "markdown",
   "id": "169f16b5-9cd8-4f03-bfb5-da7dbb7f1c84",
   "metadata": {},
   "source": [
    "<font color='blue'>**Answer to Problem 2 Part 3**</font>"
   ]
  },
  {
   "cell_type": "markdown",
   "id": "82c8147b-084c-43b8-8c0d-8a0251e6352f",
   "metadata": {},
   "source": [
    "<font color='blue'>No, we don't need to model the segment transition logic in this case. Since we subtracted the generation of the previous segments from the later ones, this is already accounted for. This works because each segment has increasing cost, so the objective function will naturally minimize the later segments in favor of using the maximum possible from the earlier segments. If we hadn't defined the segment constraints in terms of \"units\" as opposed to cumulative generation and/or cost did not increase this way, we'd need to model the segment transition logic. "
   ]
  },
  {
   "cell_type": "code",
   "execution_count": null,
   "id": "ba279502-f95d-4e1a-9360-fd5b319e7a1e",
   "metadata": {},
   "outputs": [],
   "source": []
  }
 ],
 "metadata": {
  "kernelspec": {
   "display_name": "Python 3 (ipykernel)",
   "language": "python",
   "name": "python3"
  },
  "language_info": {
   "codemirror_mode": {
    "name": "ipython",
    "version": 3
   },
   "file_extension": ".py",
   "mimetype": "text/x-python",
   "name": "python",
   "nbconvert_exporter": "python",
   "pygments_lexer": "ipython3",
   "version": "3.11.5"
  }
 },
 "nbformat": 4,
 "nbformat_minor": 5
}
