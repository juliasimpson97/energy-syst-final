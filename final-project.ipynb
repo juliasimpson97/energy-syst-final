{
 "cells": [
  {
   "cell_type": "markdown",
   "id": "edde43b0-72cf-48ad-a21b-1ef1ba889773",
   "metadata": {},
   "source": [
    "# Final Project: Wind Integration in ISO New England\n",
    "**Eliza Cohn and Julia Simpson**\n",
    "\n",
    "**EEEL 4220 Fall 2023**"
   ]
  },
  {
   "cell_type": "markdown",
   "id": "b232f9a0-14aa-4f10-a9fc-3098eed10cf2",
   "metadata": {},
   "source": [
    "<font color='blue'>**Key information in blue**</font>"
   ]
  },
  {
   "cell_type": "markdown",
   "id": "41f690fb-f834-4188-bf52-c26baeab09fe",
   "metadata": {},
   "source": [
    "# Directions"
   ]
  },
  {
   "cell_type": "markdown",
   "id": "e5a8f9e0-3435-41b3-a8cd-2ef654af2e52",
   "metadata": {},
   "source": [
    "## Introduction\n",
    "You take the position of a policy maker to provide policy suggestions to decarbonize ISO New England and are given the attached one-bus system model and. Details about this system model are explained in the attached paper. Note the model in this paper has 8 buses with no transmission limits, so it is equivalent to a single-bus model (ISO New England has minor congestion issues).\n",
    "ISONE expects to install a total wind generation capacity of 12,000 MW by 2030 and would like to study how to best integrate wind generation. You are provided with one week (168 hours) of data including wind generation capacity factors and demand. The wind generator capacity factor is a normalized value between zero to one representation ratio between the actual wind generation and the installed wind capacity over each hour."
   ]
  },
  {
   "cell_type": "markdown",
   "id": "3cffc489-4afa-4843-92cf-9eee213c0ffe",
   "metadata": {},
   "source": [
    "## Project Objective\n",
    "\n",
    "Please finish a report summarizing how to best integrate up to 12,000 MW of wind generation into the system and how the wind generation would impact the system operating cost. You should explore three levels of wind capacity:\n",
    "- Low: 2,000 MW\n",
    "- Medium: 6,000 MW • High: 12,000 MW\n",
    "\n",
    "You need to implement a unit commitment simulation and explore approaches that could improve the wind integration ratio, these approaches include but are not limited to\n",
    "- Add carbon tax that increases the cost of traditional generators. You can use the EIA website1 to look up emission factors of different fuel types.\n",
    "- Add tax incentives for wind integration, in this case, you should add a negative cost of wind generation wt to the objective function.\n",
    "- Retirement of coal power plants.\n",
    "\n",
    "At each scenario, use the following indexes to compare the system performance\n",
    "- The total generation cost.\n",
    "- The wind curtailment ratio - the ratio between the wind that was not integrated into the system\n",
    "(Wt − wt) to the total wind capacity available (Wt).\n",
    "- Profits received by generators.\n",
    "- The average electricity price.\n",
    "- The profit received by generators.\n",
    "\n",
    "Finally, your project and report should conclude your recommendation of the best solution that balances electricity cost, system-wide carbon emission, and generator revenue. Note that there will not be a unique solution, and you should use your own judgements about which one you think is the best."
   ]
  },
  {
   "cell_type": "markdown",
   "id": "ae638a8e-6c06-4ebd-971f-219f76c898a9",
   "metadata": {},
   "source": [
    "## Directions\n",
    "1. The major effort in this project is to program a unit commitment model. Wind generation should be modeled as a zero marginal cost resource (or negative marginal cost if it has tax credits) and can be curtailed, i.e., wt ≤ WAt, where W are installed wind capacity, At is the time-variant capacity factor given in the data, and wt is the actual wind power integrated into the grid. w should be included in the nodal power balance as a generator. For the rest, please refer to the complete unit commitment formulation in the attachment.\n",
    "2. You are given a full week’s profile but performing a unit commitment with 168 hours might be overwhelming for your computer. Instead, you should perform sequential daily unit commitments of 24 hours, and pass decision variables as the starting point (in which they become coefficients) for your next unit commitment. These will include gi,t and ui,t. You must also update SUi, and SDi accordingly based on the start-up/down status. For your first operating day, you can assume all generators have been off long enough and set these parameters.\n",
    "3. The generator cost data includes a quadratic term and a linear term. You can either use mixed- integer quadratic programming to solve it directly or apply piece-wise linear (five segments per generator max) to the cost curve and convert the problem into MILP.\n",
    "4. You can assume all generators are off at the start of each scenario with a zero must-down time, i.e., you can start any generators at the start of the horizon.\n",
    "5. After implementing a functional unit commitment model, please adjust the installed wind power capacity and other intervention methods, observe the result from each scenario, and summarize the results in your report."
   ]
  },
  {
   "cell_type": "markdown",
   "id": "1e76c783-dbc9-41f0-ab26-61297422f883",
   "metadata": {},
   "source": [
    "## Appendix - Unit Commitment Formulation\n",
    "\n",
    "Indexes\n",
    "- t: Time period index t ∈ {1,2,...,T}, a total of T time periods. \n",
    "- b: Bus index b ∈ {1,2,...,B}, a total of B buses.\n",
    "- i: Generator index g ∈ {1,2,...,I}, a total of G generators.\n",
    "- l: Line index l ∈ {1,2,...,L}, a total of L lines.\n",
    "\n",
    "Cost parameters\n",
    "- QC_i: the quadratic generation cost term for generator i.\n",
    "- LC_i: the linear generation cost term for generator i.\n",
    "- NLC_i: no load cost for generator i.\n",
    "- SUC_i: start-up cost for generator i.\n",
    "\n",
    "Unit constraints parameters\n",
    "- Gmax_i: maximum generation of generator i\n",
    "- Gmin_i: minimum generation of generator i\n",
    "- Tup_i: minimum up time of generator i\n",
    "- Tdn_i: minimum down time of generator i\n",
    "- RR_i: ramp rate of generator i\n",
    "- SU_i: number of time periods generator i must stay up since the start of the optimization horizon.\n",
    "- SD_i: number of time periods generator i must stay down since the start of the optimization horizon.\n",
    "\n",
    "Demand and renewable parameters\n",
    "- W: installed wind capacity\n",
    "- α_t: wind capacity factor during time period t\n",
    "- D_t: system demand during time period t\n",
    "\n",
    "Continuous decision variables\n",
    "- g_i,t: production of generator i during time period t\n",
    "- r_i,t: hourly reserve generator i could provide during time period t\n",
    "- w_t: wind power generation during time period t\n",
    "- s_t: slack variable representing cost of load shedding during time period t\n",
    "\n",
    "Binary decision variables\n",
    "- u_i,t: 1 if generator i is on during time period t, otherwise zero\n",
    "- v_i,t: 1 if generator i is turned on at the start of period t, otherwise zero \n",
    "- z_i,t: 1 if generator i is turned off at the start of period t, otherwise zero\n",
    "\n",
    "The objective function minimizes total generation costs. Note that the last term is about the slack variable s_t which represents the cost of load shedding which is priced at 9,000\\$/MWh."
   ]
  },
  {
   "cell_type": "markdown",
   "id": "34a6ea05-17f6-486d-b613-9949f344e2e2",
   "metadata": {},
   "source": [
    "$$ min \\sum\\limits_{t} \\sum\\limits_{i} (QC_ig_{i,t}^2 +LC_ig_{i,t} + NLC_iu_{i,t} +SUC_iv_{i,t}) + (9000)s_t $$\n",
    "\n",
    "Generation limit constraint $ (i ∈ {1,2,...,I}, t ∈ {1,2,...,T}) $ \n",
    "$$ Gmin_iu_{i,t} \\leq g_{i,t} \\leq Gmax_iu_{i,t}$$\n",
    "\n",
    "\n",
    "Generation ramp constraint, the minimum generation limit adds to the ramp-up limit when the generator is turned on or off $(i ∈ {1,2,...,I}, t ∈ {1,2,...,T}) $\n",
    "\n",
    "$$ −Gmin_iz_{i,t} − RR_i ≤ g_{i,t} − g_{i,t}−1 ≤ RR_i + Gmin_iv_{i,t} $$\n",
    "\n",
    "Generator start-up and shut-down logic $(i ∈ {1,2,...,I}, t ∈ {1,2,...,T})$\n",
    "$$ v_{i,t} − z_{i,t} = u_{i,t} − u_{i,t−1} $$\n",
    "$$ v_{i,t} + z_{i,t} ≤ 1 $$\n",
    "\n",
    "Generator minimum up time constraint, note the use of the alternative time index τ , and the constraint only accounts for periods beyond the required must on or off time since the start of the optimization horizon $(i ∈ {1,2,...,I})$\n",
    "<font color='red'>$$ \\sum\\limits_{τ=max{t−Tup_i+1,1}}^t v_{i,τ} ≤ u_{i,t},t ∈ {SU_i,...,T}$$ \n",
    "<font color='red'>$$ \\sum\\limits_{τ=max{t−Tdn_i+1,1}}^t z_{i,τ} ≤ 1-u_{i,t},t ∈ {SD_i,...,T}$$ \n",
    "\n",
    "accompanied by the must-stay on or off constraints, which passes the on/off requirement from the\n",
    "previous day to the current day\n",
    "$$ \\sum\\limits_{t=1}^{SU_i} u_{i,t} = SU_i $$\n",
    "$$ \\sum\\limits_{t=1}^{SD_i} u_{i,t} = 0 $$\n",
    "\n",
    "\n",
    "Power balance, the dual variable λt associated with this constraint is the system price\n",
    "$$ \\sum\\limits_{i} g_{i,t} + w_t + s_t = D_t : \\lambda_t $$ \n",
    "\n",
    "\n",
    "System reserve (3+5 rule: hourly reserve amount must equal to 3% of demand and 5% of integrated wind)\n",
    "$$ \\sum\\limits_{i} r_{i,t} \\geq (3\\%) D_t + (5\\%)w_t $$\n",
    "$$ r_{i,t} \\leq  Gmax_iu_{i,t} − g_{i,t} $$\n",
    "$$ r_{i,t} \\leq RR_i $$\n",
    "\n",
    "Wind generation limit\n",
    "$$ w_t \\leq \\alpha_tW $$"
   ]
  },
  {
   "cell_type": "markdown",
   "id": "a48e5f34-3438-4d7c-8384-43f92670dfbc",
   "metadata": {},
   "source": [
    "# Code for Project"
   ]
  },
  {
   "cell_type": "markdown",
   "id": "3186c7dc-9ac6-4070-9717-f1df3f1fd456",
   "metadata": {},
   "source": [
    "## Data Import"
   ]
  },
  {
   "cell_type": "code",
   "execution_count": null,
   "id": "9a17257f-90df-40b8-8488-7cbbbb84c55f",
   "metadata": {},
   "outputs": [],
   "source": []
  },
  {
   "cell_type": "markdown",
   "id": "bb745ab2-3071-4d2f-aa76-ff0029d2f6b8",
   "metadata": {},
   "source": [
    "## Defining Objective Function & Constraints"
   ]
  },
  {
   "cell_type": "markdown",
   "id": "d5a1d5f2-d135-4855-9515-7c4024c488c5",
   "metadata": {},
   "source": [
    "### Objective Function"
   ]
  },
  {
   "cell_type": "markdown",
   "id": "015c8da7-8559-4d04-9e04-469b9c3adea7",
   "metadata": {},
   "source": [
    "$$ min \\sum\\limits_{t} \\sum\\limits_{i} (QC_ig_{i,t}^2 +LC_ig_{i,t} + NLC_iu_{i,t} +SUC_iv_{i,t}) + (9000)s_t $$"
   ]
  },
  {
   "cell_type": "code",
   "execution_count": null,
   "id": "39d92106-3c93-4644-834a-db00baf3e4a9",
   "metadata": {},
   "outputs": [],
   "source": [
    "obj = cp.Minimize(sum(QC @ g**2) + sum(LC @ g) + sum(NLC @ u) + sum(SUC @ v) + sum(9000 @ s))"
   ]
  },
  {
   "cell_type": "markdown",
   "id": "8e181166-ebd0-41e2-bdae-401db1ddaa3f",
   "metadata": {},
   "source": [
    "### Constraints"
   ]
  },
  {
   "cell_type": "code",
   "execution_count": null,
   "id": "181ca12f-0dcb-4bfa-81cf-d904fa794876",
   "metadata": {},
   "outputs": [],
   "source": [
    "# Initialize an empty constraint set\n",
    "con_set = []  "
   ]
  },
  {
   "cell_type": "markdown",
   "id": "b6963705-6450-4f85-87df-057b0534e348",
   "metadata": {},
   "source": [
    "<font color='red'> demand balance constraint?"
   ]
  },
  {
   "cell_type": "code",
   "execution_count": null,
   "id": "d6bce348-6c94-4103-a45d-7397e7a8fac6",
   "metadata": {},
   "outputs": [],
   "source": [
    "con_set.append( LOAD == sum(g) ) # demand balance constraint"
   ]
  },
  {
   "cell_type": "markdown",
   "id": "0f64107f-68dd-4523-8563-5a9690629f4e",
   "metadata": {},
   "source": [
    "Generation limit constraint $ (i ∈ {1,2,...,I}, t ∈ {1,2,...,T}) $ \n",
    "$$ Gmin_iu_{i,t} \\leq g_{i,t} \\leq Gmax_iu_{i,t}$$"
   ]
  },
  {
   "cell_type": "code",
   "execution_count": null,
   "id": "f9792162-0e00-4dbe-a791-ff670a9b7dc0",
   "metadata": {},
   "outputs": [],
   "source": [
    "for t in range(T): # go through each period\n",
    "    for i in range(I): # go through each generator\n",
    "        con_set.append(g[i][t] <= GenMax[i] * u[i][t])  # maximum generation limits\n",
    "        con_set.append(g[i][t] >= GenMin[i] * u[i][t])  # minimum generation limits"
   ]
  },
  {
   "cell_type": "markdown",
   "id": "ebf81c05-4fa9-45c3-ba5b-37525d7ea5a6",
   "metadata": {},
   "source": [
    "Generation ramp constraint, the minimum generation limit adds to the ramp-up limit when the generator is turned on or off $(i ∈ {1,2,...,I}, t ∈ {1,2,...,T}) $\n",
    "\n",
    "$$ −Gmin_iz_{i,t} − RR_i ≤ g_{i,t} − g_{i,t−1} ≤ RR_i + Gmin_iv_{i,t} $$"
   ]
  },
  {
   "cell_type": "code",
   "execution_count": null,
   "id": "0ee1f79b-6ca4-427f-aad2-e2a8fb7dc327",
   "metadata": {},
   "outputs": [],
   "source": [
    "for t in range(T): # go through each period\n",
    "    for i in range(I): # go through each generator\n",
    "        con_set.append(g[i][t] - g[i][t-1] <= RR[i] + GenMin[i] * v[i][t])  # minimum gen limit added to ramp limit when generator turned on or off\n",
    "        con_set.append(g[i][t] - g[i][t-1] >= -GenMin[i] * z[i][t] - RR[i])  # minimum gen limit added to ramp limit when generator turned on or off"
   ]
  },
  {
   "cell_type": "markdown",
   "id": "d0486912-a14b-48f9-a276-85f1b3241986",
   "metadata": {},
   "source": [
    "Generator start-up and shut-down logic $(i ∈ {1,2,...,I}, t ∈ {1,2,...,T})$\n",
    "$$ v_{i,t} − z_{i,t} = u_{i,t} − u_{i,t−1} $$\n",
    "$$ v_{i,t} + z_{i,t} ≤ 1 $$"
   ]
  },
  {
   "cell_type": "code",
   "execution_count": null,
   "id": "b93b6d7f-513c-4188-9260-aaa043463837",
   "metadata": {},
   "outputs": [],
   "source": [
    "for t in range(T): # go through each period\n",
    "    for i in range(I): # go through each generator\n",
    "        con_set.append(v[i][t] - z[i][t] == u[i][t] - u[i][t-1])  # generator start-up logic\n",
    "        con_set.append(v[i][t] + z[i][t] <= 1)  # generator shut-down logic"
   ]
  },
  {
   "cell_type": "markdown",
   "id": "d271c4f8-26a1-41c4-95a6-4878ce18f6dc",
   "metadata": {},
   "source": [
    "<font color='red'> between commitment status check?"
   ]
  },
  {
   "cell_type": "code",
   "execution_count": null,
   "id": "a14ed8e6-7320-4da8-a7ee-5d1108ccbd42",
   "metadata": {},
   "outputs": [],
   "source": [
    "for t in range(T): # go through each period\n",
    "    for i in range(I): # go through each  generator\n",
    "        if t==0:\n",
    "            # for the first period, check with initial commitment status\n",
    "            con_set_1.append( v[i][0] >= u[i][0] - u0[i]) \n",
    "        else:\n",
    "            # for other periods, check difference between two commitment status\n",
    "            con_set_1.append( v[i][t] >= u[i][t] - u[i][t-1])"
   ]
  },
  {
   "cell_type": "markdown",
   "id": "52152d3d-5223-4355-acba-7e5816157e2b",
   "metadata": {},
   "source": [
    "<font color='red orange'>LEFT OFF HERE"
   ]
  },
  {
   "cell_type": "markdown",
   "id": "ea8f98bc-5543-4224-84ed-794eca25c55f",
   "metadata": {},
   "source": [
    "Generator minimum up time constraint, note the use of the alternative time index τ , and the constraint only accounts for periods beyond the required must on or off time since the start of the optimization horizon $(i ∈ {1,2,...,I})$\n",
    "<font color='red'>$$ \\sum\\limits_{\\tau=max{t−Tup_i+1,1}}^t v_{i,τ} ≤ u_{i,t},t ∈ {SU_i,...,T}$$ \n",
    "<font color='red'>$$ \\sum\\limits_{\\tau=max{t−Tdn_i+1,1}}^t z_{i,τ} ≤ 1-u_{i,t},t ∈ {SD_i,...,T}$$ \n",
    "\n",
    "accompanied by the must-stay on or off constraints, which passes the on/off requirement from the\n",
    "previous day to the current day\n",
    "$$ \\sum\\limits_{t=1}^{SU_i} u_{i,t} = SU_i $$\n",
    "$$ \\sum\\limits_{t=1}^{SD_i} u_{i,t} = 0 $$"
   ]
  },
  {
   "cell_type": "code",
   "execution_count": null,
   "id": "742bb5c4-f359-4bad-90b6-ebdf3e5950f4",
   "metadata": {},
   "outputs": [],
   "source": []
  },
  {
   "cell_type": "markdown",
   "id": "6cf30f74-f733-48b4-8ce5-63875c602913",
   "metadata": {},
   "source": [
    "Power balance, the dual variable $\\lambda_t$ associated with this constraint is the system price\n",
    "$$ \\sum\\limits_{i} g_{i,t} + w_t + s_t = D_t : \\lambda_t $$ "
   ]
  },
  {
   "cell_type": "code",
   "execution_count": null,
   "id": "c64513a6-de7a-48e3-afdc-acae6e37f8fd",
   "metadata": {},
   "outputs": [],
   "source": []
  },
  {
   "cell_type": "markdown",
   "id": "4a8c603e-4ee4-4e6d-98e1-6506b774cd22",
   "metadata": {},
   "source": [
    "System reserve (3+5 rule: hourly reserve amount must equal to 3% of demand and 5% of integrated wind)\n",
    "$$ \\sum\\limits_{i} r_{i,t} \\geq (3\\%) D_t + (5\\%)w_t $$\n",
    "$$ r_{i,t} \\leq  Gmax_iu_{i,t} − g_{i,t} $$\n",
    "$$ r_{i,t} \\leq RR_i $$"
   ]
  },
  {
   "cell_type": "code",
   "execution_count": null,
   "id": "916f3f5b-6192-4ca0-8b51-85aa67a5ee4d",
   "metadata": {},
   "outputs": [],
   "source": []
  },
  {
   "cell_type": "markdown",
   "id": "3a2a282f-b871-404f-b7c1-54cbda73eb72",
   "metadata": {},
   "source": [
    "Wind generation limit\n",
    "$$ w_t \\leq \\alpha_tW $$"
   ]
  },
  {
   "cell_type": "code",
   "execution_count": null,
   "id": "880c7105-2b5f-4d0b-8215-4be8cf60505d",
   "metadata": {},
   "outputs": [],
   "source": []
  },
  {
   "cell_type": "markdown",
   "id": "2dd8e3d2-7233-4586-ae58-605f5607bd96",
   "metadata": {},
   "source": [
    "## Solve and Check Results"
   ]
  },
  {
   "cell_type": "code",
   "execution_count": null,
   "id": "796ead7f-01c5-4a6f-b135-8884c3bdce9e",
   "metadata": {},
   "outputs": [],
   "source": [
    "# Solve the problem\n",
    "prob1 = cp.Problem(obj, con_set_1)\n",
    "prob1.solve(solver = \"GUROBI\")\n",
    "prob1.solve();"
   ]
  },
  {
   "cell_type": "markdown",
   "id": "0951b6b1-2abc-4978-b746-2c1f26cc28a4",
   "metadata": {},
   "source": [
    "# Example Code from HW5"
   ]
  },
  {
   "cell_type": "markdown",
   "id": "568e8e44-1493-4321-b099-a5251b1dcc46",
   "metadata": {},
   "source": [
    "<font color='blue'>**Start of Problem 1 Part 1**</font>"
   ]
  },
  {
   "cell_type": "markdown",
   "id": "5b94fd73-435c-4416-97ea-a2396564fa87",
   "metadata": {},
   "source": [
    "Solution using Lagrangian multipliers from Lecture 4 Slide 89:\n",
    "$$\\ell(x_1,...,x_n,\\lambda_1,...,\\lambda_m,\\mu_1,...,\\mu_p) = f(x_1,...,x_n) + \\Sigma_{i=1}^m \\lambda_i*\\omega(x_1,..,x_n) + \\Sigma_{j=1}^p \\mu_j*g_j(x_1,..,x_n)$$"
   ]
  },
  {
   "cell_type": "markdown",
   "id": "e0c8be2b-0c72-493c-98f2-f55491c201fb",
   "metadata": {},
   "source": [
    "For this case:\n",
    "\n",
    "$$\\ell(x,y,z,\\lambda_1,...,\\lambda_m,\\mu_1,...,\\mu_p) = f(x,y,z) + \\Sigma_{i=1}^m \\lambda_i*\\omega(x,y,z) + \\Sigma_{j=1}^p \\mu_j*g_j(x,y,z)$$"
   ]
  },
  {
   "cell_type": "markdown",
   "id": "f77de44d-2eb4-40da-9581-fea48ecf3b85",
   "metadata": {},
   "source": [
    "Function to be minimized:\n",
    "\n",
    "$$ f(x,y,z) = x^2 + 2x + 2y^2 + 5y + z $$"
   ]
  },
  {
   "cell_type": "markdown",
   "id": "db2fea11-eedc-4a9d-99ed-aaa70bea5e9a",
   "metadata": {},
   "source": [
    "Equality constraint $\\omega$: \n",
    "\n",
    "$$\\omega = 5 - x - y - z $$"
   ]
  },
  {
   "cell_type": "markdown",
   "id": "f015f3c9-35d0-4e96-91cf-7697937a1c27",
   "metadata": {},
   "source": [
    "Also given: \n",
    "\n",
    "$$ 2x + z \\geq 0 $$\n",
    "\n",
    "Rearranging for inequality constraint $g$:\n",
    "$$  -2x - z \\leq 0 $$"
   ]
  },
  {
   "cell_type": "markdown",
   "id": "b2522450-be8a-4227-ac0a-509d4474ef24",
   "metadata": {},
   "source": [
    "Just have the 1 equality constraint $\\omega$, thus only 1 $\\lambda$ or $m$=1:"
   ]
  },
  {
   "cell_type": "markdown",
   "id": "8cac2eb5-9c78-4c82-9da5-2ba0e1006a2b",
   "metadata": {},
   "source": [
    "$$\\ell(x,y,z,\\lambda,\\mu_1,...,\\mu_p) = f(x,y,z) + \\lambda*\\omega(x,y,z) + \\Sigma_{j=1}^p \\mu_j*g_j(x,y,z)$$"
   ]
  },
  {
   "cell_type": "markdown",
   "id": "3ed31144-aa23-4371-8821-9cbc2e588733",
   "metadata": {},
   "source": [
    "Just have the 1 inequality constraint $g$, thus only 1 $\\mu$ or $p$=1:\n",
    "\n",
    "$$\\ell(x,y,z,\\lambda,\\mu) = f(x,y,z) + \\lambda*\\omega(x,y,z) + \\mu*g(x,y,z)$$"
   ]
  },
  {
   "cell_type": "markdown",
   "id": "5c186581-edac-4bb4-82fb-8605597401fa",
   "metadata": {},
   "source": [
    "<font color='blue'>Thus Lagrangian is:\n",
    "\n",
    "<font color='blue'>$$\\ell(x,y,z,\\lambda,\\mu) = x^2 + 2x + 2y^2 + 5y + z + \\lambda*[5 - x - y - z] + \\mu*[-2x - z]$$"
   ]
  },
  {
   "cell_type": "markdown",
   "id": "e9f9dca4-f308-4fb1-bb53-d13e0edc356f",
   "metadata": {},
   "source": [
    "<font color='blue'>**Answer to Problem 1 Part 1**</font>\n",
    "\n",
    "<font color='blue'>$$\\ell(x,y,z,\\lambda,\\mu) = x^2 + 2x + 2y^2 + 5y + z + \\lambda*[5 - x - y - z] + \\mu*[-2x - z]$$"
   ]
  },
  {
   "cell_type": "markdown",
   "id": "1034d8b5-96a2-4eac-8611-ef1ca917413c",
   "metadata": {},
   "source": [
    "<font color='blue'>**Start of Problem 1 Part 2**</font>"
   ]
  },
  {
   "cell_type": "markdown",
   "id": "840568da-337d-40e3-ac2c-d246aea4ef15",
   "metadata": {},
   "source": [
    "from slide 88 of Lecture 4:\n",
    "\n",
    "$$\\ell(x,\\lambda,\\mu) = f(x) + \\Sigma_{i=1}^m \\lambda_i*\\omega_i(x) + \\Sigma_{j=1}^p \\mu_j*g_j(x)$$"
   ]
  },
  {
   "cell_type": "markdown",
   "id": "e5489578-2a90-4163-9a03-6d720d9c5abb",
   "metadata": {},
   "source": [
    "Karush Kuhn Tucker (KKT) condition (also listed on same slide):\n",
    "\n",
    "$$\\frac{\\partial\\ell(x,\\lambda,\\mu)}{\\partial x_i} \\equiv \\frac{\\partial f(x)}{\\partial x_i} +  \\Sigma_{i=1}^m \\lambda_i *\\frac{\\partial \\omega_i(x)}{\\partial x_i} + \\Sigma_{j=1}^p \\mu_j* \\frac{\\partial g_j(x)}{\\partial x_i} = 0$$\n",
    "\n",
    "\n",
    "$$\\frac{\\partial\\ell(x,\\lambda,\\mu)}{\\partial \\lambda_k} \\equiv \\omega_k(x) = 0$$\n",
    "\n",
    "$$ g_j(x) \\leq 0$$"
   ]
  },
  {
   "cell_type": "markdown",
   "id": "26f647b5-e713-4063-9dca-7fa51ab8e044",
   "metadata": {},
   "source": [
    "With complementary slackness conditions:\n",
    "\n",
    "$$ \\mu_j g_j(x) = 0 $$\n",
    "$$ \\mu_j \\geq 0 $$"
   ]
  },
  {
   "cell_type": "markdown",
   "id": "d96685a6-6b90-4a7a-9425-05fa3f62b300",
   "metadata": {},
   "source": [
    "Thus KKT condition is as follows:\n",
    "\n",
    "$$\\frac{\\partial\\ell(x,\\lambda,\\mu)}{\\partial x_i} \\equiv \\frac{\\partial [x^2 + 2x + 2y^2 + 5y + z]}{\\partial x_i} +  \\lambda *\\frac{\\partial [5 - x - y - z]}{\\partial x_i} + \\mu* \\frac{\\partial [ -2x - z ]}{\\partial x_i} = 0$$\n",
    "\n",
    "<font color='blue'>$$\\frac{\\partial\\ell(x,\\lambda,\\mu)}{\\partial \\lambda} \\equiv 5 - x - y - z = 0$$\n",
    "\n",
    "<font color='blue'>$$ g_j(x)\\equiv -2x - z \\leq 0$$"
   ]
  },
  {
   "cell_type": "markdown",
   "id": "29dd6b7b-3fd8-4dc2-baee-218a0c2eedfa",
   "metadata": {},
   "source": [
    "With respect to x:\n",
    "\n",
    "$$\\frac{\\partial\\ell(x,\\lambda,\\mu)}{\\partial x} \\equiv \\frac{\\partial [x^2 + 2x + 2y^2 + 5y + z]}{\\partial x} +  \\lambda *\\frac{\\partial [5 - x - y - z]}{\\partial x} + \\mu* \\frac{\\partial [ -2x - z ]}{\\partial x} = 0$$\n",
    "\n",
    "$$\\frac{\\partial\\ell(x,\\lambda,\\mu)}{\\partial x} \\equiv [2x + 2] +  \\lambda *[-1] + \\mu*[ -2] = 0$$\n",
    "\n",
    "<font color='blue'>$$\\frac{\\partial\\ell(x,\\lambda,\\mu)}{\\partial x} \\equiv 2x + 2 - \\lambda - 2 \\mu = 0$$"
   ]
  },
  {
   "cell_type": "markdown",
   "id": "ba0942d6-6bd7-40d3-bf88-34af2e6c1464",
   "metadata": {},
   "source": [
    "With respect to y:\n",
    "\n",
    "$$\\frac{\\partial\\ell(x,\\lambda,\\mu)}{\\partial y} \\equiv \\frac{\\partial [x^2 + 2x + 2y^2 + 5y + z]}{\\partial y} +  \\lambda *\\frac{\\partial [5 - x - y - z]}{\\partial y} + \\mu* \\frac{\\partial [ -2x - z ]}{\\partial y} = 0$$\n",
    "\n",
    "$$\\frac{\\partial\\ell(x,\\lambda,\\mu)}{\\partial y} \\equiv [2*2y + 5] +  \\lambda *[-1] + \\mu* [0] = 0$$\n",
    "\n",
    "<font color='blue'>$$\\frac{\\partial\\ell(x,\\lambda,\\mu)}{\\partial y} \\equiv 4y + 5 - \\lambda = 0$$"
   ]
  },
  {
   "cell_type": "markdown",
   "id": "4dca79a8-23bd-4948-9ed3-7d4705acc83e",
   "metadata": {},
   "source": [
    "With respect to z:\n",
    "\n",
    "$$\\frac{\\partial\\ell(x,\\lambda,\\mu)}{\\partial z} \\equiv \\frac{\\partial [x^2 + 2x + 2y^2 + 5y + z]}{\\partial z} +  \\lambda *\\frac{\\partial [5 - x - y - z]}{\\partial z} + \\mu* \\frac{\\partial [ -2x - z ]}{\\partial z} = 0$$\n",
    "\n",
    "$$\\frac{\\partial\\ell(x,\\lambda,\\mu)}{\\partial z} \\equiv [1] +  \\lambda * [-1]  + \\mu* [-1] = 0$$\n",
    "\n",
    "<font color='blue'>$$\\frac{\\partial\\ell(x,\\lambda,\\mu)}{\\partial z} \\equiv 1 -  \\lambda  - \\mu = 0$$"
   ]
  },
  {
   "cell_type": "markdown",
   "id": "16aa53e3-bb31-477d-b568-44eadf28f65b",
   "metadata": {},
   "source": [
    "Plugging into complementary slackness conditions:\n",
    "\n",
    "$$ \\mu g(x) = \\mu[-2x - z] = 0 $$\n",
    "\n",
    "<font color='blue'>$$ \\mu g(x) = -2x\\mu - z\\mu = 0 $$\n",
    "\n",
    "<font color='blue'>$$ \\mu \\geq 0 $$"
   ]
  },
  {
   "cell_type": "markdown",
   "id": "64d79945-0d71-483d-8252-9ca1ee3d4e28",
   "metadata": {},
   "source": [
    "<font color='blue'>**Answer to Problem 1 Part 2**</font>"
   ]
  },
  {
   "cell_type": "markdown",
   "id": "d8184138-8651-4918-971b-11fc75464c50",
   "metadata": {},
   "source": [
    "<font color='blue'>**In summary, KKT condition is as follows:**\n",
    "\n",
    "<font color='blue'>$$\\frac{\\partial\\ell(x,\\lambda,\\mu)}{\\partial x} \\equiv 2x + 2 - \\lambda - 2 \\mu = 0$$\n",
    "\n",
    "<font color='blue'>$$\\frac{\\partial\\ell(x,\\lambda,\\mu)}{\\partial y} \\equiv 4y + 5 - \\lambda = 0$$\n",
    "\n",
    "<font color='blue'>$$\\frac{\\partial\\ell(x,\\lambda,\\mu)}{\\partial z} \\equiv 1 -  \\lambda  - \\mu = 0$$\n",
    "\n",
    "<font color='blue'>$$\\frac{\\partial\\ell(x,\\lambda,\\mu)}{\\partial \\lambda} \\equiv 5 - x - y - z = 0$$\n",
    "\n",
    "<font color='blue'>$$ g(x)\\equiv -2x - z \\leq 0$$\n",
    "\n",
    "<font color='blue'>**With complementary slackness conditions:**\n",
    "\n",
    "<font color='blue'>$$ \\mu g(x) = -2x\\mu - z\\mu = 0 $$\n",
    "\n",
    "<font color='blue'>$$ \\mu \\geq 0 $$"
   ]
  },
  {
   "cell_type": "markdown",
   "id": "bfc955ac-ed1b-4d41-8678-d0003359edbb",
   "metadata": {},
   "source": [
    "<font color='blue'>**Start of Problem 1 Part 3**</font>"
   ]
  },
  {
   "cell_type": "markdown",
   "id": "69e736f5-abce-4da4-94d2-87230e2f170d",
   "metadata": {},
   "source": [
    "First assume inequality constraint not binding (slide 94):\n",
    "$$ \\mu = 0 $$"
   ]
  },
  {
   "cell_type": "markdown",
   "id": "740a2b04-f991-4744-a5d4-2070695e6ccf",
   "metadata": {},
   "source": [
    "Plugging into eqn wrt x:\n",
    "\n",
    "$$\\frac{\\partial\\ell(x,\\lambda,\\mu)}{\\partial x} \\equiv 2x + 2 - \\lambda - 2 \\mu = 0$$\n",
    "\n",
    "$$\\frac{\\partial\\ell(x,\\lambda,\\mu)}{\\partial x} \\equiv 2x + 2 - \\lambda - 2 [0] = 0$$\n",
    "\n",
    "$$\\frac{\\partial\\ell(x,\\lambda,\\mu)}{\\partial x} \\equiv 2x + 2 - \\lambda = 0$$\n",
    "\n",
    "Plugging into eqn wrt y:\n",
    "$$\\frac{\\partial\\ell(x,\\lambda,\\mu)}{\\partial y} \\equiv 4y + 5 - \\lambda = 0$$\n",
    "\n",
    "Plugging into eqn wrt z:\n",
    "$$\\frac{\\partial\\ell(x,\\lambda,\\mu)}{\\partial z} \\equiv 1 -  \\lambda  - \\mu = 0$$\n",
    "\n",
    "$$\\frac{\\partial\\ell(x,\\lambda,\\mu)}{\\partial z} \\equiv 1 -  \\lambda  - [0] = 0$$\n",
    "\n",
    "$$\\frac{\\partial\\ell(x,\\lambda,\\mu)}{\\partial z} \\equiv 1 -  \\lambda = 0$$"
   ]
  },
  {
   "cell_type": "markdown",
   "id": "f4a853d9-81be-4e70-b068-f764f7f71197",
   "metadata": {},
   "source": [
    "Solving eqn wrt z:\n",
    "\n",
    "$$\\frac{\\partial\\ell(x,\\lambda,\\mu)}{\\partial z} \\equiv 1 -  \\lambda = 0$$\n",
    "\n",
    "$$ 1 -  \\lambda = 0$$\n",
    "\n",
    "$$ \\lambda = 1$$\n",
    "\n",
    "Solving eqn wrt x:\n",
    "\n",
    "$$\\frac{\\partial\\ell(x,\\lambda,\\mu)}{\\partial x} \\equiv 2x + 2 - \\lambda = 0$$\n",
    "\n",
    "$$ 2x + 2 - [1] = 0$$\n",
    "\n",
    "$$ 2x + 1 = 0$$\n",
    "\n",
    "<font color='blue'>$$ x = -0.5$$\n",
    "\n",
    "Solving eqn wrt y:\n",
    "\n",
    "$$\\frac{\\partial\\ell(x,\\lambda,\\mu)}{\\partial y} \\equiv 4y + 5 - \\lambda = 0$$\n",
    "\n",
    "$$ 4y + 5 - [1] = 0$$\n",
    "\n",
    "$$ 4y + 4 = 0$$\n",
    "\n",
    "<font color='blue'>$$ y = -1$$\n",
    "\n",
    "Find z:\n",
    "\n",
    "$$x + y + z = 5$$\n",
    "\n",
    "$$z = 5 - x - y $$\n",
    "\n",
    "$$z = 5 - (-0.5) - (-1)$$\n",
    "\n",
    "<font color='blue'>$$z = 6.5$$"
   ]
  },
  {
   "cell_type": "markdown",
   "id": "675f5056-ea2e-4822-afb2-a636cb6e81a0",
   "metadata": {},
   "source": [
    "Check feasibility:\n",
    "$$  -2x - z \\leq 0 ?$$\n",
    "\n",
    "$$  -2[-0.5] - [6.5] \\leq 0 ?$$\n",
    "\n",
    "$$  1 - [6.5] \\leq 0 ?$$\n",
    "\n",
    "$$  -5.5 \\leq 0 $$\n",
    "\n",
    "Thus, solution is feasible"
   ]
  },
  {
   "cell_type": "markdown",
   "id": "88225559-7ecb-4d01-9ce5-ffb12660a2b4",
   "metadata": {},
   "source": [
    "Find value of objective function for $x = -0.5$, $y= -1$, $z=6.5$:\n",
    "\n",
    "$$x^2 + 2x + 2y^2 + 5y + z$$\n",
    "\n",
    "$$(-0.5)^2 + 2(-0.5) + 2(-1)^2 + 5(-1) + (6.5)$$\n",
    "\n",
    "$$0.25 -1 + 2 -5 + 6.5$$\n",
    "\n",
    "$$0.25 + 1 + 1.5$$\n",
    "\n",
    "<font color='blue'>$$ 2.75$$"
   ]
  },
  {
   "cell_type": "markdown",
   "id": "7131d5ad-efa7-4af4-a1fb-ea305b55181b",
   "metadata": {},
   "source": [
    "<font color='blue'>**Answer to Problem 1 Part 3**</font>\n",
    "\n",
    "<font color='blue'>$x = -0.5$, $y= -1$, $z=6.5$ for objective function value of $2.75$"
   ]
  },
  {
   "cell_type": "code",
   "execution_count": 120,
   "id": "44ec04cd-eb41-4bf3-9c24-e395eff3eb2f",
   "metadata": {},
   "outputs": [],
   "source": [
    "# check with CVXPY:\n",
    "import cvxpy as cp"
   ]
  },
  {
   "cell_type": "code",
   "execution_count": 121,
   "id": "661d3431-0ee3-499b-a8e5-0801c5f4c353",
   "metadata": {},
   "outputs": [],
   "source": [
    "# Define variables\n",
    "x = cp.Variable(nonneg = False)\n",
    "y = cp.Variable(nonneg = False)\n",
    "z = cp.Variable(nonneg = False)"
   ]
  },
  {
   "cell_type": "code",
   "execution_count": 122,
   "id": "4fc2c2f7-2417-4629-a130-4bd533aee89f",
   "metadata": {},
   "outputs": [],
   "source": [
    "# Create objective function\n",
    "obj = cp.Minimize(x**2 + 2*x + 2*y**2 + 5*y + z)"
   ]
  },
  {
   "cell_type": "code",
   "execution_count": 123,
   "id": "8392b6e1-44fb-4a5b-b9c9-b0e73a5a2fc7",
   "metadata": {},
   "outputs": [],
   "source": [
    "con = [];\n",
    "# Define inequality constraints \n",
    "con += [-2*x - z <= 0];\n",
    "# Define equality constraints \n",
    "con += [5 - x - y -z == 0]"
   ]
  },
  {
   "cell_type": "code",
   "execution_count": 124,
   "id": "c4972ff2-56d6-4b0d-8c4b-4dff91d05bdc",
   "metadata": {},
   "outputs": [],
   "source": [
    "# Solve the problem\n",
    "prob = cp.Problem(obj, con)"
   ]
  },
  {
   "cell_type": "code",
   "execution_count": 125,
   "id": "f49ea220-7b82-4938-a0a5-34353371531c",
   "metadata": {},
   "outputs": [
    {
     "name": "stdout",
     "output_type": "stream",
     "text": [
      "===============================================================================\n",
      "                                     CVXPY                                     \n",
      "                                     v1.3.2                                    \n",
      "===============================================================================\n",
      "(CVXPY) Oct 20 06:53:46 PM: Your problem has 3 variables, 2 constraints, and 0 parameters.\n",
      "(CVXPY) Oct 20 06:53:46 PM: It is compliant with the following grammars: DCP, DQCP\n",
      "(CVXPY) Oct 20 06:53:46 PM: (If you need to solve this problem multiple times, but with different data, consider using parameters.)\n",
      "(CVXPY) Oct 20 06:53:46 PM: CVXPY will first compile your problem; then, it will invoke a numerical solver to obtain a solution.\n",
      "-------------------------------------------------------------------------------\n",
      "                                  Compilation                                  \n",
      "-------------------------------------------------------------------------------\n",
      "(CVXPY) Oct 20 06:53:46 PM: Compiling problem (target solver=OSQP).\n",
      "(CVXPY) Oct 20 06:53:46 PM: Reduction chain: CvxAttr2Constr -> Qp2SymbolicQp -> QpMatrixStuffing -> OSQP\n",
      "(CVXPY) Oct 20 06:53:46 PM: Applying reduction CvxAttr2Constr\n",
      "(CVXPY) Oct 20 06:53:46 PM: Applying reduction Qp2SymbolicQp\n",
      "(CVXPY) Oct 20 06:53:46 PM: Applying reduction QpMatrixStuffing\n",
      "(CVXPY) Oct 20 06:53:46 PM: Applying reduction OSQP\n",
      "(CVXPY) Oct 20 06:53:46 PM: Finished problem compilation (took 1.547e-02 seconds).\n",
      "-------------------------------------------------------------------------------\n",
      "                                Numerical solver                               \n",
      "-------------------------------------------------------------------------------\n",
      "(CVXPY) Oct 20 06:53:46 PM: Invoking solver OSQP  to obtain a solution.\n",
      "-----------------------------------------------------------------\n",
      "           OSQP v0.6.3  -  Operator Splitting QP Solver\n",
      "              (c) Bartolomeo Stellato,  Goran Banjac\n",
      "        University of Oxford  -  Stanford University 2021\n",
      "-----------------------------------------------------------------\n",
      "problem:  variables n = 3, constraints m = 2\n",
      "          nnz(P) + nnz(A) = 7\n",
      "settings: linear system solver = qdldl,\n",
      "          eps_abs = 1.0e-05, eps_rel = 1.0e-05,\n",
      "          eps_prim_inf = 1.0e-04, eps_dual_inf = 1.0e-04,\n",
      "          rho = 1.00e-01 (adaptive),\n",
      "          sigma = 1.00e-06, alpha = 1.60, max_iter = 10000\n",
      "          check_termination: on (interval 25),\n",
      "          scaling: on, scaled_termination: off\n",
      "          warm start: on, polish: on, time_limit: off\n",
      "\n",
      "iter   objective    pri res    dua res    rho        time\n",
      "   1  -1.4833e+00   5.00e+00   2.50e+03   1.00e-01   2.73e-05s\n",
      "  50   2.7500e+00   7.61e-09   3.37e-08   1.00e-01   1.10e-04s\n",
      "plsh   2.7500e+00   0.00e+00   1.57e-15   --------   2.29e-04s\n",
      "\n",
      "status:               solved\n",
      "solution polish:      successful\n",
      "number of iterations: 50\n",
      "optimal objective:    2.7500\n",
      "run time:             2.29e-04s\n",
      "optimal rho estimate: 4.75e-02\n",
      "\n",
      "-------------------------------------------------------------------------------\n",
      "                                    Summary                                    \n",
      "-------------------------------------------------------------------------------\n",
      "(CVXPY) Oct 20 06:53:46 PM: Problem status: optimal\n",
      "(CVXPY) Oct 20 06:53:46 PM: Optimal value: 2.750e+00\n",
      "(CVXPY) Oct 20 06:53:46 PM: Compilation took 1.547e-02 seconds\n",
      "(CVXPY) Oct 20 06:53:46 PM: Solver (including time spent in interface) took 1.114e-03 seconds\n"
     ]
    },
    {
     "data": {
      "text/plain": [
       "2.7500000000000004"
      ]
     },
     "execution_count": 125,
     "metadata": {},
     "output_type": "execute_result"
    }
   ],
   "source": [
    "# call solver to solve the problem\n",
    "prob.solve(verbose = True) # You may specify the solver here, \n",
    "                           # otherwise ECOS is used for LPs by default"
   ]
  },
  {
   "cell_type": "code",
   "execution_count": 126,
   "id": "8ce5127d-027b-428f-9e16-1c970433e60d",
   "metadata": {},
   "outputs": [
    {
     "data": {
      "text/plain": [
       "'optimal'"
      ]
     },
     "execution_count": 126,
     "metadata": {},
     "output_type": "execute_result"
    }
   ],
   "source": [
    "prob.status"
   ]
  },
  {
   "cell_type": "code",
   "execution_count": 127,
   "id": "40b16766-9b96-40f9-a144-43108730b298",
   "metadata": {},
   "outputs": [
    {
     "name": "stdout",
     "output_type": "stream",
     "text": [
      "\u001b[94mOptimal value:  2.75\u001b[0m\n",
      "\u001b[94mOptimal variables:  x=-0.5, y=-1.0, z=6.5\u001b[0m\n"
     ]
    }
   ],
   "source": [
    "#print optimal value and variables\n",
    "print('\\033[94mOptimal value: ', f'{prob.value:.8}' +'\\033[0m')\n",
    "print('\\033[94mOptimal variables: ', f'x={x.value:.5}, y={y.value:.5}, z={z.value:.5}'+'\\033[0m')"
   ]
  },
  {
   "cell_type": "markdown",
   "id": "c3e39bc4-c023-46db-aa4a-dbb9eb7839b3",
   "metadata": {},
   "source": [
    "### Problem 2 Economic dispatch using CVXPY (20)\n",
    "\n",
    "A utility company has three generators with the following cost functions (unit in \\\\$/h):\n",
    "$$\n",
    "\\begin{align}\n",
    "C_1(x_1) &= 0.01 x_1^2 + 20 x_1 + 100 \\\\\n",
    "C_2(x_2) &= 0.02 x_2^2 + 25 x_2 + 200 \\\\\n",
    "C_3(x_3) &= 0.03 x_3^2 + 30 x_3 + 300 \n",
    "\\end{align}\n",
    "$$\n",
    "\n",
    "And the minimum and maximum generator capacity are listed below:\n",
    "<style type=\"text/css\">\n",
    ".tg  {border-collapse:collapse;border-spacing:0;}\n",
    ".tg td{border-color:black;border-style:solid;border-width:1px;font-family:Arial, sans-serif;font-size:14px;\n",
    "  overflow:hidden;padding:10px 5px;word-break:normal;}\n",
    ".tg th{border-color:black;border-style:solid;border-width:1px;font-family:Arial, sans-serif;font-size:14px;\n",
    "  font-weight:normal;overflow:hidden;padding:10px 5px;word-break:normal;}\n",
    ".tg .tg-0pky{border-color:inherit;text-align:left;vertical-align:top}\n",
    "</style>\n",
    "<table class=\"tg\">\n",
    "<thead>\n",
    "  <tr>\n",
    "    <th class=\"tg-0pky\"> </th>\n",
    "    <th class=\"tg-0pky\">Gen Min (MW) </th>\n",
    "    <th class=\"tg-0pky\">Gem Max (MW)</th>\n",
    "  </tr>\n",
    "</thead>\n",
    "<tbody>\n",
    "  <tr>\n",
    "    <td class=\"tg-0pky\">Generator 1</td>\n",
    "    <td class=\"tg-0pky\">100</td>\n",
    "    <td class=\"tg-0pky\">500</td>\n",
    "  </tr>\n",
    "  <tr>\n",
    "    <td class=\"tg-0pky\">Generator 2</td>\n",
    "    <td class=\"tg-0pky\">50</td>\n",
    "    <td class=\"tg-0pky\">300</td>\n",
    "  </tr>\n",
    "  <tr>\n",
    "    <td class=\"tg-0pky\">Generator 3</td>\n",
    "    <td class=\"tg-0pky\">0</td>\n",
    "    <td class=\"tg-0pky\">100</td>\n",
    "  </tr>\n",
    "</tbody>\n",
    "</table>\n"
   ]
  },
  {
   "cell_type": "markdown",
   "id": "68bc56b5-9bf3-4909-8b88-eb40ddea737e",
   "metadata": {},
   "source": [
    "We now practice to solve the optimization using CVXPY. Before we start, load the CVXPY package"
   ]
  },
  {
   "cell_type": "code",
   "execution_count": 83,
   "id": "51422d0b-2313-49c1-b5f1-8d538153f4ef",
   "metadata": {},
   "outputs": [],
   "source": [
    "import cvxpy as cp"
   ]
  },
  {
   "cell_type": "markdown",
   "id": "dfdbe7c4-000b-4cfa-81f8-3e35b1e8967f",
   "metadata": {},
   "source": [
    "First, we need to define variables:"
   ]
  },
  {
   "cell_type": "code",
   "execution_count": 84,
   "id": "172795d7-1fd2-4b29-999a-60066b146cfa",
   "metadata": {},
   "outputs": [],
   "source": [
    "# Define x1 as a variable\n",
    "x1 = cp.Variable(nonneg = True)"
   ]
  },
  {
   "cell_type": "markdown",
   "id": "47858df2-158b-47d9-a37c-ef2722ba6a52",
   "metadata": {},
   "source": [
    "It defines `x1` as a variable under the CVXPY class - `cp.Variable`. Since most of the time we will be dealing with nonnegative variables, it is convenient to simply enforce variables to be positive only with `(nonneg = True)`. \n",
    "\n",
    "1. Now define variables for generator 2 and 3 (5)"
   ]
  },
  {
   "cell_type": "code",
   "execution_count": 85,
   "id": "c8e18908-47be-4bc8-adf6-55bb5d368548",
   "metadata": {},
   "outputs": [],
   "source": [
    "# Define x2 as a variable\n",
    "x2 = cp.Variable(nonneg = True)\n",
    "# Define x3 as a variable\n",
    "x3 = cp.Variable(nonneg = True)"
   ]
  },
  {
   "cell_type": "markdown",
   "id": "e49b5a47-0930-4c7b-81eb-34ab266ab084",
   "metadata": {},
   "source": [
    "Next, define the objective function as a minimization problem, note that the first generator is already given.\n",
    "\n",
    "2. Please fill in the rest two generators into the objective function (5)"
   ]
  },
  {
   "cell_type": "code",
   "execution_count": 95,
   "id": "fc09d851-e06d-4fac-ab54-ae855b71051b",
   "metadata": {},
   "outputs": [],
   "source": [
    "# Fill in cost function for generator two and three\n",
    "obj = cp.Minimize(\n",
    "    0.01*cp.square(x1) + 20 * x1 + 100 + \n",
    "    0.02*cp.square(x2) + 25*x2 + 200 +\n",
    "    0.03*cp.square(x3) + 30*x3 + 300 \n",
    "                 )"
   ]
  },
  {
   "cell_type": "markdown",
   "id": "352b1d95-461f-494f-95ea-8aed5319ea3e",
   "metadata": {},
   "source": [
    "Now define inequality constraints"
   ]
  },
  {
   "cell_type": "code",
   "execution_count": 108,
   "id": "44cde64f-6577-4d48-9f99-72f5f6800044",
   "metadata": {},
   "outputs": [],
   "source": [
    "con = [];\n",
    "con += [x1 >= 100];\n",
    "con += [x1 <= 500];"
   ]
  },
  {
   "cell_type": "markdown",
   "id": "787b393f-bd02-4f52-a7ee-8f0ef958c551",
   "metadata": {},
   "source": [
    "3. Define inequality constraints for generator 2 and 3 (5)"
   ]
  },
  {
   "cell_type": "code",
   "execution_count": 109,
   "id": "1be62783-e578-4d7a-bc60-5d175296d8dc",
   "metadata": {},
   "outputs": [],
   "source": [
    "# Define constraints for generator 2\n",
    "con += [x2 >= 50];\n",
    "con += [x2 <= 300];\n",
    "# Define constraints for generator 3\n",
    "con += [x3 >= 0];\n",
    "con += [x3 <= 100];"
   ]
  },
  {
   "cell_type": "markdown",
   "id": "d03cd230-2ac5-4225-9942-90c5e9a51447",
   "metadata": {},
   "source": [
    "Finally, add the last constraint which enforces the sum of generatoin equals to the demand which is 500 MW. Note that all equality constraints must be defined using `==` instead of `=`.\n",
    "\n",
    "4. Define the demand balance constraint (5)"
   ]
  },
  {
   "cell_type": "code",
   "execution_count": 110,
   "id": "d39d5b52-dbd8-47ab-b7b2-19a8f1db3855",
   "metadata": {},
   "outputs": [],
   "source": [
    "# Define the demand balance constraint\n",
    "con += [500 - x1 - x2 - x3 == 0]"
   ]
  },
  {
   "cell_type": "markdown",
   "id": "143bc3b7-e6a1-462c-a48d-92cbdd796030",
   "metadata": {},
   "source": [
    "So far we have defined the objective `obj` and the constraint set `con`. Now we assemble them together into a **Problem** with name `prob1`"
   ]
  },
  {
   "cell_type": "code",
   "execution_count": 111,
   "id": "b888375e-6790-4f3f-9002-2cb38ec2052e",
   "metadata": {},
   "outputs": [],
   "source": [
    "# Solve the problem\n",
    "prob1 = cp.Problem(obj, con)"
   ]
  },
  {
   "cell_type": "markdown",
   "id": "212d1aa0-da98-46e9-81eb-8b15bd19d16a",
   "metadata": {},
   "source": [
    "Note we call a solver to solve `prob1` for us"
   ]
  },
  {
   "cell_type": "code",
   "execution_count": 112,
   "id": "7d4c1121-2edf-4138-ad29-be8712c8ab78",
   "metadata": {},
   "outputs": [
    {
     "name": "stdout",
     "output_type": "stream",
     "text": [
      "===============================================================================\n",
      "                                     CVXPY                                     \n",
      "                                     v1.3.2                                    \n",
      "===============================================================================\n",
      "(CVXPY) Oct 20 06:52:59 PM: Your problem has 3 variables, 7 constraints, and 0 parameters.\n",
      "(CVXPY) Oct 20 06:52:59 PM: It is compliant with the following grammars: DCP, DQCP\n",
      "(CVXPY) Oct 20 06:52:59 PM: (If you need to solve this problem multiple times, but with different data, consider using parameters.)\n",
      "(CVXPY) Oct 20 06:52:59 PM: CVXPY will first compile your problem; then, it will invoke a numerical solver to obtain a solution.\n",
      "-------------------------------------------------------------------------------\n",
      "                                  Compilation                                  \n",
      "-------------------------------------------------------------------------------\n",
      "(CVXPY) Oct 20 06:52:59 PM: Compiling problem (target solver=OSQP).\n",
      "(CVXPY) Oct 20 06:52:59 PM: Reduction chain: CvxAttr2Constr -> Qp2SymbolicQp -> QpMatrixStuffing -> OSQP\n",
      "(CVXPY) Oct 20 06:52:59 PM: Applying reduction CvxAttr2Constr\n",
      "(CVXPY) Oct 20 06:52:59 PM: Applying reduction Qp2SymbolicQp\n",
      "(CVXPY) Oct 20 06:52:59 PM: Applying reduction QpMatrixStuffing\n",
      "(CVXPY) Oct 20 06:52:59 PM: Applying reduction OSQP\n",
      "(CVXPY) Oct 20 06:52:59 PM: Finished problem compilation (took 1.802e-02 seconds).\n",
      "-------------------------------------------------------------------------------\n",
      "                                Numerical solver                               \n",
      "-------------------------------------------------------------------------------\n",
      "(CVXPY) Oct 20 06:52:59 PM: Invoking solver OSQP  to obtain a solution.\n",
      "-----------------------------------------------------------------\n",
      "           OSQP v0.6.3  -  Operator Splitting QP Solver\n",
      "              (c) Bartolomeo Stellato,  Goran Banjac\n",
      "        University of Oxford  -  Stanford University 2021\n",
      "-----------------------------------------------------------------\n",
      "problem:  variables n = 3, constraints m = 10\n",
      "          nnz(P) + nnz(A) = 15\n",
      "settings: linear system solver = qdldl,\n",
      "          eps_abs = 1.0e-05, eps_rel = 1.0e-05,\n",
      "          eps_prim_inf = 1.0e-04, eps_dual_inf = 1.0e-04,\n",
      "          rho = 1.00e-01 (adaptive),\n",
      "          sigma = 1.00e-06, alpha = 1.60, max_iter = 10000\n",
      "          check_termination: on (interval 25),\n",
      "          scaling: on, scaled_termination: off\n",
      "          warm start: on, polish: on, time_limit: off\n",
      "\n",
      "iter   objective    pri res    dua res    rho        time\n",
      "   1  -9.1509e+00   5.00e+02   1.50e+06   1.00e-01   3.29e-05s\n",
      "  75   1.2292e+04   4.03e-05   1.88e-07   2.86e-04   1.47e-04s\n",
      "plsh   1.2292e+04   2.77e-17   5.40e-12   --------   2.98e-04s\n",
      "\n",
      "status:               solved\n",
      "solution polish:      successful\n",
      "number of iterations: 75\n",
      "optimal objective:    12291.6667\n",
      "run time:             2.98e-04s\n",
      "optimal rho estimate: 1.03e-03\n",
      "\n",
      "-------------------------------------------------------------------------------\n",
      "                                    Summary                                    \n",
      "-------------------------------------------------------------------------------\n",
      "(CVXPY) Oct 20 06:52:59 PM: Problem status: optimal\n",
      "(CVXPY) Oct 20 06:52:59 PM: Optimal value: 1.289e+04\n",
      "(CVXPY) Oct 20 06:52:59 PM: Compilation took 1.802e-02 seconds\n",
      "(CVXPY) Oct 20 06:52:59 PM: Solver (including time spent in interface) took 1.097e-03 seconds\n"
     ]
    },
    {
     "data": {
      "text/plain": [
       "12891.666666666666"
      ]
     },
     "execution_count": 112,
     "metadata": {},
     "output_type": "execute_result"
    }
   ],
   "source": [
    "# call solver to solve the problem\n",
    "prob1.solve(verbose = True) # You may specify the solver here, \n",
    "                           # otherwise ECOS is used for LPs by default"
   ]
  },
  {
   "cell_type": "markdown",
   "id": "9b60e0b2-5a2f-456a-889c-7cf95cfafb44",
   "metadata": {},
   "source": [
    "Now all solutions and status are updated into `prob1`. "
   ]
  },
  {
   "cell_type": "markdown",
   "id": "530eca0c-a839-4122-a3f3-a663b73993e0",
   "metadata": {},
   "source": [
    "Use `prob1.status` to check the optimality"
   ]
  },
  {
   "cell_type": "code",
   "execution_count": 113,
   "id": "48c0ad70-eb42-4266-9664-ed4419aed349",
   "metadata": {},
   "outputs": [
    {
     "data": {
      "text/plain": [
       "'optimal'"
      ]
     },
     "execution_count": 113,
     "metadata": {},
     "output_type": "execute_result"
    }
   ],
   "source": [
    "prob1.status"
   ]
  },
  {
   "cell_type": "markdown",
   "id": "f8fa35c5-55e9-48f9-b143-1ebd1dbcd281",
   "metadata": {},
   "source": [
    "Optimized objective value is stored in `prob1.value`, optimized variables are stored in `x1.value`, and the Lagrange multiplier/dual value results are stored in the field `con[0].dual_value` \n",
    "\n",
    "**Note:**"
   ]
  },
  {
   "cell_type": "markdown",
   "id": "af28dc4a-bbf8-4ea4-b7e5-c3bf329d23c6",
   "metadata": {},
   "source": [
    "Now we can use `print` to print out results with a nice look"
   ]
  },
  {
   "cell_type": "code",
   "execution_count": 114,
   "id": "0f9ed7df",
   "metadata": {},
   "outputs": [
    {
     "name": "stdout",
     "output_type": "stream",
     "text": [
      "\u001b[94mOptimal value:  12891.667\u001b[0m\n",
      "\u001b[94mOptimal variables:  x1=416.67, x2=83.333, x3=0.0\u001b[0m\n",
      "\u001b[94mPrice:  28.3\u001b[0m\n"
     ]
    }
   ],
   "source": [
    "#print optimal value and variables\n",
    "print('\\033[94mOptimal value: ', f'{prob1.value:.8}' +'\\033[0m')\n",
    "print('\\033[94mOptimal variables: ', f'x1={x1.value:.5}, x2={x2.value:.5}, x3={x3.value:.5}'+'\\033[0m')\n",
    "print('\\033[94mPrice: ', f'{con[6].dual_value:.3}'+'\\033[0m')"
   ]
  },
  {
   "cell_type": "markdown",
   "id": "e9a75fd8-4e2f-4c72-bb17-d7bdb6469985",
   "metadata": {},
   "source": [
    "<font color='blue'>**Answer to Problem 2**</font>"
   ]
  },
  {
   "cell_type": "markdown",
   "id": "b6284a7f-9e69-4d38-b0e0-3204df07bd1a",
   "metadata": {},
   "source": [
    "<font color='blue'>Optimal value:  12,892\n",
    "\n",
    "<font color='blue'>Optimal variables:  x1=417, x2=83, x3=0 so generator 1 at 417 MW, generator 2 at 83 MW, and generator 3 not running\n",
    "\n",
    "<font color='blue'>Price:  28.3"
   ]
  },
  {
   "cell_type": "markdown",
   "id": "b8401328-4079-4b12-b436-d42282c75cd8",
   "metadata": {},
   "source": [
    "### Problem 3 Piece-wise linear cost function (50)\n",
    "\n",
    "A utility operates two generators with the following piece-wise linear cost curves:\n",
    "\n",
    "**Generator 1:** The minimal generation is 50 MW and maximum is 200 MW.\n",
    "* 0 MW to 100 MW: 25 \\\\$/MWh\n",
    "* 100 MW to 150 MW: 27 \\\\$/MWh\n",
    "* 150 MW to 200 MW: 30 \\\\$/MWh\n",
    "\n",
    "\n",
    "**Generator 2:** The minimal generation is 30 MW and maximum is 100 MW. \n",
    "* 0 MW to 50 MW: 23 \\\\$/MWh\n",
    "* 50 MW to 80 MW: 25 \\\\$/MWh\n",
    "* 80 MW to 100 MW: 28 \\\\$/MWh\n",
    "\n",
    "\n",
    "The demand to be served is 185 MW.\n",
    "\n",
    "\n",
    "1) Formulate the problem into a linear proramming. Use Latex to write out your solution (refer to Problem 1 Markdown format), explain your variable definition and constraints, **do not** write code for this question. **Hint:** You should define a different variable for each segment. (20)\n",
    "\n",
    "2) Use CVXPY to solve this problem. (20)\n",
    "\n",
    "3) Do we need to model the segment transition logic in this case (i.e., enforce a upper segment to be zero if the lower segment is not \"full\" ), why? (10)"
   ]
  },
  {
   "cell_type": "markdown",
   "id": "69741925-a3b4-4e4d-b99d-b1e29cd98182",
   "metadata": {},
   "source": [
    "<font color='blue'>**Start of Problem 3 Part 1**</font>"
   ]
  },
  {
   "cell_type": "markdown",
   "id": "598d11cf-4ec2-4a41-b842-3617f01543c6",
   "metadata": {},
   "source": [
    "<font color='blue'>**Define variables for generator 1 $p_{1}$, different variables per segment:**\n",
    "\n",
    "$p_{11}$ for 0 MW to 100 MW segment\n",
    "\n",
    "HOWEVER note minimum generation is 50 MW, thus\n",
    "\n",
    "<font color='blue'>$p_{11}$ for 50 MW to 100 MW segment\n",
    "\n",
    "<font color='blue'>$p_{12}$  for 100 MW to 150 MW segment (0 to 50 \"units\")\n",
    "\n",
    "<font color='blue'>$p_{13}$  for 150 MW to 200 MW segment (0 to 50 \"units\")\n",
    "\n",
    "Thus associated constaints, in UNIT form/subtract out max generation from previous segment:\n",
    "\n",
    "<font color='blue'>$p_{11} \\geq 50 $\n",
    "\n",
    "<font color='blue'>$p_{11} \\leq 100 $\n",
    "\n",
    "<font color='blue'>$p_{12} \\geq 0 $\n",
    "\n",
    "<font color='blue'>$p_{12} \\leq 50 $\n",
    "\n",
    "<font color='blue'>$p_{13} \\geq 0 $\n",
    "\n",
    "<font color='blue'>$p_{13}  \\leq 50$\n",
    "\n",
    "With associated costs:\n",
    "\n",
    "<font color='blue'>$c_{11} = 25 \\$/MWh$\n",
    "\n",
    "<font color='blue'>$c_{12} = 27 \\$/MWh$\n",
    "\n",
    "<font color='blue'>$c_{13} = 30 \\$/MWh$"
   ]
  },
  {
   "cell_type": "markdown",
   "id": "a673fa9d-a04e-4b9a-8f81-74b52e51c7cd",
   "metadata": {},
   "source": [
    "<font color='blue'>**For generator 2 $p_{2}$, different variables per segment:**\n",
    "\n",
    "$p_{21}$ for 0 MW to 50 MW segment\n",
    "\n",
    "HOWEVER note minimum generation is 30 MW, thus\n",
    "\n",
    "<font color='blue'>$p_{21}$ for 30 MW to 50 MW segment\n",
    "\n",
    "<font color='blue'>$p_{22}$  for 50 MW to 80 MW segment (0 to 30 \"units\")\n",
    "\n",
    "<font color='blue'>$p_{23}$  for 80 MW to 100 MW segment (0 to 20 \"units\")\n",
    "\n",
    "Thus associated constaints, in UNIT form/subtract out max generation from previous segment:\n",
    "\n",
    "<font color='blue'>$p_{21} \\geq 30 $\n",
    "\n",
    "<font color='blue'>$p_{21} \\leq 50 $\n",
    "\n",
    "<font color='blue'>$p_{22} \\geq 0 $\n",
    "\n",
    "<font color='blue'>$p_{22} \\leq 30 $\n",
    "\n",
    "<font color='blue'>$p_{23} \\geq 0 $\n",
    "\n",
    "<font color='blue'>$p_{23}  \\leq 20 $\n",
    "\n",
    "With associated costs:\n",
    "\n",
    "<font color='blue'>$c_{21} = 23 \\$/MWh$\n",
    "\n",
    "<font color='blue'>$c_{22} = 25 \\$/MWh$\n",
    "\n",
    "<font color='blue'>$c_{23} = 28 \\$/MWh$"
   ]
  },
  {
   "cell_type": "markdown",
   "id": "a038482a-f4a0-4eae-b833-a661c960245b",
   "metadata": {},
   "source": [
    "Total demand constraint:\n",
    "\n",
    "<font color='blue'>$ p_{11} + p_{12} + p_{13} + p_{21} + p_{22} + p_{23} = 185 MW $\n",
    "\n",
    "Or rearranged:\n",
    "\n",
    "<font color='blue'>$ 185 - p_{11} - p_{12} - p_{13} - p_{21} - p_{22} - p_{23} = 0 $"
   ]
  },
  {
   "cell_type": "markdown",
   "id": "48cc4884-47d1-4435-ba04-b239813d1d34",
   "metadata": {},
   "source": [
    "<font color='blue'>**Thus objective function to be minimized is:**\n",
    "$$ 25p_{11} + 27p_{12} + 30p_{13} + 23p_{21} + 25p_{22} + 28p_{23} $$"
   ]
  },
  {
   "cell_type": "markdown",
   "id": "082d3b7b-a2a3-476d-a45c-3ea80e9fa67a",
   "metadata": {},
   "source": [
    "<font color='blue'>**Answer to Problem 3 Part 1: (Summarized from above)**\n",
    "\n",
    "<font color='blue'>**Objective function to be minimized is:**\n",
    "<font color='blue'>$$ 25p_{11} + 27p_{12} + 30p_{13} + 23p_{21} + 25p_{22} + 28p_{23} $$\n",
    "\n",
    "<font color='blue'>**Subject to constraints:**\n",
    "\n",
    "<font color='blue'>$ 185 - p_{11} - p_{12} - p_{13} - p_{21} - p_{22} - p_{23} = 0 $\n",
    "\n",
    "<font color='blue'>$p_{11} \\geq 50 $\n",
    "\n",
    "<font color='blue'>$p_{11} \\leq 100 $\n",
    "\n",
    "<font color='blue'>$p_{12} \\geq 0 $\n",
    "\n",
    "<font color='blue'>$p_{12} \\leq 50 $\n",
    "\n",
    "<font color='blue'>$p_{13} \\geq 0 $\n",
    "\n",
    "<font color='blue'>$p_{13}  \\leq 50$\n",
    "\n",
    "<font color='blue'>$p_{21} \\geq 30 $\n",
    "\n",
    "<font color='blue'>$p_{21} \\leq 50 $\n",
    "\n",
    "<font color='blue'>$p_{22} \\geq 0 $\n",
    "\n",
    "<font color='blue'>$p_{22} \\leq 30 $\n",
    "\n",
    "<font color='blue'>$p_{23} \\geq 0 $\n",
    "\n",
    "<font color='blue'>$p_{23}  \\leq 20 $"
   ]
  },
  {
   "cell_type": "markdown",
   "id": "dd24cdc9-c675-4c7c-9872-604d35e2e33d",
   "metadata": {},
   "source": [
    "<font color='blue'>**Start of Problem 3 Part 2**</font>"
   ]
  },
  {
   "cell_type": "code",
   "execution_count": 163,
   "id": "a3ee298a-37c6-45b6-a0d6-7182e87ed545",
   "metadata": {},
   "outputs": [],
   "source": [
    "# Define variables\n",
    "p11 = cp.Variable(nonneg = True) #because won't have negative generation, not physically possible\n",
    "p12 = cp.Variable(nonneg = True)\n",
    "p13 = cp.Variable(nonneg = True)\n",
    "p21 = cp.Variable(nonneg = True)\n",
    "p22 = cp.Variable(nonneg = True)\n",
    "p23 = cp.Variable(nonneg = True)"
   ]
  },
  {
   "cell_type": "code",
   "execution_count": 164,
   "id": "80706b20-4087-4933-870b-85f1316c5883",
   "metadata": {},
   "outputs": [],
   "source": [
    "# Create objective function\n",
    "obj3 = cp.Minimize(25*p11 + 27*p12 + 30*p13 + 23*p21 + 25*p22 + 28*p23)"
   ]
  },
  {
   "cell_type": "code",
   "execution_count": 165,
   "id": "a1a2d791-3372-43cb-8896-5acd26f61b63",
   "metadata": {},
   "outputs": [],
   "source": [
    "con3 = [];\n",
    "\n",
    "# Define constraints for generator 1\n",
    "con3 += [p11 >= 50];\n",
    "con3 += [p11 <= 100];\n",
    "con3 += [p12 >= 0];\n",
    "con3 += [p12 <= 50];\n",
    "con3 += [p13 >= 0];\n",
    "con3 += [p13 <= 50];\n",
    "# Define constraints for generator 2\n",
    "con3 += [p21 >= 30];\n",
    "con3 += [p21 <= 50];\n",
    "con3 += [p22 >= 0];\n",
    "con3 += [p22 <= 30];\n",
    "con3 += [p23 >= 0];\n",
    "con3 += [p23 <= 20];\n",
    "# Define demand balance constraint\n",
    "con3 += [185 - p11 - p12 - p13 - p21 - p22 - p23 == 0]"
   ]
  },
  {
   "cell_type": "code",
   "execution_count": 166,
   "id": "6119395a-2e90-4796-aa98-b1ce3cd1c2e2",
   "metadata": {},
   "outputs": [],
   "source": [
    "# Solve the problem\n",
    "prob3 = cp.Problem(obj3, con3)"
   ]
  },
  {
   "cell_type": "code",
   "execution_count": 167,
   "id": "8d4588c6-e9fd-4d1c-8feb-31e5b3e749f3",
   "metadata": {},
   "outputs": [
    {
     "data": {
      "text/plain": [
       "4535.000000478926"
      ]
     },
     "execution_count": 167,
     "metadata": {},
     "output_type": "execute_result"
    }
   ],
   "source": [
    "# call solver to solve the problem\n",
    "prob3.solve() # You may specify the solver here, \n",
    "                           # otherwise ECOS is used for LPs by default"
   ]
  },
  {
   "cell_type": "code",
   "execution_count": 168,
   "id": "b212ab86-2f81-4cba-83b8-801349f29be9",
   "metadata": {},
   "outputs": [
    {
     "data": {
      "text/plain": [
       "'optimal'"
      ]
     },
     "execution_count": 168,
     "metadata": {},
     "output_type": "execute_result"
    }
   ],
   "source": [
    "prob3.status"
   ]
  },
  {
   "cell_type": "code",
   "execution_count": 176,
   "id": "2292fb69-138e-428e-bb8c-d138d08d0064",
   "metadata": {},
   "outputs": [
    {
     "name": "stdout",
     "output_type": "stream",
     "text": [
      "\u001b[94mOptimal value:  4535.0\u001b[0m\n",
      "\u001b[94mOptimal variables:  p11=100.0, p12=5.0, p13=3.8448e-08,p21=50.0,p22=30.0,p23=2.1812e-07\u001b[0m\n",
      "\u001b[94mPrice:  27.0\u001b[0m\n"
     ]
    }
   ],
   "source": [
    "#print optimal value and variables\n",
    "print('\\033[94mOptimal value: ', f'{prob3.value:.8}' +'\\033[0m')\n",
    "print('\\033[94mOptimal variables: ', f'p11={p11.value:.5}, p12={p12.value:.5}, p13={p13.value:.5},p21={p21.value:.5},p22={p22.value:.5},p23={p23.value:.5}'+'\\033[0m')\n",
    "print('\\033[94mPrice: ', f'{con3[-1].dual_value:.3}'+'\\033[0m')"
   ]
  },
  {
   "cell_type": "code",
   "execution_count": 173,
   "id": "adcd88e5-09a4-4bae-8fd7-f1bd1425bee2",
   "metadata": {},
   "outputs": [
    {
     "data": {
      "text/plain": [
       "184.99999999999997"
      ]
     },
     "execution_count": 173,
     "metadata": {},
     "output_type": "execute_result"
    }
   ],
   "source": [
    "#Check: \n",
    "p11.value + p12.value + p13.value + p21.value + p22.value + p23.value"
   ]
  },
  {
   "cell_type": "code",
   "execution_count": 174,
   "id": "c6f620ad-74e2-43e5-90f1-e87eced51acc",
   "metadata": {},
   "outputs": [
    {
     "data": {
      "text/plain": [
       "104.99999980940304"
      ]
     },
     "execution_count": 174,
     "metadata": {},
     "output_type": "execute_result"
    }
   ],
   "source": [
    "#Thus, generator 1 will run:\n",
    "p11.value + p12.value + p13.value "
   ]
  },
  {
   "cell_type": "code",
   "execution_count": 175,
   "id": "f7115789-b03a-4c8a-a954-3d208790bf94",
   "metadata": {},
   "outputs": [
    {
     "data": {
      "text/plain": [
       "80.00000019059692"
      ]
     },
     "execution_count": 175,
     "metadata": {},
     "output_type": "execute_result"
    }
   ],
   "source": [
    "#Thus, generator 2 will run:\n",
    "p21.value + p22.value + p23.value"
   ]
  },
  {
   "cell_type": "markdown",
   "id": "def05eda-53fb-4781-a663-a01be272dbfa",
   "metadata": {},
   "source": [
    "<font color='blue'>**Answer to Problem 2 Part 2**</font>"
   ]
  },
  {
   "cell_type": "markdown",
   "id": "86d756a6-2e88-4fbf-acf6-ac880ab48a88",
   "metadata": {},
   "source": [
    "<font color='blue'>**Generator 1 would total $105 MW$, generator 2 would total $80 MW$. Price would be $\\$27/MWh$, which makes sense as we'd get into the second segment of generator 1 ($\\$27/MWh$) and the second segment of generator 2 ($\\$25/MWh$) thus generator 1 would set the price. Breakdown of values by segment printed above and summarized below.**\n",
    "\n",
    "<font color='blue'>p11=100.0\n",
    "\n",
    "<font color='blue'>p12=5.0\n",
    "\n",
    "<font color='blue'>p13=0\n",
    "\n",
    "<font color='blue'>p21=50.0\n",
    "\n",
    "<font color='blue'>p22=30.0\n",
    "\n",
    "<font color='blue'>p23=0"
   ]
  },
  {
   "cell_type": "markdown",
   "id": "169f16b5-9cd8-4f03-bfb5-da7dbb7f1c84",
   "metadata": {},
   "source": [
    "<font color='blue'>**Answer to Problem 2 Part 3**</font>"
   ]
  },
  {
   "cell_type": "markdown",
   "id": "82c8147b-084c-43b8-8c0d-8a0251e6352f",
   "metadata": {},
   "source": [
    "<font color='blue'>No, we don't need to model the segment transition logic in this case. Since we subtracted the generation of the previous segments from the later ones, this is already accounted for. This works because each segment has increasing cost, so the objective function will naturally minimize the later segments in favor of using the maximum possible from the earlier segments. If we hadn't defined the segment constraints in terms of \"units\" as opposed to cumulative generation and/or cost did not increase this way, we'd need to model the segment transition logic. "
   ]
  },
  {
   "cell_type": "code",
   "execution_count": null,
   "id": "ba279502-f95d-4e1a-9360-fd5b319e7a1e",
   "metadata": {},
   "outputs": [],
   "source": []
  }
 ],
 "metadata": {
  "kernelspec": {
   "display_name": "Python 3 (ipykernel)",
   "language": "python",
   "name": "python3"
  },
  "language_info": {
   "codemirror_mode": {
    "name": "ipython",
    "version": 3
   },
   "file_extension": ".py",
   "mimetype": "text/x-python",
   "name": "python",
   "nbconvert_exporter": "python",
   "pygments_lexer": "ipython3",
   "version": "3.11.5"
  }
 },
 "nbformat": 4,
 "nbformat_minor": 5
}
